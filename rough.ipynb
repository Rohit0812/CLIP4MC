{
 "cells": [
  {
   "cell_type": "code",
   "execution_count": 3,
   "metadata": {},
   "outputs": [
    {
     "name": "stderr",
     "output_type": "stream",
     "text": [
      "c:\\D\\miniconda\\envs\\clip4mc\\lib\\site-packages\\tqdm\\auto.py:21: TqdmWarning: IProgress not found. Please update jupyter and ipywidgets. See https://ipywidgets.readthedocs.io/en/stable/user_install.html\n",
      "  from .autonotebook import tqdm as notebook_tqdm\n"
     ]
    }
   ],
   "source": [
    "from datasets import load_dataset, load_from_disk\n",
    "\n",
    "ds = load_from_disk(\"./dataset/\")\n",
    "#ds = load_dataset(\"AnonymousUserCLIP4MC/CLIP4MC\")"
   ]
  },
  {
   "cell_type": "code",
   "execution_count": null,
   "metadata": {},
   "outputs": [],
   "source": [
    "ds.save_to_disk(\"./dataset/\")"
   ]
  },
  {
   "cell_type": "code",
   "execution_count": 2,
   "metadata": {},
   "outputs": [
    {
     "data": {
      "text/plain": [
       "{'vid': '-1ZE5GOu9_Y',\n",
       " 'size': [0.41875,\n",
       "  0.4375,\n",
       "  0.43125,\n",
       "  0.4625,\n",
       "  0.45,\n",
       "  0.45625000000000004,\n",
       "  0.45625000000000004,\n",
       "  0.4625,\n",
       "  0.4625,\n",
       "  0.4625,\n",
       "  0.4625,\n",
       "  0.4625,\n",
       "  0.4625,\n",
       "  0.4625,\n",
       "  0.4625,\n",
       "  0.4625],\n",
       " 'transcript clip': 'i do not even know if the people who baked the cake leant to the minecraft cake or if this minecraft cake maybe came out of this picture .',\n",
       " 'begin position': 64.8,\n",
       " 'end position': 68.0}"
      ]
     },
     "execution_count": 2,
     "metadata": {},
     "output_type": "execute_result"
    }
   ],
   "source": [
    "ds['train'][0]"
   ]
  },
  {
   "cell_type": "code",
   "execution_count": null,
   "metadata": {},
   "outputs": [],
   "source": []
  },
  {
   "cell_type": "code",
   "execution_count": 3,
   "metadata": {},
   "outputs": [
    {
     "name": "stdout",
     "output_type": "stream",
     "text": [
      "[youtube] Extracting URL: https://www.youtube.com/watch?v=TIRzniTsh8Q\n",
      "[youtube] TIRzniTsh8Q: Downloading webpage\n",
      "[youtube] TIRzniTsh8Q: Downloading tv client config\n",
      "[youtube] TIRzniTsh8Q: Downloading player 6b3caec8\n",
      "[youtube] TIRzniTsh8Q: Downloading tv player API JSON\n",
      "[youtube] TIRzniTsh8Q: Downloading ios player API JSON\n",
      "[youtube] TIRzniTsh8Q: Downloading m3u8 information\n",
      "[info] TIRzniTsh8Q: Downloading 1 format(s): 137+140\n",
      "[download] Destination: temp_video.f137.mp4\n",
      "[download]  11.5% of  576.74MiB at    5.36MiB/s ETA 01:35  "
     ]
    },
    {
     "ename": "KeyboardInterrupt",
     "evalue": "",
     "output_type": "error",
     "traceback": [
      "\u001b[1;31m---------------------------------------------------------------------------\u001b[0m",
      "\u001b[1;31mKeyboardInterrupt\u001b[0m                         Traceback (most recent call last)",
      "Cell \u001b[1;32mIn[3], line 18\u001b[0m\n\u001b[0;32m     11\u001b[0m ydl_opts \u001b[38;5;241m=\u001b[39m {\n\u001b[0;32m     12\u001b[0m     \u001b[38;5;66;03m#'format': 'bestvideo',\u001b[39;00m\n\u001b[0;32m     13\u001b[0m     \u001b[38;5;124m\"\u001b[39m\u001b[38;5;124mdownload_sections\u001b[39m\u001b[38;5;124m\"\u001b[39m: { \u001b[38;5;124m\"\u001b[39m\u001b[38;5;124m*\u001b[39m\u001b[38;5;124m\"\u001b[39m: [(\u001b[38;5;241m10\u001b[39m, \u001b[38;5;241m30\u001b[39m)] },\n\u001b[0;32m     14\u001b[0m     \u001b[38;5;124m'\u001b[39m\u001b[38;5;124mouttmpl\u001b[39m\u001b[38;5;124m'\u001b[39m: \u001b[38;5;124m'\u001b[39m\u001b[38;5;124mtemp_video.mp4\u001b[39m\u001b[38;5;124m'\u001b[39m,  \u001b[38;5;66;03m# Save video temporarily\u001b[39;00m\n\u001b[0;32m     15\u001b[0m }\n\u001b[0;32m     17\u001b[0m \u001b[38;5;28;01mwith\u001b[39;00m yt_dlp\u001b[38;5;241m.\u001b[39mYoutubeDL(ydl_opts) \u001b[38;5;28;01mas\u001b[39;00m ydl:\n\u001b[1;32m---> 18\u001b[0m     \u001b[43mydl\u001b[49m\u001b[38;5;241;43m.\u001b[39;49m\u001b[43mdownload\u001b[49m\u001b[43m(\u001b[49m\u001b[43m[\u001b[49m\u001b[43mvideo_url\u001b[49m\u001b[43m]\u001b[49m\u001b[43m)\u001b[49m\n\u001b[0;32m     19\u001b[0m \u001b[38;5;124;03m\"\"\"\u001b[39;00m\n\u001b[0;32m     20\u001b[0m \u001b[38;5;124;03m# Read video and extract frames\u001b[39;00m\n\u001b[0;32m     21\u001b[0m \u001b[38;5;124;03mframes = []\u001b[39;00m\n\u001b[1;32m   (...)\u001b[0m\n\u001b[0;32m     37\u001b[0m \u001b[38;5;124;03mprint(f\"Extracted {len(frames)} frames and saved in 'video_frames.pkl'\")\u001b[39;00m\n\u001b[0;32m     38\u001b[0m \u001b[38;5;124;03m\"\"\"\u001b[39;00m\n",
      "File \u001b[1;32mc:\\D\\miniconda\\envs\\clip4mc\\lib\\site-packages\\yt_dlp\\YoutubeDL.py:3618\u001b[0m, in \u001b[0;36mYoutubeDL.download\u001b[1;34m(self, url_list)\u001b[0m\n\u001b[0;32m   3615\u001b[0m     \u001b[38;5;28;01mraise\u001b[39;00m SameFileError(outtmpl)\n\u001b[0;32m   3617\u001b[0m \u001b[38;5;28;01mfor\u001b[39;00m url \u001b[38;5;129;01min\u001b[39;00m url_list:\n\u001b[1;32m-> 3618\u001b[0m     \u001b[38;5;28;43mself\u001b[39;49m\u001b[38;5;241;43m.\u001b[39;49m\u001b[43m__download_wrapper\u001b[49m\u001b[43m(\u001b[49m\u001b[38;5;28;43mself\u001b[39;49m\u001b[38;5;241;43m.\u001b[39;49m\u001b[43mextract_info\u001b[49m\u001b[43m)\u001b[49m\u001b[43m(\u001b[49m\n\u001b[0;32m   3619\u001b[0m \u001b[43m        \u001b[49m\u001b[43murl\u001b[49m\u001b[43m,\u001b[49m\u001b[43m \u001b[49m\u001b[43mforce_generic_extractor\u001b[49m\u001b[38;5;241;43m=\u001b[39;49m\u001b[38;5;28;43mself\u001b[39;49m\u001b[38;5;241;43m.\u001b[39;49m\u001b[43mparams\u001b[49m\u001b[38;5;241;43m.\u001b[39;49m\u001b[43mget\u001b[49m\u001b[43m(\u001b[49m\u001b[38;5;124;43m'\u001b[39;49m\u001b[38;5;124;43mforce_generic_extractor\u001b[39;49m\u001b[38;5;124;43m'\u001b[39;49m\u001b[43m,\u001b[49m\u001b[43m \u001b[49m\u001b[38;5;28;43;01mFalse\u001b[39;49;00m\u001b[43m)\u001b[49m\u001b[43m)\u001b[49m\n\u001b[0;32m   3621\u001b[0m \u001b[38;5;28;01mreturn\u001b[39;00m \u001b[38;5;28mself\u001b[39m\u001b[38;5;241m.\u001b[39m_download_retcode\n",
      "File \u001b[1;32mc:\\D\\miniconda\\envs\\clip4mc\\lib\\site-packages\\yt_dlp\\YoutubeDL.py:3591\u001b[0m, in \u001b[0;36mYoutubeDL.__download_wrapper.<locals>.wrapper\u001b[1;34m(*args, **kwargs)\u001b[0m\n\u001b[0;32m   3588\u001b[0m \u001b[38;5;129m@functools\u001b[39m\u001b[38;5;241m.\u001b[39mwraps(func)\n\u001b[0;32m   3589\u001b[0m \u001b[38;5;28;01mdef\u001b[39;00m\u001b[38;5;250m \u001b[39m\u001b[38;5;21mwrapper\u001b[39m(\u001b[38;5;241m*\u001b[39margs, \u001b[38;5;241m*\u001b[39m\u001b[38;5;241m*\u001b[39mkwargs):\n\u001b[0;32m   3590\u001b[0m     \u001b[38;5;28;01mtry\u001b[39;00m:\n\u001b[1;32m-> 3591\u001b[0m         res \u001b[38;5;241m=\u001b[39m func(\u001b[38;5;241m*\u001b[39margs, \u001b[38;5;241m*\u001b[39m\u001b[38;5;241m*\u001b[39mkwargs)\n\u001b[0;32m   3592\u001b[0m     \u001b[38;5;28;01mexcept\u001b[39;00m CookieLoadError:\n\u001b[0;32m   3593\u001b[0m         \u001b[38;5;28;01mraise\u001b[39;00m\n",
      "File \u001b[1;32mc:\\D\\miniconda\\envs\\clip4mc\\lib\\site-packages\\yt_dlp\\YoutubeDL.py:1626\u001b[0m, in \u001b[0;36mYoutubeDL.extract_info\u001b[1;34m(self, url, download, ie_key, extra_info, process, force_generic_extractor)\u001b[0m\n\u001b[0;32m   1624\u001b[0m             \u001b[38;5;28;01mraise\u001b[39;00m ExistingVideoReached\n\u001b[0;32m   1625\u001b[0m         \u001b[38;5;28;01mbreak\u001b[39;00m\n\u001b[1;32m-> 1626\u001b[0m     \u001b[38;5;28;01mreturn\u001b[39;00m \u001b[38;5;28;43mself\u001b[39;49m\u001b[38;5;241;43m.\u001b[39;49m\u001b[43m__extract_info\u001b[49m\u001b[43m(\u001b[49m\u001b[43murl\u001b[49m\u001b[43m,\u001b[49m\u001b[43m \u001b[49m\u001b[38;5;28;43mself\u001b[39;49m\u001b[38;5;241;43m.\u001b[39;49m\u001b[43mget_info_extractor\u001b[49m\u001b[43m(\u001b[49m\u001b[43mkey\u001b[49m\u001b[43m)\u001b[49m\u001b[43m,\u001b[49m\u001b[43m \u001b[49m\u001b[43mdownload\u001b[49m\u001b[43m,\u001b[49m\u001b[43m \u001b[49m\u001b[43mextra_info\u001b[49m\u001b[43m,\u001b[49m\u001b[43m \u001b[49m\u001b[43mprocess\u001b[49m\u001b[43m)\u001b[49m\n\u001b[0;32m   1627\u001b[0m \u001b[38;5;28;01melse\u001b[39;00m:\n\u001b[0;32m   1628\u001b[0m     extractors_restricted \u001b[38;5;241m=\u001b[39m \u001b[38;5;28mself\u001b[39m\u001b[38;5;241m.\u001b[39mparams\u001b[38;5;241m.\u001b[39mget(\u001b[38;5;124m'\u001b[39m\u001b[38;5;124mallowed_extractors\u001b[39m\u001b[38;5;124m'\u001b[39m) \u001b[38;5;129;01mnot\u001b[39;00m \u001b[38;5;129;01min\u001b[39;00m (\u001b[38;5;28;01mNone\u001b[39;00m, [\u001b[38;5;124m'\u001b[39m\u001b[38;5;124mdefault\u001b[39m\u001b[38;5;124m'\u001b[39m])\n",
      "File \u001b[1;32mc:\\D\\miniconda\\envs\\clip4mc\\lib\\site-packages\\yt_dlp\\YoutubeDL.py:1637\u001b[0m, in \u001b[0;36mYoutubeDL._handle_extraction_exceptions.<locals>.wrapper\u001b[1;34m(self, *args, **kwargs)\u001b[0m\n\u001b[0;32m   1635\u001b[0m \u001b[38;5;28;01mwhile\u001b[39;00m \u001b[38;5;28;01mTrue\u001b[39;00m:\n\u001b[0;32m   1636\u001b[0m     \u001b[38;5;28;01mtry\u001b[39;00m:\n\u001b[1;32m-> 1637\u001b[0m         \u001b[38;5;28;01mreturn\u001b[39;00m func(\u001b[38;5;28mself\u001b[39m, \u001b[38;5;241m*\u001b[39margs, \u001b[38;5;241m*\u001b[39m\u001b[38;5;241m*\u001b[39mkwargs)\n\u001b[0;32m   1638\u001b[0m     \u001b[38;5;28;01mexcept\u001b[39;00m (CookieLoadError, DownloadCancelled, LazyList\u001b[38;5;241m.\u001b[39mIndexError, PagedList\u001b[38;5;241m.\u001b[39mIndexError):\n\u001b[0;32m   1639\u001b[0m         \u001b[38;5;28;01mraise\u001b[39;00m\n",
      "File \u001b[1;32mc:\\D\\miniconda\\envs\\clip4mc\\lib\\site-packages\\yt_dlp\\YoutubeDL.py:1793\u001b[0m, in \u001b[0;36mYoutubeDL.__extract_info\u001b[1;34m(self, url, ie, download, extra_info, process)\u001b[0m\n\u001b[0;32m   1791\u001b[0m \u001b[38;5;28;01mif\u001b[39;00m process:\n\u001b[0;32m   1792\u001b[0m     \u001b[38;5;28mself\u001b[39m\u001b[38;5;241m.\u001b[39m_wait_for_video(ie_result)\n\u001b[1;32m-> 1793\u001b[0m     \u001b[38;5;28;01mreturn\u001b[39;00m \u001b[38;5;28;43mself\u001b[39;49m\u001b[38;5;241;43m.\u001b[39;49m\u001b[43mprocess_ie_result\u001b[49m\u001b[43m(\u001b[49m\u001b[43mie_result\u001b[49m\u001b[43m,\u001b[49m\u001b[43m \u001b[49m\u001b[43mdownload\u001b[49m\u001b[43m,\u001b[49m\u001b[43m \u001b[49m\u001b[43mextra_info\u001b[49m\u001b[43m)\u001b[49m\n\u001b[0;32m   1794\u001b[0m \u001b[38;5;28;01melse\u001b[39;00m:\n\u001b[0;32m   1795\u001b[0m     \u001b[38;5;28;01mreturn\u001b[39;00m ie_result\n",
      "File \u001b[1;32mc:\\D\\miniconda\\envs\\clip4mc\\lib\\site-packages\\yt_dlp\\YoutubeDL.py:1852\u001b[0m, in \u001b[0;36mYoutubeDL.process_ie_result\u001b[1;34m(self, ie_result, download, extra_info)\u001b[0m\n\u001b[0;32m   1850\u001b[0m \u001b[38;5;28;01mif\u001b[39;00m result_type \u001b[38;5;241m==\u001b[39m \u001b[38;5;124m'\u001b[39m\u001b[38;5;124mvideo\u001b[39m\u001b[38;5;124m'\u001b[39m:\n\u001b[0;32m   1851\u001b[0m     \u001b[38;5;28mself\u001b[39m\u001b[38;5;241m.\u001b[39madd_extra_info(ie_result, extra_info)\n\u001b[1;32m-> 1852\u001b[0m     ie_result \u001b[38;5;241m=\u001b[39m \u001b[38;5;28;43mself\u001b[39;49m\u001b[38;5;241;43m.\u001b[39;49m\u001b[43mprocess_video_result\u001b[49m\u001b[43m(\u001b[49m\u001b[43mie_result\u001b[49m\u001b[43m,\u001b[49m\u001b[43m \u001b[49m\u001b[43mdownload\u001b[49m\u001b[38;5;241;43m=\u001b[39;49m\u001b[43mdownload\u001b[49m\u001b[43m)\u001b[49m\n\u001b[0;32m   1853\u001b[0m     \u001b[38;5;28mself\u001b[39m\u001b[38;5;241m.\u001b[39m_raise_pending_errors(ie_result)\n\u001b[0;32m   1854\u001b[0m     additional_urls \u001b[38;5;241m=\u001b[39m (ie_result \u001b[38;5;129;01mor\u001b[39;00m {})\u001b[38;5;241m.\u001b[39mget(\u001b[38;5;124m'\u001b[39m\u001b[38;5;124madditional_urls\u001b[39m\u001b[38;5;124m'\u001b[39m)\n",
      "File \u001b[1;32mc:\\D\\miniconda\\envs\\clip4mc\\lib\\site-packages\\yt_dlp\\YoutubeDL.py:3024\u001b[0m, in \u001b[0;36mYoutubeDL.process_video_result\u001b[1;34m(self, info_dict, download)\u001b[0m\n\u001b[0;32m   3022\u001b[0m downloaded_formats\u001b[38;5;241m.\u001b[39mappend(new_info)\n\u001b[0;32m   3023\u001b[0m \u001b[38;5;28;01mtry\u001b[39;00m:\n\u001b[1;32m-> 3024\u001b[0m     \u001b[38;5;28;43mself\u001b[39;49m\u001b[38;5;241;43m.\u001b[39;49m\u001b[43mprocess_info\u001b[49m\u001b[43m(\u001b[49m\u001b[43mnew_info\u001b[49m\u001b[43m)\u001b[49m\n\u001b[0;32m   3025\u001b[0m \u001b[38;5;28;01mexcept\u001b[39;00m MaxDownloadsReached:\n\u001b[0;32m   3026\u001b[0m     max_downloads_reached \u001b[38;5;241m=\u001b[39m \u001b[38;5;28;01mTrue\u001b[39;00m\n",
      "File \u001b[1;32mc:\\D\\miniconda\\envs\\clip4mc\\lib\\site-packages\\yt_dlp\\YoutubeDL.py:177\u001b[0m, in \u001b[0;36m_catch_unsafe_extension_error.<locals>.wrapper\u001b[1;34m(self, *args, **kwargs)\u001b[0m\n\u001b[0;32m    174\u001b[0m \u001b[38;5;129m@functools\u001b[39m\u001b[38;5;241m.\u001b[39mwraps(func)\n\u001b[0;32m    175\u001b[0m \u001b[38;5;28;01mdef\u001b[39;00m\u001b[38;5;250m \u001b[39m\u001b[38;5;21mwrapper\u001b[39m(\u001b[38;5;28mself\u001b[39m, \u001b[38;5;241m*\u001b[39margs, \u001b[38;5;241m*\u001b[39m\u001b[38;5;241m*\u001b[39mkwargs):\n\u001b[0;32m    176\u001b[0m     \u001b[38;5;28;01mtry\u001b[39;00m:\n\u001b[1;32m--> 177\u001b[0m         \u001b[38;5;28;01mreturn\u001b[39;00m func(\u001b[38;5;28mself\u001b[39m, \u001b[38;5;241m*\u001b[39margs, \u001b[38;5;241m*\u001b[39m\u001b[38;5;241m*\u001b[39mkwargs)\n\u001b[0;32m    178\u001b[0m     \u001b[38;5;28;01mexcept\u001b[39;00m _UnsafeExtensionError \u001b[38;5;28;01mas\u001b[39;00m error:\n\u001b[0;32m    179\u001b[0m         \u001b[38;5;28mself\u001b[39m\u001b[38;5;241m.\u001b[39mreport_error(\n\u001b[0;32m    180\u001b[0m             \u001b[38;5;124mf\u001b[39m\u001b[38;5;124m'\u001b[39m\u001b[38;5;124mThe extracted extension (\u001b[39m\u001b[38;5;132;01m{\u001b[39;00merror\u001b[38;5;241m.\u001b[39mextension\u001b[38;5;132;01m!r}\u001b[39;00m\u001b[38;5;124m) is unusual \u001b[39m\u001b[38;5;124m'\u001b[39m\n\u001b[0;32m    181\u001b[0m             \u001b[38;5;124m'\u001b[39m\u001b[38;5;124mand will be skipped for safety reasons. \u001b[39m\u001b[38;5;124m'\u001b[39m\n\u001b[0;32m    182\u001b[0m             \u001b[38;5;124mf\u001b[39m\u001b[38;5;124m'\u001b[39m\u001b[38;5;124mIf you believe this is an error\u001b[39m\u001b[38;5;132;01m{\u001b[39;00mbug_reports_message(\u001b[38;5;124m\"\u001b[39m\u001b[38;5;124m,\u001b[39m\u001b[38;5;124m\"\u001b[39m)\u001b[38;5;132;01m}\u001b[39;00m\u001b[38;5;124m'\u001b[39m)\n",
      "File \u001b[1;32mc:\\D\\miniconda\\envs\\clip4mc\\lib\\site-packages\\yt_dlp\\YoutubeDL.py:3474\u001b[0m, in \u001b[0;36mYoutubeDL.process_info\u001b[1;34m(self, info_dict)\u001b[0m\n\u001b[0;32m   3472\u001b[0m     f[\u001b[38;5;124m'\u001b[39m\u001b[38;5;124mfilepath\u001b[39m\u001b[38;5;124m'\u001b[39m] \u001b[38;5;241m=\u001b[39m fname\n\u001b[0;32m   3473\u001b[0m     downloaded\u001b[38;5;241m.\u001b[39mappend(fname)\n\u001b[1;32m-> 3474\u001b[0m partial_success, real_download \u001b[38;5;241m=\u001b[39m \u001b[38;5;28;43mself\u001b[39;49m\u001b[38;5;241;43m.\u001b[39;49m\u001b[43mdl\u001b[49m\u001b[43m(\u001b[49m\u001b[43mfname\u001b[49m\u001b[43m,\u001b[49m\u001b[43m \u001b[49m\u001b[43mnew_info\u001b[49m\u001b[43m)\u001b[49m\n\u001b[0;32m   3475\u001b[0m info_dict[\u001b[38;5;124m'\u001b[39m\u001b[38;5;124m__real_download\u001b[39m\u001b[38;5;124m'\u001b[39m] \u001b[38;5;241m=\u001b[39m info_dict[\u001b[38;5;124m'\u001b[39m\u001b[38;5;124m__real_download\u001b[39m\u001b[38;5;124m'\u001b[39m] \u001b[38;5;129;01mor\u001b[39;00m real_download\n\u001b[0;32m   3476\u001b[0m success \u001b[38;5;241m=\u001b[39m success \u001b[38;5;129;01mand\u001b[39;00m partial_success\n",
      "File \u001b[1;32mc:\\D\\miniconda\\envs\\clip4mc\\lib\\site-packages\\yt_dlp\\YoutubeDL.py:3212\u001b[0m, in \u001b[0;36mYoutubeDL.dl\u001b[1;34m(self, name, info, subtitle, test)\u001b[0m\n\u001b[0;32m   3210\u001b[0m \u001b[38;5;28;01mif\u001b[39;00m new_info\u001b[38;5;241m.\u001b[39mget(\u001b[38;5;124m'\u001b[39m\u001b[38;5;124mhttp_headers\u001b[39m\u001b[38;5;124m'\u001b[39m) \u001b[38;5;129;01mis\u001b[39;00m \u001b[38;5;28;01mNone\u001b[39;00m:\n\u001b[0;32m   3211\u001b[0m     new_info[\u001b[38;5;124m'\u001b[39m\u001b[38;5;124mhttp_headers\u001b[39m\u001b[38;5;124m'\u001b[39m] \u001b[38;5;241m=\u001b[39m \u001b[38;5;28mself\u001b[39m\u001b[38;5;241m.\u001b[39m_calc_headers(new_info)\n\u001b[1;32m-> 3212\u001b[0m \u001b[38;5;28;01mreturn\u001b[39;00m \u001b[43mfd\u001b[49m\u001b[38;5;241;43m.\u001b[39;49m\u001b[43mdownload\u001b[49m\u001b[43m(\u001b[49m\u001b[43mname\u001b[49m\u001b[43m,\u001b[49m\u001b[43m \u001b[49m\u001b[43mnew_info\u001b[49m\u001b[43m,\u001b[49m\u001b[43m \u001b[49m\u001b[43msubtitle\u001b[49m\u001b[43m)\u001b[49m\n",
      "File \u001b[1;32mc:\\D\\miniconda\\envs\\clip4mc\\lib\\site-packages\\yt_dlp\\downloader\\common.py:464\u001b[0m, in \u001b[0;36mFileDownloader.download\u001b[1;34m(self, filename, info_dict, subtitle)\u001b[0m\n\u001b[0;32m    461\u001b[0m     \u001b[38;5;28mself\u001b[39m\u001b[38;5;241m.\u001b[39mto_screen(\u001b[38;5;124mf\u001b[39m\u001b[38;5;124m'\u001b[39m\u001b[38;5;124m[download] Sleeping \u001b[39m\u001b[38;5;132;01m{\u001b[39;00msleep_interval\u001b[38;5;132;01m:\u001b[39;00m\u001b[38;5;124m.2f\u001b[39m\u001b[38;5;132;01m}\u001b[39;00m\u001b[38;5;124m seconds ...\u001b[39m\u001b[38;5;124m'\u001b[39m)\n\u001b[0;32m    462\u001b[0m     time\u001b[38;5;241m.\u001b[39msleep(sleep_interval)\n\u001b[1;32m--> 464\u001b[0m ret \u001b[38;5;241m=\u001b[39m \u001b[38;5;28;43mself\u001b[39;49m\u001b[38;5;241;43m.\u001b[39;49m\u001b[43mreal_download\u001b[49m\u001b[43m(\u001b[49m\u001b[43mfilename\u001b[49m\u001b[43m,\u001b[49m\u001b[43m \u001b[49m\u001b[43minfo_dict\u001b[49m\u001b[43m)\u001b[49m\n\u001b[0;32m    465\u001b[0m \u001b[38;5;28mself\u001b[39m\u001b[38;5;241m.\u001b[39m_finish_multiline_status()\n\u001b[0;32m    466\u001b[0m \u001b[38;5;28;01mreturn\u001b[39;00m ret, \u001b[38;5;28;01mTrue\u001b[39;00m\n",
      "File \u001b[1;32mc:\\D\\miniconda\\envs\\clip4mc\\lib\\site-packages\\yt_dlp\\downloader\\http.py:368\u001b[0m, in \u001b[0;36mHttpFD.real_download\u001b[1;34m(self, filename, info_dict)\u001b[0m\n\u001b[0;32m    366\u001b[0m \u001b[38;5;28;01mtry\u001b[39;00m:\n\u001b[0;32m    367\u001b[0m     establish_connection()\n\u001b[1;32m--> 368\u001b[0m     \u001b[38;5;28;01mreturn\u001b[39;00m \u001b[43mdownload\u001b[49m\u001b[43m(\u001b[49m\u001b[43m)\u001b[49m\n\u001b[0;32m    369\u001b[0m \u001b[38;5;28;01mexcept\u001b[39;00m RetryDownload \u001b[38;5;28;01mas\u001b[39;00m err:\n\u001b[0;32m    370\u001b[0m     retry\u001b[38;5;241m.\u001b[39merror \u001b[38;5;241m=\u001b[39m err\u001b[38;5;241m.\u001b[39msource_error\n",
      "File \u001b[1;32mc:\\D\\miniconda\\envs\\clip4mc\\lib\\site-packages\\yt_dlp\\downloader\\http.py:250\u001b[0m, in \u001b[0;36mHttpFD.real_download.<locals>.download\u001b[1;34m()\u001b[0m\n\u001b[0;32m    247\u001b[0m \u001b[38;5;28;01mwhile\u001b[39;00m \u001b[38;5;28;01mTrue\u001b[39;00m:\n\u001b[0;32m    248\u001b[0m     \u001b[38;5;28;01mtry\u001b[39;00m:\n\u001b[0;32m    249\u001b[0m         \u001b[38;5;66;03m# Download and write\u001b[39;00m\n\u001b[1;32m--> 250\u001b[0m         data_block \u001b[38;5;241m=\u001b[39m \u001b[43mctx\u001b[49m\u001b[38;5;241;43m.\u001b[39;49m\u001b[43mdata\u001b[49m\u001b[38;5;241;43m.\u001b[39;49m\u001b[43mread\u001b[49m\u001b[43m(\u001b[49m\u001b[43mblock_size\u001b[49m\u001b[43m \u001b[49m\u001b[38;5;28;43;01mif\u001b[39;49;00m\u001b[43m \u001b[49m\u001b[38;5;129;43;01mnot\u001b[39;49;00m\u001b[43m \u001b[49m\u001b[43mis_test\u001b[49m\u001b[43m \u001b[49m\u001b[38;5;28;43;01melse\u001b[39;49;00m\u001b[43m \u001b[49m\u001b[38;5;28;43mmin\u001b[39;49m\u001b[43m(\u001b[49m\u001b[43mblock_size\u001b[49m\u001b[43m,\u001b[49m\u001b[43m \u001b[49m\u001b[43mdata_len\u001b[49m\u001b[43m \u001b[49m\u001b[38;5;241;43m-\u001b[39;49m\u001b[43m \u001b[49m\u001b[43mbyte_counter\u001b[49m\u001b[43m)\u001b[49m\u001b[43m)\u001b[49m\n\u001b[0;32m    251\u001b[0m     \u001b[38;5;28;01mexcept\u001b[39;00m TransportError \u001b[38;5;28;01mas\u001b[39;00m err:\n\u001b[0;32m    252\u001b[0m         retry(err)\n",
      "File \u001b[1;32mc:\\D\\miniconda\\envs\\clip4mc\\lib\\site-packages\\yt_dlp\\networking\\_requests.py:143\u001b[0m, in \u001b[0;36mRequestsResponseAdapter.read\u001b[1;34m(self, amt)\u001b[0m\n\u001b[0;32m    140\u001b[0m \u001b[38;5;28;01mdef\u001b[39;00m\u001b[38;5;250m \u001b[39m\u001b[38;5;21mread\u001b[39m(\u001b[38;5;28mself\u001b[39m, amt: \u001b[38;5;28mint\u001b[39m \u001b[38;5;241m|\u001b[39m \u001b[38;5;28;01mNone\u001b[39;00m \u001b[38;5;241m=\u001b[39m \u001b[38;5;28;01mNone\u001b[39;00m):\n\u001b[0;32m    141\u001b[0m     \u001b[38;5;28;01mtry\u001b[39;00m:\n\u001b[0;32m    142\u001b[0m         \u001b[38;5;66;03m# Interact with urllib3 response directly.\u001b[39;00m\n\u001b[1;32m--> 143\u001b[0m         \u001b[38;5;28;01mreturn\u001b[39;00m \u001b[38;5;28;43mself\u001b[39;49m\u001b[38;5;241;43m.\u001b[39;49m\u001b[43mfp\u001b[49m\u001b[38;5;241;43m.\u001b[39;49m\u001b[43mread\u001b[49m\u001b[43m(\u001b[49m\u001b[43mamt\u001b[49m\u001b[43m,\u001b[49m\u001b[43m \u001b[49m\u001b[43mdecode_content\u001b[49m\u001b[38;5;241;43m=\u001b[39;49m\u001b[38;5;28;43;01mTrue\u001b[39;49;00m\u001b[43m)\u001b[49m\n\u001b[0;32m    145\u001b[0m     \u001b[38;5;66;03m# See urllib3.response.HTTPResponse.read() for exceptions raised on read\u001b[39;00m\n\u001b[0;32m    146\u001b[0m     \u001b[38;5;28;01mexcept\u001b[39;00m urllib3\u001b[38;5;241m.\u001b[39mexceptions\u001b[38;5;241m.\u001b[39mSSLError \u001b[38;5;28;01mas\u001b[39;00m e:\n",
      "File \u001b[1;32mc:\\D\\miniconda\\envs\\clip4mc\\lib\\site-packages\\urllib3\\response.py:955\u001b[0m, in \u001b[0;36mHTTPResponse.read\u001b[1;34m(self, amt, decode_content, cache_content)\u001b[0m\n\u001b[0;32m    952\u001b[0m     \u001b[38;5;28;01mif\u001b[39;00m \u001b[38;5;28mlen\u001b[39m(\u001b[38;5;28mself\u001b[39m\u001b[38;5;241m.\u001b[39m_decoded_buffer) \u001b[38;5;241m>\u001b[39m\u001b[38;5;241m=\u001b[39m amt:\n\u001b[0;32m    953\u001b[0m         \u001b[38;5;28;01mreturn\u001b[39;00m \u001b[38;5;28mself\u001b[39m\u001b[38;5;241m.\u001b[39m_decoded_buffer\u001b[38;5;241m.\u001b[39mget(amt)\n\u001b[1;32m--> 955\u001b[0m data \u001b[38;5;241m=\u001b[39m \u001b[38;5;28;43mself\u001b[39;49m\u001b[38;5;241;43m.\u001b[39;49m\u001b[43m_raw_read\u001b[49m\u001b[43m(\u001b[49m\u001b[43mamt\u001b[49m\u001b[43m)\u001b[49m\n\u001b[0;32m    957\u001b[0m flush_decoder \u001b[38;5;241m=\u001b[39m amt \u001b[38;5;129;01mis\u001b[39;00m \u001b[38;5;28;01mNone\u001b[39;00m \u001b[38;5;129;01mor\u001b[39;00m (amt \u001b[38;5;241m!=\u001b[39m \u001b[38;5;241m0\u001b[39m \u001b[38;5;129;01mand\u001b[39;00m \u001b[38;5;129;01mnot\u001b[39;00m data)\n\u001b[0;32m    959\u001b[0m \u001b[38;5;28;01mif\u001b[39;00m \u001b[38;5;129;01mnot\u001b[39;00m data \u001b[38;5;129;01mand\u001b[39;00m \u001b[38;5;28mlen\u001b[39m(\u001b[38;5;28mself\u001b[39m\u001b[38;5;241m.\u001b[39m_decoded_buffer) \u001b[38;5;241m==\u001b[39m \u001b[38;5;241m0\u001b[39m:\n",
      "File \u001b[1;32mc:\\D\\miniconda\\envs\\clip4mc\\lib\\site-packages\\urllib3\\response.py:879\u001b[0m, in \u001b[0;36mHTTPResponse._raw_read\u001b[1;34m(self, amt, read1)\u001b[0m\n\u001b[0;32m    876\u001b[0m fp_closed \u001b[38;5;241m=\u001b[39m \u001b[38;5;28mgetattr\u001b[39m(\u001b[38;5;28mself\u001b[39m\u001b[38;5;241m.\u001b[39m_fp, \u001b[38;5;124m\"\u001b[39m\u001b[38;5;124mclosed\u001b[39m\u001b[38;5;124m\"\u001b[39m, \u001b[38;5;28;01mFalse\u001b[39;00m)\n\u001b[0;32m    878\u001b[0m \u001b[38;5;28;01mwith\u001b[39;00m \u001b[38;5;28mself\u001b[39m\u001b[38;5;241m.\u001b[39m_error_catcher():\n\u001b[1;32m--> 879\u001b[0m     data \u001b[38;5;241m=\u001b[39m \u001b[38;5;28;43mself\u001b[39;49m\u001b[38;5;241;43m.\u001b[39;49m\u001b[43m_fp_read\u001b[49m\u001b[43m(\u001b[49m\u001b[43mamt\u001b[49m\u001b[43m,\u001b[49m\u001b[43m \u001b[49m\u001b[43mread1\u001b[49m\u001b[38;5;241;43m=\u001b[39;49m\u001b[43mread1\u001b[49m\u001b[43m)\u001b[49m \u001b[38;5;28;01mif\u001b[39;00m \u001b[38;5;129;01mnot\u001b[39;00m fp_closed \u001b[38;5;28;01melse\u001b[39;00m \u001b[38;5;124mb\u001b[39m\u001b[38;5;124m\"\u001b[39m\u001b[38;5;124m\"\u001b[39m\n\u001b[0;32m    880\u001b[0m     \u001b[38;5;28;01mif\u001b[39;00m amt \u001b[38;5;129;01mis\u001b[39;00m \u001b[38;5;129;01mnot\u001b[39;00m \u001b[38;5;28;01mNone\u001b[39;00m \u001b[38;5;129;01mand\u001b[39;00m amt \u001b[38;5;241m!=\u001b[39m \u001b[38;5;241m0\u001b[39m \u001b[38;5;129;01mand\u001b[39;00m \u001b[38;5;129;01mnot\u001b[39;00m data:\n\u001b[0;32m    881\u001b[0m         \u001b[38;5;66;03m# Platform-specific: Buggy versions of Python.\u001b[39;00m\n\u001b[0;32m    882\u001b[0m         \u001b[38;5;66;03m# Close the connection when no data is returned\u001b[39;00m\n\u001b[1;32m   (...)\u001b[0m\n\u001b[0;32m    887\u001b[0m         \u001b[38;5;66;03m# not properly close the connection in all cases. There is\u001b[39;00m\n\u001b[0;32m    888\u001b[0m         \u001b[38;5;66;03m# no harm in redundantly calling close.\u001b[39;00m\n\u001b[0;32m    889\u001b[0m         \u001b[38;5;28mself\u001b[39m\u001b[38;5;241m.\u001b[39m_fp\u001b[38;5;241m.\u001b[39mclose()\n",
      "File \u001b[1;32mc:\\D\\miniconda\\envs\\clip4mc\\lib\\site-packages\\urllib3\\response.py:862\u001b[0m, in \u001b[0;36mHTTPResponse._fp_read\u001b[1;34m(self, amt, read1)\u001b[0m\n\u001b[0;32m    859\u001b[0m     \u001b[38;5;28;01mreturn\u001b[39;00m \u001b[38;5;28mself\u001b[39m\u001b[38;5;241m.\u001b[39m_fp\u001b[38;5;241m.\u001b[39mread1(amt) \u001b[38;5;28;01mif\u001b[39;00m amt \u001b[38;5;129;01mis\u001b[39;00m \u001b[38;5;129;01mnot\u001b[39;00m \u001b[38;5;28;01mNone\u001b[39;00m \u001b[38;5;28;01melse\u001b[39;00m \u001b[38;5;28mself\u001b[39m\u001b[38;5;241m.\u001b[39m_fp\u001b[38;5;241m.\u001b[39mread1()\n\u001b[0;32m    860\u001b[0m \u001b[38;5;28;01melse\u001b[39;00m:\n\u001b[0;32m    861\u001b[0m     \u001b[38;5;66;03m# StringIO doesn't like amt=None\u001b[39;00m\n\u001b[1;32m--> 862\u001b[0m     \u001b[38;5;28;01mreturn\u001b[39;00m \u001b[38;5;28;43mself\u001b[39;49m\u001b[38;5;241;43m.\u001b[39;49m\u001b[43m_fp\u001b[49m\u001b[38;5;241;43m.\u001b[39;49m\u001b[43mread\u001b[49m\u001b[43m(\u001b[49m\u001b[43mamt\u001b[49m\u001b[43m)\u001b[49m \u001b[38;5;28;01mif\u001b[39;00m amt \u001b[38;5;129;01mis\u001b[39;00m \u001b[38;5;129;01mnot\u001b[39;00m \u001b[38;5;28;01mNone\u001b[39;00m \u001b[38;5;28;01melse\u001b[39;00m \u001b[38;5;28mself\u001b[39m\u001b[38;5;241m.\u001b[39m_fp\u001b[38;5;241m.\u001b[39mread()\n",
      "File \u001b[1;32mc:\\D\\miniconda\\envs\\clip4mc\\lib\\http\\client.py:463\u001b[0m, in \u001b[0;36mHTTPResponse.read\u001b[1;34m(self, amt)\u001b[0m\n\u001b[0;32m    460\u001b[0m \u001b[38;5;28;01mif\u001b[39;00m amt \u001b[38;5;129;01mis\u001b[39;00m \u001b[38;5;129;01mnot\u001b[39;00m \u001b[38;5;28;01mNone\u001b[39;00m:\n\u001b[0;32m    461\u001b[0m     \u001b[38;5;66;03m# Amount is given, implement using readinto\u001b[39;00m\n\u001b[0;32m    462\u001b[0m     b \u001b[38;5;241m=\u001b[39m \u001b[38;5;28mbytearray\u001b[39m(amt)\n\u001b[1;32m--> 463\u001b[0m     n \u001b[38;5;241m=\u001b[39m \u001b[38;5;28;43mself\u001b[39;49m\u001b[38;5;241;43m.\u001b[39;49m\u001b[43mreadinto\u001b[49m\u001b[43m(\u001b[49m\u001b[43mb\u001b[49m\u001b[43m)\u001b[49m\n\u001b[0;32m    464\u001b[0m     \u001b[38;5;28;01mreturn\u001b[39;00m \u001b[38;5;28mmemoryview\u001b[39m(b)[:n]\u001b[38;5;241m.\u001b[39mtobytes()\n\u001b[0;32m    465\u001b[0m \u001b[38;5;28;01melse\u001b[39;00m:\n\u001b[0;32m    466\u001b[0m     \u001b[38;5;66;03m# Amount is not given (unbounded read) so we must check self.length\u001b[39;00m\n\u001b[0;32m    467\u001b[0m     \u001b[38;5;66;03m# and self.chunked\u001b[39;00m\n",
      "File \u001b[1;32mc:\\D\\miniconda\\envs\\clip4mc\\lib\\http\\client.py:507\u001b[0m, in \u001b[0;36mHTTPResponse.readinto\u001b[1;34m(self, b)\u001b[0m\n\u001b[0;32m    502\u001b[0m         b \u001b[38;5;241m=\u001b[39m \u001b[38;5;28mmemoryview\u001b[39m(b)[\u001b[38;5;241m0\u001b[39m:\u001b[38;5;28mself\u001b[39m\u001b[38;5;241m.\u001b[39mlength]\n\u001b[0;32m    504\u001b[0m \u001b[38;5;66;03m# we do not use _safe_read() here because this may be a .will_close\u001b[39;00m\n\u001b[0;32m    505\u001b[0m \u001b[38;5;66;03m# connection, and the user is reading more bytes than will be provided\u001b[39;00m\n\u001b[0;32m    506\u001b[0m \u001b[38;5;66;03m# (for example, reading in 1k chunks)\u001b[39;00m\n\u001b[1;32m--> 507\u001b[0m n \u001b[38;5;241m=\u001b[39m \u001b[38;5;28;43mself\u001b[39;49m\u001b[38;5;241;43m.\u001b[39;49m\u001b[43mfp\u001b[49m\u001b[38;5;241;43m.\u001b[39;49m\u001b[43mreadinto\u001b[49m\u001b[43m(\u001b[49m\u001b[43mb\u001b[49m\u001b[43m)\u001b[49m\n\u001b[0;32m    508\u001b[0m \u001b[38;5;28;01mif\u001b[39;00m \u001b[38;5;129;01mnot\u001b[39;00m n \u001b[38;5;129;01mand\u001b[39;00m b:\n\u001b[0;32m    509\u001b[0m     \u001b[38;5;66;03m# Ideally, we would raise IncompleteRead if the content-length\u001b[39;00m\n\u001b[0;32m    510\u001b[0m     \u001b[38;5;66;03m# wasn't satisfied, but it might break compatibility.\u001b[39;00m\n\u001b[0;32m    511\u001b[0m     \u001b[38;5;28mself\u001b[39m\u001b[38;5;241m.\u001b[39m_close_conn()\n",
      "File \u001b[1;32mc:\\D\\miniconda\\envs\\clip4mc\\lib\\socket.py:716\u001b[0m, in \u001b[0;36mSocketIO.readinto\u001b[1;34m(self, b)\u001b[0m\n\u001b[0;32m    714\u001b[0m \u001b[38;5;28;01mwhile\u001b[39;00m \u001b[38;5;28;01mTrue\u001b[39;00m:\n\u001b[0;32m    715\u001b[0m     \u001b[38;5;28;01mtry\u001b[39;00m:\n\u001b[1;32m--> 716\u001b[0m         \u001b[38;5;28;01mreturn\u001b[39;00m \u001b[38;5;28;43mself\u001b[39;49m\u001b[38;5;241;43m.\u001b[39;49m\u001b[43m_sock\u001b[49m\u001b[38;5;241;43m.\u001b[39;49m\u001b[43mrecv_into\u001b[49m\u001b[43m(\u001b[49m\u001b[43mb\u001b[49m\u001b[43m)\u001b[49m\n\u001b[0;32m    717\u001b[0m     \u001b[38;5;28;01mexcept\u001b[39;00m timeout:\n\u001b[0;32m    718\u001b[0m         \u001b[38;5;28mself\u001b[39m\u001b[38;5;241m.\u001b[39m_timeout_occurred \u001b[38;5;241m=\u001b[39m \u001b[38;5;28;01mTrue\u001b[39;00m\n",
      "File \u001b[1;32mc:\\D\\miniconda\\envs\\clip4mc\\lib\\ssl.py:1275\u001b[0m, in \u001b[0;36mSSLSocket.recv_into\u001b[1;34m(self, buffer, nbytes, flags)\u001b[0m\n\u001b[0;32m   1271\u001b[0m     \u001b[38;5;28;01mif\u001b[39;00m flags \u001b[38;5;241m!=\u001b[39m \u001b[38;5;241m0\u001b[39m:\n\u001b[0;32m   1272\u001b[0m         \u001b[38;5;28;01mraise\u001b[39;00m \u001b[38;5;167;01mValueError\u001b[39;00m(\n\u001b[0;32m   1273\u001b[0m           \u001b[38;5;124m\"\u001b[39m\u001b[38;5;124mnon-zero flags not allowed in calls to recv_into() on \u001b[39m\u001b[38;5;132;01m%s\u001b[39;00m\u001b[38;5;124m\"\u001b[39m \u001b[38;5;241m%\u001b[39m\n\u001b[0;32m   1274\u001b[0m           \u001b[38;5;28mself\u001b[39m\u001b[38;5;241m.\u001b[39m\u001b[38;5;18m__class__\u001b[39m)\n\u001b[1;32m-> 1275\u001b[0m     \u001b[38;5;28;01mreturn\u001b[39;00m \u001b[38;5;28;43mself\u001b[39;49m\u001b[38;5;241;43m.\u001b[39;49m\u001b[43mread\u001b[49m\u001b[43m(\u001b[49m\u001b[43mnbytes\u001b[49m\u001b[43m,\u001b[49m\u001b[43m \u001b[49m\u001b[43mbuffer\u001b[49m\u001b[43m)\u001b[49m\n\u001b[0;32m   1276\u001b[0m \u001b[38;5;28;01melse\u001b[39;00m:\n\u001b[0;32m   1277\u001b[0m     \u001b[38;5;28;01mreturn\u001b[39;00m \u001b[38;5;28msuper\u001b[39m()\u001b[38;5;241m.\u001b[39mrecv_into(buffer, nbytes, flags)\n",
      "File \u001b[1;32mc:\\D\\miniconda\\envs\\clip4mc\\lib\\ssl.py:1133\u001b[0m, in \u001b[0;36mSSLSocket.read\u001b[1;34m(self, len, buffer)\u001b[0m\n\u001b[0;32m   1131\u001b[0m \u001b[38;5;28;01mtry\u001b[39;00m:\n\u001b[0;32m   1132\u001b[0m     \u001b[38;5;28;01mif\u001b[39;00m buffer \u001b[38;5;129;01mis\u001b[39;00m \u001b[38;5;129;01mnot\u001b[39;00m \u001b[38;5;28;01mNone\u001b[39;00m:\n\u001b[1;32m-> 1133\u001b[0m         \u001b[38;5;28;01mreturn\u001b[39;00m \u001b[38;5;28;43mself\u001b[39;49m\u001b[38;5;241;43m.\u001b[39;49m\u001b[43m_sslobj\u001b[49m\u001b[38;5;241;43m.\u001b[39;49m\u001b[43mread\u001b[49m\u001b[43m(\u001b[49m\u001b[38;5;28;43mlen\u001b[39;49m\u001b[43m,\u001b[49m\u001b[43m \u001b[49m\u001b[43mbuffer\u001b[49m\u001b[43m)\u001b[49m\n\u001b[0;32m   1134\u001b[0m     \u001b[38;5;28;01melse\u001b[39;00m:\n\u001b[0;32m   1135\u001b[0m         \u001b[38;5;28;01mreturn\u001b[39;00m \u001b[38;5;28mself\u001b[39m\u001b[38;5;241m.\u001b[39m_sslobj\u001b[38;5;241m.\u001b[39mread(\u001b[38;5;28mlen\u001b[39m)\n",
      "\u001b[1;31mKeyboardInterrupt\u001b[0m: "
     ]
    }
   ],
   "source": [
    "import pickle\n",
    "import yt_dlp\n",
    "import cv2\n",
    "import os\n",
    "\n",
    "video_url = \"https://www.youtube.com/watch?v=TIRzniTsh8Q\"\n",
    "output_path = \"./dataset/data_dir_0/video_input.pkl\" \n",
    "\n",
    "\n",
    "# Download video file\n",
    "ydl_opts = {\n",
    "    #'format': 'bestvideo',\n",
    "    \"download_sections\": { \"*\": [(10, 30)] },\n",
    "    'outtmpl': 'temp_video.mp4',  # Save video temporarily\n",
    "}\n",
    "\n",
    "with yt_dlp.YoutubeDL(ydl_opts) as ydl:\n",
    "    ydl.download([video_url])\n",
    "\"\"\"\n",
    "# Read video and extract frames\n",
    "frames = []\n",
    "cap = cv2.VideoCapture(\"temp_video.mp4\")\n",
    "while cap.isOpened():\n",
    "    ret, frame = cap.read()\n",
    "    if not ret:\n",
    "        break\n",
    "    frames.append(frame)\n",
    "cap.release()\n",
    "\n",
    "# Save frames as pickle\n",
    "with open(output_path, \"wb\") as f:\n",
    "    pickle.dump(frames, f)\n",
    "\n",
    "# Cleanup temporary video\n",
    "os.remove(\"temp_video.mp4\")\n",
    "\n",
    "print(f\"Extracted {len(frames)} frames and saved in 'video_frames.pkl'\")\n",
    "\"\"\"\n"
   ]
  },
  {
   "cell_type": "code",
   "execution_count": 4,
   "metadata": {},
   "outputs": [
    {
     "data": {
      "text/plain": [
       "'\\n# Define paths\\nvideo_url = \"https://www.youtube.com/watch?v=TIRzniTsh8Q\"\\ndownloaded_video = \"full_video.mp4\"\\nclipped_video = \"clipped_video.mp4\"\\npickle_output = \"./dataset/data_dir_0/video_input.pkl\"\\n\\n# Ensure output directory exists\\nos.makedirs(os.path.dirname(pickle_output), exist_ok=True)\\n\\n# Step 1: Download video\\ndownload_video(video_url, downloaded_video)\\n\\n# Step 2: Clip between 10s-30s\\nclip_video(downloaded_video, 10, 30, clipped_video)\\n\\n# Step 3: Save clipped video as pickle\\nsave_as_pickle(clipped_video, pickle_output)\\n\\n# Step 4: Delete videos.\\nos.remove(downloaded_video)\\nos.remove(clipped_video)\\n\\nprint(f\"Video clipped and saved as pickle: {pickle_output}\")\\n'"
      ]
     },
     "execution_count": 4,
     "metadata": {},
     "output_type": "execute_result"
    }
   ],
   "source": [
    "import numpy as np\n",
    "import yt_dlp\n",
    "import ffmpeg\n",
    "import pickle\n",
    "import os\n",
    "from transformers import AutoTokenizer\n",
    "\n",
    "tokenizer = AutoTokenizer.from_pretrained(\"openai/clip-vit-base-patch32\")\n",
    "\n",
    "def video_to_numpy(video_path):\n",
    "    cap = cv2.VideoCapture(video_path)\n",
    "    frames = []\n",
    "    \n",
    "    while cap.isOpened():\n",
    "        ret, frame = cap.read()\n",
    "        if not ret:\n",
    "            break\n",
    "        \n",
    "        # Resize frame to (160, 256)\n",
    "        frame = cv2.resize(frame, (256, 160), interpolation=cv2.INTER_AREA)\n",
    "\n",
    "        # Convert frame to (C, H, W) -> (3, 160, 256)\n",
    "        frame = np.transpose(frame, (2, 0, 1))\n",
    "        \n",
    "        frames.append(frame)\n",
    "    \n",
    "    cap.release()\n",
    "    return np.array(frames)\n",
    "\n",
    "def download_video(video_url: str, output_file: str):\n",
    "    \"\"\"Downloads the best video and audio and merges them into a single file.\"\"\"\n",
    "    ydl_opts = {\n",
    "        \"format\": \"bestvideo\",\n",
    "        \"outtmpl\": output_file,\n",
    "        \"merge_output_format\": \"mp4\",  # Ensure merged MP4 output\n",
    "    }\n",
    "\n",
    "    with yt_dlp.YoutubeDL(ydl_opts) as ydl:\n",
    "        ydl.download([video_url])\n",
    "\n",
    "def clip_video(input_file: str, start_time: int, end_time: int, output_file: str):\n",
    "    \"\"\"Clips the video using FFmpeg.\"\"\"\n",
    "    ffmpeg.input(input_file, ss=start_time, to=end_time).output(output_file, vcodec=\"libx264\", acodec=\"aac\").run()\n",
    "\n",
    "def save_as_pickle(video_path: str, ti_data: list, size: list, pickle_path: str, pickle_output_ti: str, pickle_output_size: str):\n",
    "    \"\"\"Reads video data and saves it as a pickle file.\"\"\"\n",
    "    #with open(video_path, \"rb\") as f:\n",
    "        #video_data = f.read()\n",
    "    video_data = video_to_numpy(video_path)\n",
    "    with open(pickle_path, \"wb\") as f:\n",
    "        \n",
    "        pickle.dump(video_data, f)\n",
    "\n",
    "    with open(pickle_output_ti, \"wb\") as f:\n",
    "        pickle.dump(ti_data, f)\n",
    "\n",
    "    with open(pickle_output_size, \"wb\") as f:\n",
    "        pickle.dump(size, f)\n",
    "\n",
    "\"\"\"\n",
    "# Define paths\n",
    "video_url = \"https://www.youtube.com/watch?v=TIRzniTsh8Q\"\n",
    "downloaded_video = \"full_video.mp4\"\n",
    "clipped_video = \"clipped_video.mp4\"\n",
    "pickle_output = \"./dataset/data_dir_0/video_input.pkl\"\n",
    "\n",
    "# Ensure output directory exists\n",
    "os.makedirs(os.path.dirname(pickle_output), exist_ok=True)\n",
    "\n",
    "# Step 1: Download video\n",
    "download_video(video_url, downloaded_video)\n",
    "\n",
    "# Step 2: Clip between 10s-30s\n",
    "clip_video(downloaded_video, 10, 30, clipped_video)\n",
    "\n",
    "# Step 3: Save clipped video as pickle\n",
    "save_as_pickle(clipped_video, pickle_output)\n",
    "\n",
    "# Step 4: Delete videos.\n",
    "os.remove(downloaded_video)\n",
    "os.remove(clipped_video)\n",
    "\n",
    "print(f\"Video clipped and saved as pickle: {pickle_output}\")\n",
    "\"\"\"\n"
   ]
  },
  {
   "cell_type": "code",
   "execution_count": 6,
   "metadata": {},
   "outputs": [
    {
     "name": "stdout",
     "output_type": "stream",
     "text": [
      "[youtube] Extracting URL: https://www.youtube.com/watch?v=fR5ZlT95CiM\n",
      "[youtube] fR5ZlT95CiM: Downloading webpage\n",
      "[youtube] fR5ZlT95CiM: Downloading tv client config\n",
      "[youtube] fR5ZlT95CiM: Downloading player 6b3caec8\n",
      "[youtube] fR5ZlT95CiM: Downloading tv player API JSON\n",
      "[youtube] fR5ZlT95CiM: Downloading ios player API JSON\n",
      "[youtube] fR5ZlT95CiM: Downloading m3u8 information\n",
      "[info] fR5ZlT95CiM: Downloading 1 format(s): 299\n",
      "[download] Destination: full_video.mp4\n",
      "[download] 100% of  674.57MiB in 00:02:25 at 4.65MiB/s      \n",
      "Video clipped and saved as pickle\n",
      "[youtube] Extracting URL: https://www.youtube.com/watch?v=NJwnLdAfl3o\n",
      "[youtube] NJwnLdAfl3o: Downloading webpage\n",
      "[youtube] NJwnLdAfl3o: Downloading tv client config\n",
      "[youtube] NJwnLdAfl3o: Downloading player 6b3caec8\n",
      "[youtube] NJwnLdAfl3o: Downloading tv player API JSON\n",
      "[youtube] NJwnLdAfl3o: Downloading ios player API JSON\n",
      "[youtube] NJwnLdAfl3o: Downloading m3u8 information\n",
      "[info] NJwnLdAfl3o: Downloading 1 format(s): 137\n",
      "[download] Destination: full_video.mp4\n",
      "[download] 100% of   85.25MiB in 00:00:18 at 4.58MiB/s     \n",
      "Video clipped and saved as pickle\n",
      "[youtube] Extracting URL: https://www.youtube.com/watch?v=NJwnLdAfl3o\n",
      "[youtube] NJwnLdAfl3o: Downloading webpage\n",
      "[youtube] NJwnLdAfl3o: Downloading tv client config\n",
      "[youtube] NJwnLdAfl3o: Downloading player 6b3caec8\n",
      "[youtube] NJwnLdAfl3o: Downloading tv player API JSON\n",
      "[youtube] NJwnLdAfl3o: Downloading ios player API JSON\n",
      "[youtube] NJwnLdAfl3o: Downloading m3u8 information\n",
      "[info] NJwnLdAfl3o: Downloading 1 format(s): 137\n",
      "[download] Destination: full_video.mp4\n",
      "[download] 100% of   85.25MiB in 00:00:18 at 4.62MiB/s     \n",
      "Video clipped and saved as pickle\n",
      "[youtube] Extracting URL: https://www.youtube.com/watch?v=TIRzniTsh8Q\n",
      "[youtube] TIRzniTsh8Q: Downloading webpage\n",
      "[youtube] TIRzniTsh8Q: Downloading tv client config\n",
      "[youtube] TIRzniTsh8Q: Downloading player 6b3caec8\n",
      "[youtube] TIRzniTsh8Q: Downloading tv player API JSON\n",
      "[youtube] TIRzniTsh8Q: Downloading ios player API JSON\n",
      "[youtube] TIRzniTsh8Q: Downloading m3u8 information\n",
      "[info] TIRzniTsh8Q: Downloading 1 format(s): 137\n",
      "[download] Destination: full_video.mp4\n",
      "[download] 100% of  576.74MiB in 00:02:05 at 4.58MiB/s      \n",
      "Video clipped and saved as pickle\n"
     ]
    }
   ],
   "source": [
    "for i in range(1, 5):\n",
    "    dict_ = ds['train'][i]\n",
    "\n",
    "    # Define paths\n",
    "    video_url = f\"https://www.youtube.com/watch?v={dict_['vid']}\"\n",
    "    downloaded_video = \"full_video.mp4\"\n",
    "    clipped_video = \"clipped_video.mp4\"\n",
    "    pickle_output_vi = f\"./dataset/data_dir_{i}/video_input.pkl\"\n",
    "    pickle_output_ti = f\"./dataset/data_dir_{i}/text_input.pkl\"\n",
    "    pickle_output_size = f\"./dataset/data_dir_{i}/size.json\"\n",
    "\n",
    "    #text = {\"tokens\": tokenizer.tokenize(dict_['transcript clip'])}\n",
    "    encoded_data = tokenizer(dict_['transcript clip'], truncation=True, return_tensors=\"pt\", max_length=tokenizer.model_max_length,  padding=\"max_length\")\n",
    "    text = {\"tokens\": encoded_data[\"input_ids\"].squeeze(0)}\n",
    "    size = dict_['size']\n",
    "\n",
    "    # Ensure output directory exists\n",
    "    os.makedirs(os.path.dirname(pickle_output_vi), exist_ok=True)\n",
    "\n",
    "    # Step 1: Download video\n",
    "    download_video(video_url, downloaded_video)\n",
    "\n",
    "    # Step 2: Clip between 10s-30s\n",
    "    clip_video(downloaded_video, dict_['begin position'], dict_['end position'], clipped_video)\n",
    "\n",
    "    # Step 3: Save clipped video as pickle\n",
    "    save_as_pickle(clipped_video, text, size, pickle_output_vi, pickle_output_ti, pickle_output_size)\n",
    "\n",
    "    # Step 4: Delete videos.\n",
    "    os.remove(downloaded_video)\n",
    "    os.remove(clipped_video)\n",
    "\n",
    "    print(f\"Video clipped and saved as pickle\")"
   ]
  },
  {
   "cell_type": "code",
   "execution_count": 25,
   "metadata": {},
   "outputs": [],
   "source": [
    "tokens = tokenizer(\"Hi, How are you?\", return_tensors=\"pt\", max_length=77, truncation=True, padding=\"max_length\") "
   ]
  },
  {
   "cell_type": "code",
   "execution_count": 28,
   "metadata": {},
   "outputs": [
    {
     "data": {
      "text/plain": [
       "torch.Size([1, 77])"
      ]
     },
     "execution_count": 28,
     "metadata": {},
     "output_type": "execute_result"
    }
   ],
   "source": [
    "tokens[\"input_ids\"].shape"
   ]
  },
  {
   "cell_type": "code",
   "execution_count": 10,
   "metadata": {},
   "outputs": [
    {
     "name": "stdout",
     "output_type": "stream",
     "text": [
      "Processing: ./dataset\\data_dir_2\\text_input.pkl\n",
      "(336, 3, 160, 256)\n",
      "(336, 3, 160, 256)\n"
     ]
    },
    {
     "ename": "NameError",
     "evalue": "name 'ff' is not defined",
     "output_type": "error",
     "traceback": [
      "\u001b[1;31m---------------------------------------------------------------------------\u001b[0m",
      "\u001b[1;31mNameError\u001b[0m                                 Traceback (most recent call last)",
      "Cell \u001b[1;32mIn[10], line 60\u001b[0m\n\u001b[0;32m     58\u001b[0m \u001b[38;5;66;03m# Define dataset directory\u001b[39;00m\n\u001b[0;32m     59\u001b[0m dataset_path \u001b[38;5;241m=\u001b[39m \u001b[38;5;124m\"\u001b[39m\u001b[38;5;124m./dataset\u001b[39m\u001b[38;5;124m\"\u001b[39m\n\u001b[1;32m---> 60\u001b[0m \u001b[43mprocess_all_datasets\u001b[49m\u001b[43m(\u001b[49m\u001b[43mdataset_path\u001b[49m\u001b[43m)\u001b[49m\n",
      "Cell \u001b[1;32mIn[10], line 54\u001b[0m, in \u001b[0;36mprocess_all_datasets\u001b[1;34m(dataset_dir)\u001b[0m\n\u001b[0;32m     52\u001b[0m     \u001b[38;5;28mprint\u001b[39m(\u001b[38;5;124mf\u001b[39m\u001b[38;5;124m\"\u001b[39m\u001b[38;5;124mProcessing: \u001b[39m\u001b[38;5;132;01m{\u001b[39;00mtext_pkl_path\u001b[38;5;132;01m}\u001b[39;00m\u001b[38;5;124m\"\u001b[39m)\n\u001b[0;32m     53\u001b[0m     \u001b[38;5;66;03m#process_text_file(text_pkl_path, text)\u001b[39;00m\n\u001b[1;32m---> 54\u001b[0m     \u001b[43mprocess_video_file\u001b[49m\u001b[43m(\u001b[49m\u001b[43mvideo_pkl_path\u001b[49m\u001b[43m)\u001b[49m\n\u001b[0;32m     55\u001b[0m \u001b[38;5;28;01melse\u001b[39;00m:\n\u001b[0;32m     56\u001b[0m     \u001b[38;5;28mprint\u001b[39m(\u001b[38;5;124mf\u001b[39m\u001b[38;5;124m\"\u001b[39m\u001b[38;5;124mWarning: \u001b[39m\u001b[38;5;132;01m{\u001b[39;00mtext_pkl_path\u001b[38;5;132;01m}\u001b[39;00m\u001b[38;5;124m not found.\u001b[39m\u001b[38;5;124m\"\u001b[39m)\n",
      "Cell \u001b[1;32mIn[10], line 34\u001b[0m, in \u001b[0;36mprocess_video_file\u001b[1;34m(video_pkl_path)\u001b[0m\n\u001b[0;32m     32\u001b[0m     frames\u001b[38;5;241m.\u001b[39mappend(frame)\n\u001b[0;32m     33\u001b[0m \u001b[38;5;28mprint\u001b[39m(np\u001b[38;5;241m.\u001b[39marray(frames)\u001b[38;5;241m.\u001b[39mshape)\n\u001b[1;32m---> 34\u001b[0m \u001b[43mff\u001b[49m\n\u001b[0;32m     35\u001b[0m \u001b[38;5;28;01mwith\u001b[39;00m \u001b[38;5;28mopen\u001b[39m(video_pkl_path, \u001b[38;5;124m\"\u001b[39m\u001b[38;5;124mwb\u001b[39m\u001b[38;5;124m\"\u001b[39m) \u001b[38;5;28;01mas\u001b[39;00m f:\n\u001b[0;32m     36\u001b[0m     pickle\u001b[38;5;241m.\u001b[39mdump(np\u001b[38;5;241m.\u001b[39marray(frames), f)\n",
      "\u001b[1;31mNameError\u001b[0m: name 'ff' is not defined"
     ]
    }
   ],
   "source": [
    "import os\n",
    "import pickle\n",
    "\n",
    "def process_text_file(text_pkl_path, text_data):\n",
    "    \"\"\"Load text_input.pkl, tokenize text, and save it back.\"\"\"\n",
    "    # Load text_input.pkl\n",
    "    #with open(text_pkl_path, \"rb\") as f:\n",
    "        #text_data = pickle.load(f)['tokens']  # Expecting list of strings\n",
    "    \n",
    "    # Ensure data is a list of strings\n",
    "    #if not isinstance(text_data, list) or not all(isinstance(t, str) for t in text_data):\n",
    "    #    raise ValueError(f\"Unexpected data format in {text_pkl_path}\")\n",
    "    \n",
    "    # Tokenize text\n",
    "    encoded_data = tokenizer(text_data, truncation=True, return_tensors=\"pt\", max_length=tokenizer.model_max_length,  padding=\"max_length\")\n",
    "    \n",
    "    # Save back to pickle\n",
    "    with open(text_pkl_path, \"wb\") as f:\n",
    "        pickle.dump(encoded_data[\"input_ids\"].squeeze(0), f)\n",
    "\n",
    "def process_video_file(video_pkl_path):\n",
    "    with open(video_pkl_path, \"rb\") as f:\n",
    "        video_data = pickle.load(f)  # Expecting list of strings\n",
    "    print(video_data.shape)\n",
    "    frames = []\n",
    "    for frame in video_data:\n",
    "        # Resize frame to (160, 256)\n",
    "        #frame = cv2.resize(frame, (256, 160), interpolation=cv2.INTER_AREA)\n",
    "\n",
    "        # Convert frame to (C, H, W) -> (3, 160, 256)\n",
    "        #frame = np.transpose(frame, (2, 0, 1))\n",
    "        frames.append(frame)\n",
    "    print(np.array(frames).shape)\n",
    "    ff\n",
    "    with open(video_pkl_path, \"wb\") as f:\n",
    "        pickle.dump(np.array(frames), f)\n",
    "\n",
    "    \n",
    "\n",
    "def process_all_datasets(dataset_dir):\n",
    "    \"\"\"Iterate over data_dir_0 to data_dir_4 and process text_input.pkl.\"\"\"\n",
    "    for i in range(2,5):  # data_dir_0 to data_dir_4\n",
    "        dict_ = ds['train'][i]\n",
    "        text = dict_['transcript clip']\n",
    "        sub_dir_path = os.path.join(dataset_dir, f\"data_dir_{i}\")\n",
    "        \n",
    "        if os.path.isdir(sub_dir_path):\n",
    "            text_pkl_path = os.path.join(sub_dir_path, \"text_input.pkl\")\n",
    "            video_pkl_path = os.path.join(sub_dir_path, \"video_input.pkl\")\n",
    "            \n",
    "            if os.path.exists(text_pkl_path):\n",
    "                print(f\"Processing: {text_pkl_path}\")\n",
    "                #process_text_file(text_pkl_path, text)\n",
    "                process_video_file(video_pkl_path)\n",
    "            else:\n",
    "                print(f\"Warning: {text_pkl_path} not found.\")\n",
    "\n",
    "# Define dataset directory\n",
    "dataset_path = \"./dataset\"\n",
    "process_all_datasets(dataset_path)\n"
   ]
  },
  {
   "cell_type": "code",
   "execution_count": 1,
   "metadata": {},
   "outputs": [
    {
     "data": {
      "text/plain": [
       "(0,)"
      ]
     },
     "execution_count": 1,
     "metadata": {},
     "output_type": "execute_result"
    }
   ],
   "source": [
    "import cv2\n",
    "import numpy as np\n",
    "\n",
    "def video_to_numpy(video_path):\n",
    "    cap = cv2.VideoCapture(video_path)\n",
    "    frames = []\n",
    "    \n",
    "    while cap.isOpened():\n",
    "        ret, frame = cap.read()\n",
    "        if not ret:\n",
    "            break\n",
    "        \n",
    "        # Resize frame to (160, 256)\n",
    "        frame = cv2.resize(frame, (256, 160), interpolation=cv2.INTER_AREA)\n",
    "\n",
    "        # Convert frame to (C, H, W) -> (3, 160, 256)\n",
    "        #frame = np.transpose(frame, (2, 0, 1))\n",
    "        \n",
    "        frames.append(frame)\n",
    "    \n",
    "    cap.release()\n",
    "    return np.array(frames)\n",
    "\n",
    "video_path = \"clipped_video.mp4\"\n",
    "video_data = video_to_numpy(video_path)\n",
    "video_data.shape"
   ]
  },
  {
   "cell_type": "code",
   "execution_count": 34,
   "metadata": {},
   "outputs": [
    {
     "name": "stdout",
     "output_type": "stream",
     "text": [
      "[youtube] Extracting URL: https://www.youtube.com/watch?v=TIRzniTsh8Q\n",
      "[youtube] TIRzniTsh8Q: Downloading webpage\n",
      "[youtube] TIRzniTsh8Q: Downloading tv client config\n",
      "[youtube] TIRzniTsh8Q: Downloading player 6b3caec8\n",
      "[youtube] TIRzniTsh8Q: Downloading tv player API JSON\n",
      "[youtube] TIRzniTsh8Q: Downloading ios player API JSON\n",
      "[youtube] TIRzniTsh8Q: Downloading m3u8 information\n",
      "[info] TIRzniTsh8Q: Downloading 1 format(s): 137\n",
      "[download] Destination: full_video.mp4\n",
      "[download] 100% of  576.74MiB in 00:02:04 at 4.64MiB/s      \n",
      "Video clipped and saved as pickle: ./dataset/data_dir_0/video_input.pkl\n"
     ]
    }
   ],
   "source": [
    "# Define paths\n",
    "video_url = \"https://www.youtube.com/watch?v=TIRzniTsh8Q\"\n",
    "downloaded_video = \"full_video.mp4\"\n",
    "clipped_video = \"clipped_video.mp4\"\n",
    "pickle_output = \"./dataset/data_dir_0/video_input.pkl\"\n",
    "\n",
    "# Ensure output directory exists\n",
    "#os.makedirs(os.path.dirname(pickle_output), exist_ok=True)\n",
    "\n",
    "# Step 1: Download video\n",
    "download_video(video_url, downloaded_video)\n",
    "\n",
    "# Step 2: Clip between 10s-30s\n",
    "clip_video(downloaded_video, 10, 30, clipped_video)\n",
    "\n",
    "# Step 3: Save clipped video as pickle\n",
    "#save_as_pickle(clipped_video, pickle_output)\n",
    "\n",
    "# Step 4: Delete videos.\n",
    "os.remove(downloaded_video)\n",
    "#os.remove(clipped_video)\n",
    "\n",
    "print(f\"Video clipped and saved as pickle: {pickle_output}\")"
   ]
  }
 ],
 "metadata": {
  "kernelspec": {
   "display_name": "clip4mc",
   "language": "python",
   "name": "python3"
  },
  "language_info": {
   "codemirror_mode": {
    "name": "ipython",
    "version": 3
   },
   "file_extension": ".py",
   "mimetype": "text/x-python",
   "name": "python",
   "nbconvert_exporter": "python",
   "pygments_lexer": "ipython3",
   "version": "3.9.21"
  }
 },
 "nbformat": 4,
 "nbformat_minor": 2
}
