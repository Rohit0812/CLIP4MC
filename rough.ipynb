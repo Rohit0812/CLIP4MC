{
 "cells": [
  {
   "cell_type": "code",
   "execution_count": 2,
   "metadata": {},
   "outputs": [],
   "source": [
    "from datasets import load_dataset, load_from_disk\n",
    "\n",
    "ds = load_from_disk(\"./dataset/\")\n",
    "#ds = load_dataset(\"AnonymousUserCLIP4MC/CLIP4MC\")"
   ]
  },
  {
   "cell_type": "code",
   "execution_count": 4,
   "metadata": {},
   "outputs": [
    {
     "data": {
      "text/plain": [
       "Dataset({\n",
       "    features: ['vid', 'size', 'transcript clip', 'begin position', 'end position'],\n",
       "    num_rows: 1000\n",
       "})"
      ]
     },
     "execution_count": 4,
     "metadata": {},
     "output_type": "execute_result"
    }
   ],
   "source": [
    "ds['train'].select(range(0, 1000)) "
   ]
  },
  {
   "cell_type": "code",
   "execution_count": null,
   "metadata": {},
   "outputs": [],
   "source": [
    "ds.save_to_disk(\"./dataset/\")"
   ]
  },
  {
   "cell_type": "code",
   "execution_count": 2,
   "metadata": {},
   "outputs": [
    {
     "data": {
      "text/plain": [
       "Dataset({\n",
       "    features: ['vid', 'size', 'transcript clip', 'begin position', 'end position'],\n",
       "    num_rows: 1280000\n",
       "})"
      ]
     },
     "execution_count": 2,
     "metadata": {},
     "output_type": "execute_result"
    }
   ],
   "source": [
    "ds['train']"
   ]
  },
  {
   "cell_type": "code",
   "execution_count": 3,
   "metadata": {},
   "outputs": [
    {
     "data": {
      "text/plain": [
       "{'vid': 'NJwnLdAfl3o',\n",
       " 'size': [0.30625,\n",
       "  0.30625,\n",
       "  0.05625,\n",
       "  0.34375000000000006,\n",
       "  0.45,\n",
       "  0.5437500000000001,\n",
       "  0.425,\n",
       "  0.36250000000000004,\n",
       "  0.29375,\n",
       "  0.44375000000000003,\n",
       "  0.5625,\n",
       "  0.53125,\n",
       "  0.48750000000000004,\n",
       "  0.3125,\n",
       "  0.23750000000000002,\n",
       "  0.19375],\n",
       " 'transcript clip': \"interactive fireworks show at 9 o'clock pacific , where we are gon na let the audience choose\",\n",
       " 'begin position': 232.0,\n",
       " 'end position': 243.2}"
      ]
     },
     "execution_count": 3,
     "metadata": {},
     "output_type": "execute_result"
    }
   ],
   "source": [
    "ds['train'][2]"
   ]
  },
  {
   "cell_type": "code",
   "execution_count": null,
   "metadata": {},
   "outputs": [],
   "source": []
  },
  {
   "cell_type": "code",
   "execution_count": 3,
   "metadata": {},
   "outputs": [
    {
     "name": "stdout",
     "output_type": "stream",
     "text": [
      "[youtube] Extracting URL: https://www.youtube.com/watch?v=TIRzniTsh8Q\n",
      "[youtube] TIRzniTsh8Q: Downloading webpage\n",
      "[youtube] TIRzniTsh8Q: Downloading tv client config\n",
      "[youtube] TIRzniTsh8Q: Downloading player 6b3caec8\n",
      "[youtube] TIRzniTsh8Q: Downloading tv player API JSON\n",
      "[youtube] TIRzniTsh8Q: Downloading ios player API JSON\n",
      "[youtube] TIRzniTsh8Q: Downloading m3u8 information\n",
      "[info] TIRzniTsh8Q: Downloading 1 format(s): 137+140\n",
      "[download] Destination: temp_video.f137.mp4\n",
      "[download]  11.5% of  576.74MiB at    5.36MiB/s ETA 01:35  "
     ]
    },
    {
     "ename": "KeyboardInterrupt",
     "evalue": "",
     "output_type": "error",
     "traceback": [
      "\u001b[1;31m---------------------------------------------------------------------------\u001b[0m",
      "\u001b[1;31mKeyboardInterrupt\u001b[0m                         Traceback (most recent call last)",
      "Cell \u001b[1;32mIn[3], line 18\u001b[0m\n\u001b[0;32m     11\u001b[0m ydl_opts \u001b[38;5;241m=\u001b[39m {\n\u001b[0;32m     12\u001b[0m     \u001b[38;5;66;03m#'format': 'bestvideo',\u001b[39;00m\n\u001b[0;32m     13\u001b[0m     \u001b[38;5;124m\"\u001b[39m\u001b[38;5;124mdownload_sections\u001b[39m\u001b[38;5;124m\"\u001b[39m: { \u001b[38;5;124m\"\u001b[39m\u001b[38;5;124m*\u001b[39m\u001b[38;5;124m\"\u001b[39m: [(\u001b[38;5;241m10\u001b[39m, \u001b[38;5;241m30\u001b[39m)] },\n\u001b[0;32m     14\u001b[0m     \u001b[38;5;124m'\u001b[39m\u001b[38;5;124mouttmpl\u001b[39m\u001b[38;5;124m'\u001b[39m: \u001b[38;5;124m'\u001b[39m\u001b[38;5;124mtemp_video.mp4\u001b[39m\u001b[38;5;124m'\u001b[39m,  \u001b[38;5;66;03m# Save video temporarily\u001b[39;00m\n\u001b[0;32m     15\u001b[0m }\n\u001b[0;32m     17\u001b[0m \u001b[38;5;28;01mwith\u001b[39;00m yt_dlp\u001b[38;5;241m.\u001b[39mYoutubeDL(ydl_opts) \u001b[38;5;28;01mas\u001b[39;00m ydl:\n\u001b[1;32m---> 18\u001b[0m     \u001b[43mydl\u001b[49m\u001b[38;5;241;43m.\u001b[39;49m\u001b[43mdownload\u001b[49m\u001b[43m(\u001b[49m\u001b[43m[\u001b[49m\u001b[43mvideo_url\u001b[49m\u001b[43m]\u001b[49m\u001b[43m)\u001b[49m\n\u001b[0;32m     19\u001b[0m \u001b[38;5;124;03m\"\"\"\u001b[39;00m\n\u001b[0;32m     20\u001b[0m \u001b[38;5;124;03m# Read video and extract frames\u001b[39;00m\n\u001b[0;32m     21\u001b[0m \u001b[38;5;124;03mframes = []\u001b[39;00m\n\u001b[1;32m   (...)\u001b[0m\n\u001b[0;32m     37\u001b[0m \u001b[38;5;124;03mprint(f\"Extracted {len(frames)} frames and saved in 'video_frames.pkl'\")\u001b[39;00m\n\u001b[0;32m     38\u001b[0m \u001b[38;5;124;03m\"\"\"\u001b[39;00m\n",
      "File \u001b[1;32mc:\\D\\miniconda\\envs\\clip4mc\\lib\\site-packages\\yt_dlp\\YoutubeDL.py:3618\u001b[0m, in \u001b[0;36mYoutubeDL.download\u001b[1;34m(self, url_list)\u001b[0m\n\u001b[0;32m   3615\u001b[0m     \u001b[38;5;28;01mraise\u001b[39;00m SameFileError(outtmpl)\n\u001b[0;32m   3617\u001b[0m \u001b[38;5;28;01mfor\u001b[39;00m url \u001b[38;5;129;01min\u001b[39;00m url_list:\n\u001b[1;32m-> 3618\u001b[0m     \u001b[38;5;28;43mself\u001b[39;49m\u001b[38;5;241;43m.\u001b[39;49m\u001b[43m__download_wrapper\u001b[49m\u001b[43m(\u001b[49m\u001b[38;5;28;43mself\u001b[39;49m\u001b[38;5;241;43m.\u001b[39;49m\u001b[43mextract_info\u001b[49m\u001b[43m)\u001b[49m\u001b[43m(\u001b[49m\n\u001b[0;32m   3619\u001b[0m \u001b[43m        \u001b[49m\u001b[43murl\u001b[49m\u001b[43m,\u001b[49m\u001b[43m \u001b[49m\u001b[43mforce_generic_extractor\u001b[49m\u001b[38;5;241;43m=\u001b[39;49m\u001b[38;5;28;43mself\u001b[39;49m\u001b[38;5;241;43m.\u001b[39;49m\u001b[43mparams\u001b[49m\u001b[38;5;241;43m.\u001b[39;49m\u001b[43mget\u001b[49m\u001b[43m(\u001b[49m\u001b[38;5;124;43m'\u001b[39;49m\u001b[38;5;124;43mforce_generic_extractor\u001b[39;49m\u001b[38;5;124;43m'\u001b[39;49m\u001b[43m,\u001b[49m\u001b[43m \u001b[49m\u001b[38;5;28;43;01mFalse\u001b[39;49;00m\u001b[43m)\u001b[49m\u001b[43m)\u001b[49m\n\u001b[0;32m   3621\u001b[0m \u001b[38;5;28;01mreturn\u001b[39;00m \u001b[38;5;28mself\u001b[39m\u001b[38;5;241m.\u001b[39m_download_retcode\n",
      "File \u001b[1;32mc:\\D\\miniconda\\envs\\clip4mc\\lib\\site-packages\\yt_dlp\\YoutubeDL.py:3591\u001b[0m, in \u001b[0;36mYoutubeDL.__download_wrapper.<locals>.wrapper\u001b[1;34m(*args, **kwargs)\u001b[0m\n\u001b[0;32m   3588\u001b[0m \u001b[38;5;129m@functools\u001b[39m\u001b[38;5;241m.\u001b[39mwraps(func)\n\u001b[0;32m   3589\u001b[0m \u001b[38;5;28;01mdef\u001b[39;00m\u001b[38;5;250m \u001b[39m\u001b[38;5;21mwrapper\u001b[39m(\u001b[38;5;241m*\u001b[39margs, \u001b[38;5;241m*\u001b[39m\u001b[38;5;241m*\u001b[39mkwargs):\n\u001b[0;32m   3590\u001b[0m     \u001b[38;5;28;01mtry\u001b[39;00m:\n\u001b[1;32m-> 3591\u001b[0m         res \u001b[38;5;241m=\u001b[39m func(\u001b[38;5;241m*\u001b[39margs, \u001b[38;5;241m*\u001b[39m\u001b[38;5;241m*\u001b[39mkwargs)\n\u001b[0;32m   3592\u001b[0m     \u001b[38;5;28;01mexcept\u001b[39;00m CookieLoadError:\n\u001b[0;32m   3593\u001b[0m         \u001b[38;5;28;01mraise\u001b[39;00m\n",
      "File \u001b[1;32mc:\\D\\miniconda\\envs\\clip4mc\\lib\\site-packages\\yt_dlp\\YoutubeDL.py:1626\u001b[0m, in \u001b[0;36mYoutubeDL.extract_info\u001b[1;34m(self, url, download, ie_key, extra_info, process, force_generic_extractor)\u001b[0m\n\u001b[0;32m   1624\u001b[0m             \u001b[38;5;28;01mraise\u001b[39;00m ExistingVideoReached\n\u001b[0;32m   1625\u001b[0m         \u001b[38;5;28;01mbreak\u001b[39;00m\n\u001b[1;32m-> 1626\u001b[0m     \u001b[38;5;28;01mreturn\u001b[39;00m \u001b[38;5;28;43mself\u001b[39;49m\u001b[38;5;241;43m.\u001b[39;49m\u001b[43m__extract_info\u001b[49m\u001b[43m(\u001b[49m\u001b[43murl\u001b[49m\u001b[43m,\u001b[49m\u001b[43m \u001b[49m\u001b[38;5;28;43mself\u001b[39;49m\u001b[38;5;241;43m.\u001b[39;49m\u001b[43mget_info_extractor\u001b[49m\u001b[43m(\u001b[49m\u001b[43mkey\u001b[49m\u001b[43m)\u001b[49m\u001b[43m,\u001b[49m\u001b[43m \u001b[49m\u001b[43mdownload\u001b[49m\u001b[43m,\u001b[49m\u001b[43m \u001b[49m\u001b[43mextra_info\u001b[49m\u001b[43m,\u001b[49m\u001b[43m \u001b[49m\u001b[43mprocess\u001b[49m\u001b[43m)\u001b[49m\n\u001b[0;32m   1627\u001b[0m \u001b[38;5;28;01melse\u001b[39;00m:\n\u001b[0;32m   1628\u001b[0m     extractors_restricted \u001b[38;5;241m=\u001b[39m \u001b[38;5;28mself\u001b[39m\u001b[38;5;241m.\u001b[39mparams\u001b[38;5;241m.\u001b[39mget(\u001b[38;5;124m'\u001b[39m\u001b[38;5;124mallowed_extractors\u001b[39m\u001b[38;5;124m'\u001b[39m) \u001b[38;5;129;01mnot\u001b[39;00m \u001b[38;5;129;01min\u001b[39;00m (\u001b[38;5;28;01mNone\u001b[39;00m, [\u001b[38;5;124m'\u001b[39m\u001b[38;5;124mdefault\u001b[39m\u001b[38;5;124m'\u001b[39m])\n",
      "File \u001b[1;32mc:\\D\\miniconda\\envs\\clip4mc\\lib\\site-packages\\yt_dlp\\YoutubeDL.py:1637\u001b[0m, in \u001b[0;36mYoutubeDL._handle_extraction_exceptions.<locals>.wrapper\u001b[1;34m(self, *args, **kwargs)\u001b[0m\n\u001b[0;32m   1635\u001b[0m \u001b[38;5;28;01mwhile\u001b[39;00m \u001b[38;5;28;01mTrue\u001b[39;00m:\n\u001b[0;32m   1636\u001b[0m     \u001b[38;5;28;01mtry\u001b[39;00m:\n\u001b[1;32m-> 1637\u001b[0m         \u001b[38;5;28;01mreturn\u001b[39;00m func(\u001b[38;5;28mself\u001b[39m, \u001b[38;5;241m*\u001b[39margs, \u001b[38;5;241m*\u001b[39m\u001b[38;5;241m*\u001b[39mkwargs)\n\u001b[0;32m   1638\u001b[0m     \u001b[38;5;28;01mexcept\u001b[39;00m (CookieLoadError, DownloadCancelled, LazyList\u001b[38;5;241m.\u001b[39mIndexError, PagedList\u001b[38;5;241m.\u001b[39mIndexError):\n\u001b[0;32m   1639\u001b[0m         \u001b[38;5;28;01mraise\u001b[39;00m\n",
      "File \u001b[1;32mc:\\D\\miniconda\\envs\\clip4mc\\lib\\site-packages\\yt_dlp\\YoutubeDL.py:1793\u001b[0m, in \u001b[0;36mYoutubeDL.__extract_info\u001b[1;34m(self, url, ie, download, extra_info, process)\u001b[0m\n\u001b[0;32m   1791\u001b[0m \u001b[38;5;28;01mif\u001b[39;00m process:\n\u001b[0;32m   1792\u001b[0m     \u001b[38;5;28mself\u001b[39m\u001b[38;5;241m.\u001b[39m_wait_for_video(ie_result)\n\u001b[1;32m-> 1793\u001b[0m     \u001b[38;5;28;01mreturn\u001b[39;00m \u001b[38;5;28;43mself\u001b[39;49m\u001b[38;5;241;43m.\u001b[39;49m\u001b[43mprocess_ie_result\u001b[49m\u001b[43m(\u001b[49m\u001b[43mie_result\u001b[49m\u001b[43m,\u001b[49m\u001b[43m \u001b[49m\u001b[43mdownload\u001b[49m\u001b[43m,\u001b[49m\u001b[43m \u001b[49m\u001b[43mextra_info\u001b[49m\u001b[43m)\u001b[49m\n\u001b[0;32m   1794\u001b[0m \u001b[38;5;28;01melse\u001b[39;00m:\n\u001b[0;32m   1795\u001b[0m     \u001b[38;5;28;01mreturn\u001b[39;00m ie_result\n",
      "File \u001b[1;32mc:\\D\\miniconda\\envs\\clip4mc\\lib\\site-packages\\yt_dlp\\YoutubeDL.py:1852\u001b[0m, in \u001b[0;36mYoutubeDL.process_ie_result\u001b[1;34m(self, ie_result, download, extra_info)\u001b[0m\n\u001b[0;32m   1850\u001b[0m \u001b[38;5;28;01mif\u001b[39;00m result_type \u001b[38;5;241m==\u001b[39m \u001b[38;5;124m'\u001b[39m\u001b[38;5;124mvideo\u001b[39m\u001b[38;5;124m'\u001b[39m:\n\u001b[0;32m   1851\u001b[0m     \u001b[38;5;28mself\u001b[39m\u001b[38;5;241m.\u001b[39madd_extra_info(ie_result, extra_info)\n\u001b[1;32m-> 1852\u001b[0m     ie_result \u001b[38;5;241m=\u001b[39m \u001b[38;5;28;43mself\u001b[39;49m\u001b[38;5;241;43m.\u001b[39;49m\u001b[43mprocess_video_result\u001b[49m\u001b[43m(\u001b[49m\u001b[43mie_result\u001b[49m\u001b[43m,\u001b[49m\u001b[43m \u001b[49m\u001b[43mdownload\u001b[49m\u001b[38;5;241;43m=\u001b[39;49m\u001b[43mdownload\u001b[49m\u001b[43m)\u001b[49m\n\u001b[0;32m   1853\u001b[0m     \u001b[38;5;28mself\u001b[39m\u001b[38;5;241m.\u001b[39m_raise_pending_errors(ie_result)\n\u001b[0;32m   1854\u001b[0m     additional_urls \u001b[38;5;241m=\u001b[39m (ie_result \u001b[38;5;129;01mor\u001b[39;00m {})\u001b[38;5;241m.\u001b[39mget(\u001b[38;5;124m'\u001b[39m\u001b[38;5;124madditional_urls\u001b[39m\u001b[38;5;124m'\u001b[39m)\n",
      "File \u001b[1;32mc:\\D\\miniconda\\envs\\clip4mc\\lib\\site-packages\\yt_dlp\\YoutubeDL.py:3024\u001b[0m, in \u001b[0;36mYoutubeDL.process_video_result\u001b[1;34m(self, info_dict, download)\u001b[0m\n\u001b[0;32m   3022\u001b[0m downloaded_formats\u001b[38;5;241m.\u001b[39mappend(new_info)\n\u001b[0;32m   3023\u001b[0m \u001b[38;5;28;01mtry\u001b[39;00m:\n\u001b[1;32m-> 3024\u001b[0m     \u001b[38;5;28;43mself\u001b[39;49m\u001b[38;5;241;43m.\u001b[39;49m\u001b[43mprocess_info\u001b[49m\u001b[43m(\u001b[49m\u001b[43mnew_info\u001b[49m\u001b[43m)\u001b[49m\n\u001b[0;32m   3025\u001b[0m \u001b[38;5;28;01mexcept\u001b[39;00m MaxDownloadsReached:\n\u001b[0;32m   3026\u001b[0m     max_downloads_reached \u001b[38;5;241m=\u001b[39m \u001b[38;5;28;01mTrue\u001b[39;00m\n",
      "File \u001b[1;32mc:\\D\\miniconda\\envs\\clip4mc\\lib\\site-packages\\yt_dlp\\YoutubeDL.py:177\u001b[0m, in \u001b[0;36m_catch_unsafe_extension_error.<locals>.wrapper\u001b[1;34m(self, *args, **kwargs)\u001b[0m\n\u001b[0;32m    174\u001b[0m \u001b[38;5;129m@functools\u001b[39m\u001b[38;5;241m.\u001b[39mwraps(func)\n\u001b[0;32m    175\u001b[0m \u001b[38;5;28;01mdef\u001b[39;00m\u001b[38;5;250m \u001b[39m\u001b[38;5;21mwrapper\u001b[39m(\u001b[38;5;28mself\u001b[39m, \u001b[38;5;241m*\u001b[39margs, \u001b[38;5;241m*\u001b[39m\u001b[38;5;241m*\u001b[39mkwargs):\n\u001b[0;32m    176\u001b[0m     \u001b[38;5;28;01mtry\u001b[39;00m:\n\u001b[1;32m--> 177\u001b[0m         \u001b[38;5;28;01mreturn\u001b[39;00m func(\u001b[38;5;28mself\u001b[39m, \u001b[38;5;241m*\u001b[39margs, \u001b[38;5;241m*\u001b[39m\u001b[38;5;241m*\u001b[39mkwargs)\n\u001b[0;32m    178\u001b[0m     \u001b[38;5;28;01mexcept\u001b[39;00m _UnsafeExtensionError \u001b[38;5;28;01mas\u001b[39;00m error:\n\u001b[0;32m    179\u001b[0m         \u001b[38;5;28mself\u001b[39m\u001b[38;5;241m.\u001b[39mreport_error(\n\u001b[0;32m    180\u001b[0m             \u001b[38;5;124mf\u001b[39m\u001b[38;5;124m'\u001b[39m\u001b[38;5;124mThe extracted extension (\u001b[39m\u001b[38;5;132;01m{\u001b[39;00merror\u001b[38;5;241m.\u001b[39mextension\u001b[38;5;132;01m!r}\u001b[39;00m\u001b[38;5;124m) is unusual \u001b[39m\u001b[38;5;124m'\u001b[39m\n\u001b[0;32m    181\u001b[0m             \u001b[38;5;124m'\u001b[39m\u001b[38;5;124mand will be skipped for safety reasons. \u001b[39m\u001b[38;5;124m'\u001b[39m\n\u001b[0;32m    182\u001b[0m             \u001b[38;5;124mf\u001b[39m\u001b[38;5;124m'\u001b[39m\u001b[38;5;124mIf you believe this is an error\u001b[39m\u001b[38;5;132;01m{\u001b[39;00mbug_reports_message(\u001b[38;5;124m\"\u001b[39m\u001b[38;5;124m,\u001b[39m\u001b[38;5;124m\"\u001b[39m)\u001b[38;5;132;01m}\u001b[39;00m\u001b[38;5;124m'\u001b[39m)\n",
      "File \u001b[1;32mc:\\D\\miniconda\\envs\\clip4mc\\lib\\site-packages\\yt_dlp\\YoutubeDL.py:3474\u001b[0m, in \u001b[0;36mYoutubeDL.process_info\u001b[1;34m(self, info_dict)\u001b[0m\n\u001b[0;32m   3472\u001b[0m     f[\u001b[38;5;124m'\u001b[39m\u001b[38;5;124mfilepath\u001b[39m\u001b[38;5;124m'\u001b[39m] \u001b[38;5;241m=\u001b[39m fname\n\u001b[0;32m   3473\u001b[0m     downloaded\u001b[38;5;241m.\u001b[39mappend(fname)\n\u001b[1;32m-> 3474\u001b[0m partial_success, real_download \u001b[38;5;241m=\u001b[39m \u001b[38;5;28;43mself\u001b[39;49m\u001b[38;5;241;43m.\u001b[39;49m\u001b[43mdl\u001b[49m\u001b[43m(\u001b[49m\u001b[43mfname\u001b[49m\u001b[43m,\u001b[49m\u001b[43m \u001b[49m\u001b[43mnew_info\u001b[49m\u001b[43m)\u001b[49m\n\u001b[0;32m   3475\u001b[0m info_dict[\u001b[38;5;124m'\u001b[39m\u001b[38;5;124m__real_download\u001b[39m\u001b[38;5;124m'\u001b[39m] \u001b[38;5;241m=\u001b[39m info_dict[\u001b[38;5;124m'\u001b[39m\u001b[38;5;124m__real_download\u001b[39m\u001b[38;5;124m'\u001b[39m] \u001b[38;5;129;01mor\u001b[39;00m real_download\n\u001b[0;32m   3476\u001b[0m success \u001b[38;5;241m=\u001b[39m success \u001b[38;5;129;01mand\u001b[39;00m partial_success\n",
      "File \u001b[1;32mc:\\D\\miniconda\\envs\\clip4mc\\lib\\site-packages\\yt_dlp\\YoutubeDL.py:3212\u001b[0m, in \u001b[0;36mYoutubeDL.dl\u001b[1;34m(self, name, info, subtitle, test)\u001b[0m\n\u001b[0;32m   3210\u001b[0m \u001b[38;5;28;01mif\u001b[39;00m new_info\u001b[38;5;241m.\u001b[39mget(\u001b[38;5;124m'\u001b[39m\u001b[38;5;124mhttp_headers\u001b[39m\u001b[38;5;124m'\u001b[39m) \u001b[38;5;129;01mis\u001b[39;00m \u001b[38;5;28;01mNone\u001b[39;00m:\n\u001b[0;32m   3211\u001b[0m     new_info[\u001b[38;5;124m'\u001b[39m\u001b[38;5;124mhttp_headers\u001b[39m\u001b[38;5;124m'\u001b[39m] \u001b[38;5;241m=\u001b[39m \u001b[38;5;28mself\u001b[39m\u001b[38;5;241m.\u001b[39m_calc_headers(new_info)\n\u001b[1;32m-> 3212\u001b[0m \u001b[38;5;28;01mreturn\u001b[39;00m \u001b[43mfd\u001b[49m\u001b[38;5;241;43m.\u001b[39;49m\u001b[43mdownload\u001b[49m\u001b[43m(\u001b[49m\u001b[43mname\u001b[49m\u001b[43m,\u001b[49m\u001b[43m \u001b[49m\u001b[43mnew_info\u001b[49m\u001b[43m,\u001b[49m\u001b[43m \u001b[49m\u001b[43msubtitle\u001b[49m\u001b[43m)\u001b[49m\n",
      "File \u001b[1;32mc:\\D\\miniconda\\envs\\clip4mc\\lib\\site-packages\\yt_dlp\\downloader\\common.py:464\u001b[0m, in \u001b[0;36mFileDownloader.download\u001b[1;34m(self, filename, info_dict, subtitle)\u001b[0m\n\u001b[0;32m    461\u001b[0m     \u001b[38;5;28mself\u001b[39m\u001b[38;5;241m.\u001b[39mto_screen(\u001b[38;5;124mf\u001b[39m\u001b[38;5;124m'\u001b[39m\u001b[38;5;124m[download] Sleeping \u001b[39m\u001b[38;5;132;01m{\u001b[39;00msleep_interval\u001b[38;5;132;01m:\u001b[39;00m\u001b[38;5;124m.2f\u001b[39m\u001b[38;5;132;01m}\u001b[39;00m\u001b[38;5;124m seconds ...\u001b[39m\u001b[38;5;124m'\u001b[39m)\n\u001b[0;32m    462\u001b[0m     time\u001b[38;5;241m.\u001b[39msleep(sleep_interval)\n\u001b[1;32m--> 464\u001b[0m ret \u001b[38;5;241m=\u001b[39m \u001b[38;5;28;43mself\u001b[39;49m\u001b[38;5;241;43m.\u001b[39;49m\u001b[43mreal_download\u001b[49m\u001b[43m(\u001b[49m\u001b[43mfilename\u001b[49m\u001b[43m,\u001b[49m\u001b[43m \u001b[49m\u001b[43minfo_dict\u001b[49m\u001b[43m)\u001b[49m\n\u001b[0;32m    465\u001b[0m \u001b[38;5;28mself\u001b[39m\u001b[38;5;241m.\u001b[39m_finish_multiline_status()\n\u001b[0;32m    466\u001b[0m \u001b[38;5;28;01mreturn\u001b[39;00m ret, \u001b[38;5;28;01mTrue\u001b[39;00m\n",
      "File \u001b[1;32mc:\\D\\miniconda\\envs\\clip4mc\\lib\\site-packages\\yt_dlp\\downloader\\http.py:368\u001b[0m, in \u001b[0;36mHttpFD.real_download\u001b[1;34m(self, filename, info_dict)\u001b[0m\n\u001b[0;32m    366\u001b[0m \u001b[38;5;28;01mtry\u001b[39;00m:\n\u001b[0;32m    367\u001b[0m     establish_connection()\n\u001b[1;32m--> 368\u001b[0m     \u001b[38;5;28;01mreturn\u001b[39;00m \u001b[43mdownload\u001b[49m\u001b[43m(\u001b[49m\u001b[43m)\u001b[49m\n\u001b[0;32m    369\u001b[0m \u001b[38;5;28;01mexcept\u001b[39;00m RetryDownload \u001b[38;5;28;01mas\u001b[39;00m err:\n\u001b[0;32m    370\u001b[0m     retry\u001b[38;5;241m.\u001b[39merror \u001b[38;5;241m=\u001b[39m err\u001b[38;5;241m.\u001b[39msource_error\n",
      "File \u001b[1;32mc:\\D\\miniconda\\envs\\clip4mc\\lib\\site-packages\\yt_dlp\\downloader\\http.py:250\u001b[0m, in \u001b[0;36mHttpFD.real_download.<locals>.download\u001b[1;34m()\u001b[0m\n\u001b[0;32m    247\u001b[0m \u001b[38;5;28;01mwhile\u001b[39;00m \u001b[38;5;28;01mTrue\u001b[39;00m:\n\u001b[0;32m    248\u001b[0m     \u001b[38;5;28;01mtry\u001b[39;00m:\n\u001b[0;32m    249\u001b[0m         \u001b[38;5;66;03m# Download and write\u001b[39;00m\n\u001b[1;32m--> 250\u001b[0m         data_block \u001b[38;5;241m=\u001b[39m \u001b[43mctx\u001b[49m\u001b[38;5;241;43m.\u001b[39;49m\u001b[43mdata\u001b[49m\u001b[38;5;241;43m.\u001b[39;49m\u001b[43mread\u001b[49m\u001b[43m(\u001b[49m\u001b[43mblock_size\u001b[49m\u001b[43m \u001b[49m\u001b[38;5;28;43;01mif\u001b[39;49;00m\u001b[43m \u001b[49m\u001b[38;5;129;43;01mnot\u001b[39;49;00m\u001b[43m \u001b[49m\u001b[43mis_test\u001b[49m\u001b[43m \u001b[49m\u001b[38;5;28;43;01melse\u001b[39;49;00m\u001b[43m \u001b[49m\u001b[38;5;28;43mmin\u001b[39;49m\u001b[43m(\u001b[49m\u001b[43mblock_size\u001b[49m\u001b[43m,\u001b[49m\u001b[43m \u001b[49m\u001b[43mdata_len\u001b[49m\u001b[43m \u001b[49m\u001b[38;5;241;43m-\u001b[39;49m\u001b[43m \u001b[49m\u001b[43mbyte_counter\u001b[49m\u001b[43m)\u001b[49m\u001b[43m)\u001b[49m\n\u001b[0;32m    251\u001b[0m     \u001b[38;5;28;01mexcept\u001b[39;00m TransportError \u001b[38;5;28;01mas\u001b[39;00m err:\n\u001b[0;32m    252\u001b[0m         retry(err)\n",
      "File \u001b[1;32mc:\\D\\miniconda\\envs\\clip4mc\\lib\\site-packages\\yt_dlp\\networking\\_requests.py:143\u001b[0m, in \u001b[0;36mRequestsResponseAdapter.read\u001b[1;34m(self, amt)\u001b[0m\n\u001b[0;32m    140\u001b[0m \u001b[38;5;28;01mdef\u001b[39;00m\u001b[38;5;250m \u001b[39m\u001b[38;5;21mread\u001b[39m(\u001b[38;5;28mself\u001b[39m, amt: \u001b[38;5;28mint\u001b[39m \u001b[38;5;241m|\u001b[39m \u001b[38;5;28;01mNone\u001b[39;00m \u001b[38;5;241m=\u001b[39m \u001b[38;5;28;01mNone\u001b[39;00m):\n\u001b[0;32m    141\u001b[0m     \u001b[38;5;28;01mtry\u001b[39;00m:\n\u001b[0;32m    142\u001b[0m         \u001b[38;5;66;03m# Interact with urllib3 response directly.\u001b[39;00m\n\u001b[1;32m--> 143\u001b[0m         \u001b[38;5;28;01mreturn\u001b[39;00m \u001b[38;5;28;43mself\u001b[39;49m\u001b[38;5;241;43m.\u001b[39;49m\u001b[43mfp\u001b[49m\u001b[38;5;241;43m.\u001b[39;49m\u001b[43mread\u001b[49m\u001b[43m(\u001b[49m\u001b[43mamt\u001b[49m\u001b[43m,\u001b[49m\u001b[43m \u001b[49m\u001b[43mdecode_content\u001b[49m\u001b[38;5;241;43m=\u001b[39;49m\u001b[38;5;28;43;01mTrue\u001b[39;49;00m\u001b[43m)\u001b[49m\n\u001b[0;32m    145\u001b[0m     \u001b[38;5;66;03m# See urllib3.response.HTTPResponse.read() for exceptions raised on read\u001b[39;00m\n\u001b[0;32m    146\u001b[0m     \u001b[38;5;28;01mexcept\u001b[39;00m urllib3\u001b[38;5;241m.\u001b[39mexceptions\u001b[38;5;241m.\u001b[39mSSLError \u001b[38;5;28;01mas\u001b[39;00m e:\n",
      "File \u001b[1;32mc:\\D\\miniconda\\envs\\clip4mc\\lib\\site-packages\\urllib3\\response.py:955\u001b[0m, in \u001b[0;36mHTTPResponse.read\u001b[1;34m(self, amt, decode_content, cache_content)\u001b[0m\n\u001b[0;32m    952\u001b[0m     \u001b[38;5;28;01mif\u001b[39;00m \u001b[38;5;28mlen\u001b[39m(\u001b[38;5;28mself\u001b[39m\u001b[38;5;241m.\u001b[39m_decoded_buffer) \u001b[38;5;241m>\u001b[39m\u001b[38;5;241m=\u001b[39m amt:\n\u001b[0;32m    953\u001b[0m         \u001b[38;5;28;01mreturn\u001b[39;00m \u001b[38;5;28mself\u001b[39m\u001b[38;5;241m.\u001b[39m_decoded_buffer\u001b[38;5;241m.\u001b[39mget(amt)\n\u001b[1;32m--> 955\u001b[0m data \u001b[38;5;241m=\u001b[39m \u001b[38;5;28;43mself\u001b[39;49m\u001b[38;5;241;43m.\u001b[39;49m\u001b[43m_raw_read\u001b[49m\u001b[43m(\u001b[49m\u001b[43mamt\u001b[49m\u001b[43m)\u001b[49m\n\u001b[0;32m    957\u001b[0m flush_decoder \u001b[38;5;241m=\u001b[39m amt \u001b[38;5;129;01mis\u001b[39;00m \u001b[38;5;28;01mNone\u001b[39;00m \u001b[38;5;129;01mor\u001b[39;00m (amt \u001b[38;5;241m!=\u001b[39m \u001b[38;5;241m0\u001b[39m \u001b[38;5;129;01mand\u001b[39;00m \u001b[38;5;129;01mnot\u001b[39;00m data)\n\u001b[0;32m    959\u001b[0m \u001b[38;5;28;01mif\u001b[39;00m \u001b[38;5;129;01mnot\u001b[39;00m data \u001b[38;5;129;01mand\u001b[39;00m \u001b[38;5;28mlen\u001b[39m(\u001b[38;5;28mself\u001b[39m\u001b[38;5;241m.\u001b[39m_decoded_buffer) \u001b[38;5;241m==\u001b[39m \u001b[38;5;241m0\u001b[39m:\n",
      "File \u001b[1;32mc:\\D\\miniconda\\envs\\clip4mc\\lib\\site-packages\\urllib3\\response.py:879\u001b[0m, in \u001b[0;36mHTTPResponse._raw_read\u001b[1;34m(self, amt, read1)\u001b[0m\n\u001b[0;32m    876\u001b[0m fp_closed \u001b[38;5;241m=\u001b[39m \u001b[38;5;28mgetattr\u001b[39m(\u001b[38;5;28mself\u001b[39m\u001b[38;5;241m.\u001b[39m_fp, \u001b[38;5;124m\"\u001b[39m\u001b[38;5;124mclosed\u001b[39m\u001b[38;5;124m\"\u001b[39m, \u001b[38;5;28;01mFalse\u001b[39;00m)\n\u001b[0;32m    878\u001b[0m \u001b[38;5;28;01mwith\u001b[39;00m \u001b[38;5;28mself\u001b[39m\u001b[38;5;241m.\u001b[39m_error_catcher():\n\u001b[1;32m--> 879\u001b[0m     data \u001b[38;5;241m=\u001b[39m \u001b[38;5;28;43mself\u001b[39;49m\u001b[38;5;241;43m.\u001b[39;49m\u001b[43m_fp_read\u001b[49m\u001b[43m(\u001b[49m\u001b[43mamt\u001b[49m\u001b[43m,\u001b[49m\u001b[43m \u001b[49m\u001b[43mread1\u001b[49m\u001b[38;5;241;43m=\u001b[39;49m\u001b[43mread1\u001b[49m\u001b[43m)\u001b[49m \u001b[38;5;28;01mif\u001b[39;00m \u001b[38;5;129;01mnot\u001b[39;00m fp_closed \u001b[38;5;28;01melse\u001b[39;00m \u001b[38;5;124mb\u001b[39m\u001b[38;5;124m\"\u001b[39m\u001b[38;5;124m\"\u001b[39m\n\u001b[0;32m    880\u001b[0m     \u001b[38;5;28;01mif\u001b[39;00m amt \u001b[38;5;129;01mis\u001b[39;00m \u001b[38;5;129;01mnot\u001b[39;00m \u001b[38;5;28;01mNone\u001b[39;00m \u001b[38;5;129;01mand\u001b[39;00m amt \u001b[38;5;241m!=\u001b[39m \u001b[38;5;241m0\u001b[39m \u001b[38;5;129;01mand\u001b[39;00m \u001b[38;5;129;01mnot\u001b[39;00m data:\n\u001b[0;32m    881\u001b[0m         \u001b[38;5;66;03m# Platform-specific: Buggy versions of Python.\u001b[39;00m\n\u001b[0;32m    882\u001b[0m         \u001b[38;5;66;03m# Close the connection when no data is returned\u001b[39;00m\n\u001b[1;32m   (...)\u001b[0m\n\u001b[0;32m    887\u001b[0m         \u001b[38;5;66;03m# not properly close the connection in all cases. There is\u001b[39;00m\n\u001b[0;32m    888\u001b[0m         \u001b[38;5;66;03m# no harm in redundantly calling close.\u001b[39;00m\n\u001b[0;32m    889\u001b[0m         \u001b[38;5;28mself\u001b[39m\u001b[38;5;241m.\u001b[39m_fp\u001b[38;5;241m.\u001b[39mclose()\n",
      "File \u001b[1;32mc:\\D\\miniconda\\envs\\clip4mc\\lib\\site-packages\\urllib3\\response.py:862\u001b[0m, in \u001b[0;36mHTTPResponse._fp_read\u001b[1;34m(self, amt, read1)\u001b[0m\n\u001b[0;32m    859\u001b[0m     \u001b[38;5;28;01mreturn\u001b[39;00m \u001b[38;5;28mself\u001b[39m\u001b[38;5;241m.\u001b[39m_fp\u001b[38;5;241m.\u001b[39mread1(amt) \u001b[38;5;28;01mif\u001b[39;00m amt \u001b[38;5;129;01mis\u001b[39;00m \u001b[38;5;129;01mnot\u001b[39;00m \u001b[38;5;28;01mNone\u001b[39;00m \u001b[38;5;28;01melse\u001b[39;00m \u001b[38;5;28mself\u001b[39m\u001b[38;5;241m.\u001b[39m_fp\u001b[38;5;241m.\u001b[39mread1()\n\u001b[0;32m    860\u001b[0m \u001b[38;5;28;01melse\u001b[39;00m:\n\u001b[0;32m    861\u001b[0m     \u001b[38;5;66;03m# StringIO doesn't like amt=None\u001b[39;00m\n\u001b[1;32m--> 862\u001b[0m     \u001b[38;5;28;01mreturn\u001b[39;00m \u001b[38;5;28;43mself\u001b[39;49m\u001b[38;5;241;43m.\u001b[39;49m\u001b[43m_fp\u001b[49m\u001b[38;5;241;43m.\u001b[39;49m\u001b[43mread\u001b[49m\u001b[43m(\u001b[49m\u001b[43mamt\u001b[49m\u001b[43m)\u001b[49m \u001b[38;5;28;01mif\u001b[39;00m amt \u001b[38;5;129;01mis\u001b[39;00m \u001b[38;5;129;01mnot\u001b[39;00m \u001b[38;5;28;01mNone\u001b[39;00m \u001b[38;5;28;01melse\u001b[39;00m \u001b[38;5;28mself\u001b[39m\u001b[38;5;241m.\u001b[39m_fp\u001b[38;5;241m.\u001b[39mread()\n",
      "File \u001b[1;32mc:\\D\\miniconda\\envs\\clip4mc\\lib\\http\\client.py:463\u001b[0m, in \u001b[0;36mHTTPResponse.read\u001b[1;34m(self, amt)\u001b[0m\n\u001b[0;32m    460\u001b[0m \u001b[38;5;28;01mif\u001b[39;00m amt \u001b[38;5;129;01mis\u001b[39;00m \u001b[38;5;129;01mnot\u001b[39;00m \u001b[38;5;28;01mNone\u001b[39;00m:\n\u001b[0;32m    461\u001b[0m     \u001b[38;5;66;03m# Amount is given, implement using readinto\u001b[39;00m\n\u001b[0;32m    462\u001b[0m     b \u001b[38;5;241m=\u001b[39m \u001b[38;5;28mbytearray\u001b[39m(amt)\n\u001b[1;32m--> 463\u001b[0m     n \u001b[38;5;241m=\u001b[39m \u001b[38;5;28;43mself\u001b[39;49m\u001b[38;5;241;43m.\u001b[39;49m\u001b[43mreadinto\u001b[49m\u001b[43m(\u001b[49m\u001b[43mb\u001b[49m\u001b[43m)\u001b[49m\n\u001b[0;32m    464\u001b[0m     \u001b[38;5;28;01mreturn\u001b[39;00m \u001b[38;5;28mmemoryview\u001b[39m(b)[:n]\u001b[38;5;241m.\u001b[39mtobytes()\n\u001b[0;32m    465\u001b[0m \u001b[38;5;28;01melse\u001b[39;00m:\n\u001b[0;32m    466\u001b[0m     \u001b[38;5;66;03m# Amount is not given (unbounded read) so we must check self.length\u001b[39;00m\n\u001b[0;32m    467\u001b[0m     \u001b[38;5;66;03m# and self.chunked\u001b[39;00m\n",
      "File \u001b[1;32mc:\\D\\miniconda\\envs\\clip4mc\\lib\\http\\client.py:507\u001b[0m, in \u001b[0;36mHTTPResponse.readinto\u001b[1;34m(self, b)\u001b[0m\n\u001b[0;32m    502\u001b[0m         b \u001b[38;5;241m=\u001b[39m \u001b[38;5;28mmemoryview\u001b[39m(b)[\u001b[38;5;241m0\u001b[39m:\u001b[38;5;28mself\u001b[39m\u001b[38;5;241m.\u001b[39mlength]\n\u001b[0;32m    504\u001b[0m \u001b[38;5;66;03m# we do not use _safe_read() here because this may be a .will_close\u001b[39;00m\n\u001b[0;32m    505\u001b[0m \u001b[38;5;66;03m# connection, and the user is reading more bytes than will be provided\u001b[39;00m\n\u001b[0;32m    506\u001b[0m \u001b[38;5;66;03m# (for example, reading in 1k chunks)\u001b[39;00m\n\u001b[1;32m--> 507\u001b[0m n \u001b[38;5;241m=\u001b[39m \u001b[38;5;28;43mself\u001b[39;49m\u001b[38;5;241;43m.\u001b[39;49m\u001b[43mfp\u001b[49m\u001b[38;5;241;43m.\u001b[39;49m\u001b[43mreadinto\u001b[49m\u001b[43m(\u001b[49m\u001b[43mb\u001b[49m\u001b[43m)\u001b[49m\n\u001b[0;32m    508\u001b[0m \u001b[38;5;28;01mif\u001b[39;00m \u001b[38;5;129;01mnot\u001b[39;00m n \u001b[38;5;129;01mand\u001b[39;00m b:\n\u001b[0;32m    509\u001b[0m     \u001b[38;5;66;03m# Ideally, we would raise IncompleteRead if the content-length\u001b[39;00m\n\u001b[0;32m    510\u001b[0m     \u001b[38;5;66;03m# wasn't satisfied, but it might break compatibility.\u001b[39;00m\n\u001b[0;32m    511\u001b[0m     \u001b[38;5;28mself\u001b[39m\u001b[38;5;241m.\u001b[39m_close_conn()\n",
      "File \u001b[1;32mc:\\D\\miniconda\\envs\\clip4mc\\lib\\socket.py:716\u001b[0m, in \u001b[0;36mSocketIO.readinto\u001b[1;34m(self, b)\u001b[0m\n\u001b[0;32m    714\u001b[0m \u001b[38;5;28;01mwhile\u001b[39;00m \u001b[38;5;28;01mTrue\u001b[39;00m:\n\u001b[0;32m    715\u001b[0m     \u001b[38;5;28;01mtry\u001b[39;00m:\n\u001b[1;32m--> 716\u001b[0m         \u001b[38;5;28;01mreturn\u001b[39;00m \u001b[38;5;28;43mself\u001b[39;49m\u001b[38;5;241;43m.\u001b[39;49m\u001b[43m_sock\u001b[49m\u001b[38;5;241;43m.\u001b[39;49m\u001b[43mrecv_into\u001b[49m\u001b[43m(\u001b[49m\u001b[43mb\u001b[49m\u001b[43m)\u001b[49m\n\u001b[0;32m    717\u001b[0m     \u001b[38;5;28;01mexcept\u001b[39;00m timeout:\n\u001b[0;32m    718\u001b[0m         \u001b[38;5;28mself\u001b[39m\u001b[38;5;241m.\u001b[39m_timeout_occurred \u001b[38;5;241m=\u001b[39m \u001b[38;5;28;01mTrue\u001b[39;00m\n",
      "File \u001b[1;32mc:\\D\\miniconda\\envs\\clip4mc\\lib\\ssl.py:1275\u001b[0m, in \u001b[0;36mSSLSocket.recv_into\u001b[1;34m(self, buffer, nbytes, flags)\u001b[0m\n\u001b[0;32m   1271\u001b[0m     \u001b[38;5;28;01mif\u001b[39;00m flags \u001b[38;5;241m!=\u001b[39m \u001b[38;5;241m0\u001b[39m:\n\u001b[0;32m   1272\u001b[0m         \u001b[38;5;28;01mraise\u001b[39;00m \u001b[38;5;167;01mValueError\u001b[39;00m(\n\u001b[0;32m   1273\u001b[0m           \u001b[38;5;124m\"\u001b[39m\u001b[38;5;124mnon-zero flags not allowed in calls to recv_into() on \u001b[39m\u001b[38;5;132;01m%s\u001b[39;00m\u001b[38;5;124m\"\u001b[39m \u001b[38;5;241m%\u001b[39m\n\u001b[0;32m   1274\u001b[0m           \u001b[38;5;28mself\u001b[39m\u001b[38;5;241m.\u001b[39m\u001b[38;5;18m__class__\u001b[39m)\n\u001b[1;32m-> 1275\u001b[0m     \u001b[38;5;28;01mreturn\u001b[39;00m \u001b[38;5;28;43mself\u001b[39;49m\u001b[38;5;241;43m.\u001b[39;49m\u001b[43mread\u001b[49m\u001b[43m(\u001b[49m\u001b[43mnbytes\u001b[49m\u001b[43m,\u001b[49m\u001b[43m \u001b[49m\u001b[43mbuffer\u001b[49m\u001b[43m)\u001b[49m\n\u001b[0;32m   1276\u001b[0m \u001b[38;5;28;01melse\u001b[39;00m:\n\u001b[0;32m   1277\u001b[0m     \u001b[38;5;28;01mreturn\u001b[39;00m \u001b[38;5;28msuper\u001b[39m()\u001b[38;5;241m.\u001b[39mrecv_into(buffer, nbytes, flags)\n",
      "File \u001b[1;32mc:\\D\\miniconda\\envs\\clip4mc\\lib\\ssl.py:1133\u001b[0m, in \u001b[0;36mSSLSocket.read\u001b[1;34m(self, len, buffer)\u001b[0m\n\u001b[0;32m   1131\u001b[0m \u001b[38;5;28;01mtry\u001b[39;00m:\n\u001b[0;32m   1132\u001b[0m     \u001b[38;5;28;01mif\u001b[39;00m buffer \u001b[38;5;129;01mis\u001b[39;00m \u001b[38;5;129;01mnot\u001b[39;00m \u001b[38;5;28;01mNone\u001b[39;00m:\n\u001b[1;32m-> 1133\u001b[0m         \u001b[38;5;28;01mreturn\u001b[39;00m \u001b[38;5;28;43mself\u001b[39;49m\u001b[38;5;241;43m.\u001b[39;49m\u001b[43m_sslobj\u001b[49m\u001b[38;5;241;43m.\u001b[39;49m\u001b[43mread\u001b[49m\u001b[43m(\u001b[49m\u001b[38;5;28;43mlen\u001b[39;49m\u001b[43m,\u001b[49m\u001b[43m \u001b[49m\u001b[43mbuffer\u001b[49m\u001b[43m)\u001b[49m\n\u001b[0;32m   1134\u001b[0m     \u001b[38;5;28;01melse\u001b[39;00m:\n\u001b[0;32m   1135\u001b[0m         \u001b[38;5;28;01mreturn\u001b[39;00m \u001b[38;5;28mself\u001b[39m\u001b[38;5;241m.\u001b[39m_sslobj\u001b[38;5;241m.\u001b[39mread(\u001b[38;5;28mlen\u001b[39m)\n",
      "\u001b[1;31mKeyboardInterrupt\u001b[0m: "
     ]
    }
   ],
   "source": [
    "import pickle\n",
    "import yt_dlp\n",
    "import cv2\n",
    "import os\n",
    "\n",
    "video_url = \"https://www.youtube.com/watch?v=TIRzniTsh8Q\"\n",
    "output_path = \"./dataset/data_dir_0/video_input.pkl\" \n",
    "\n",
    "\n",
    "# Download video file\n",
    "ydl_opts = {\n",
    "    #'format': 'bestvideo',\n",
    "    \"download_sections\": { \"*\": [(10, 30)] },\n",
    "    'outtmpl': 'temp_video.mp4',  # Save video temporarily\n",
    "}\n",
    "\n",
    "with yt_dlp.YoutubeDL(ydl_opts) as ydl:\n",
    "    ydl.download([video_url])\n",
    "\"\"\"\n",
    "# Read video and extract frames\n",
    "frames = []\n",
    "cap = cv2.VideoCapture(\"temp_video.mp4\")\n",
    "while cap.isOpened():\n",
    "    ret, frame = cap.read()\n",
    "    if not ret:\n",
    "        break\n",
    "    frames.append(frame)\n",
    "cap.release()\n",
    "\n",
    "# Save frames as pickle\n",
    "with open(output_path, \"wb\") as f:\n",
    "    pickle.dump(frames, f)\n",
    "\n",
    "# Cleanup temporary video\n",
    "os.remove(\"temp_video.mp4\")\n",
    "\n",
    "print(f\"Extracted {len(frames)} frames and saved in 'video_frames.pkl'\")\n",
    "\"\"\"\n"
   ]
  },
  {
   "cell_type": "code",
   "execution_count": 4,
   "metadata": {},
   "outputs": [
    {
     "data": {
      "text/plain": [
       "'\\n# Define paths\\nvideo_url = \"https://www.youtube.com/watch?v=TIRzniTsh8Q\"\\ndownloaded_video = \"full_video.mp4\"\\nclipped_video = \"clipped_video.mp4\"\\npickle_output = \"./dataset/data_dir_0/video_input.pkl\"\\n\\n# Ensure output directory exists\\nos.makedirs(os.path.dirname(pickle_output), exist_ok=True)\\n\\n# Step 1: Download video\\ndownload_video(video_url, downloaded_video)\\n\\n# Step 2: Clip between 10s-30s\\nclip_video(downloaded_video, 10, 30, clipped_video)\\n\\n# Step 3: Save clipped video as pickle\\nsave_as_pickle(clipped_video, pickle_output)\\n\\n# Step 4: Delete videos.\\nos.remove(downloaded_video)\\nos.remove(clipped_video)\\n\\nprint(f\"Video clipped and saved as pickle: {pickle_output}\")\\n'"
      ]
     },
     "execution_count": 4,
     "metadata": {},
     "output_type": "execute_result"
    }
   ],
   "source": [
    "import numpy as np\n",
    "import yt_dlp\n",
    "import ffmpeg\n",
    "import pickle\n",
    "import os\n",
    "from transformers import AutoTokenizer\n",
    "\n",
    "tokenizer = AutoTokenizer.from_pretrained(\"openai/clip-vit-base-patch32\")\n",
    "\n",
    "def video_to_numpy(video_path):\n",
    "    cap = cv2.VideoCapture(video_path)\n",
    "    frames = []\n",
    "    \n",
    "    while cap.isOpened():\n",
    "        ret, frame = cap.read()\n",
    "        if not ret:\n",
    "            break\n",
    "        \n",
    "        # Resize frame to (160, 256)\n",
    "        frame = cv2.resize(frame, (256, 160), interpolation=cv2.INTER_AREA)\n",
    "\n",
    "        # Convert frame to (C, H, W) -> (3, 160, 256)\n",
    "        frame = np.transpose(frame, (2, 0, 1))\n",
    "        \n",
    "        frames.append(frame)\n",
    "    \n",
    "    cap.release()\n",
    "    return np.array(frames)\n",
    "\n",
    "def download_video(video_url: str, output_file: str):\n",
    "    \"\"\"Downloads the best video and audio and merges them into a single file.\"\"\"\n",
    "    ydl_opts = {\n",
    "        \"format\": \"bestvideo\",\n",
    "        \"outtmpl\": output_file,\n",
    "        \"merge_output_format\": \"mp4\",  # Ensure merged MP4 output\n",
    "    }\n",
    "\n",
    "    with yt_dlp.YoutubeDL(ydl_opts) as ydl:\n",
    "        ydl.download([video_url])\n",
    "\n",
    "def clip_video(input_file: str, start_time: int, end_time: int, output_file: str):\n",
    "    \"\"\"Clips the video using FFmpeg.\"\"\"\n",
    "    ffmpeg.input(input_file, ss=start_time, to=end_time).output(output_file, vcodec=\"libx264\", acodec=\"aac\").run()\n",
    "\n",
    "def save_as_pickle(video_path: str, ti_data: list, size: list, pickle_path: str, pickle_output_ti: str, pickle_output_size: str):\n",
    "    \"\"\"Reads video data and saves it as a pickle file.\"\"\"\n",
    "    #with open(video_path, \"rb\") as f:\n",
    "        #video_data = f.read()\n",
    "    video_data = video_to_numpy(video_path)\n",
    "    with open(pickle_path, \"wb\") as f:\n",
    "        \n",
    "        pickle.dump(video_data, f)\n",
    "\n",
    "    with open(pickle_output_ti, \"wb\") as f:\n",
    "        pickle.dump(ti_data, f)\n",
    "\n",
    "    with open(pickle_output_size, \"wb\") as f:\n",
    "        pickle.dump(size, f)\n",
    "\n",
    "\"\"\"\n",
    "# Define paths\n",
    "video_url = \"https://www.youtube.com/watch?v=TIRzniTsh8Q\"\n",
    "downloaded_video = \"full_video.mp4\"\n",
    "clipped_video = \"clipped_video.mp4\"\n",
    "pickle_output = \"./dataset/data_dir_0/video_input.pkl\"\n",
    "\n",
    "# Ensure output directory exists\n",
    "os.makedirs(os.path.dirname(pickle_output), exist_ok=True)\n",
    "\n",
    "# Step 1: Download video\n",
    "download_video(video_url, downloaded_video)\n",
    "\n",
    "# Step 2: Clip between 10s-30s\n",
    "clip_video(downloaded_video, 10, 30, clipped_video)\n",
    "\n",
    "# Step 3: Save clipped video as pickle\n",
    "save_as_pickle(clipped_video, pickle_output)\n",
    "\n",
    "# Step 4: Delete videos.\n",
    "os.remove(downloaded_video)\n",
    "os.remove(clipped_video)\n",
    "\n",
    "print(f\"Video clipped and saved as pickle: {pickle_output}\")\n",
    "\"\"\"\n"
   ]
  },
  {
   "cell_type": "code",
   "execution_count": 6,
   "metadata": {},
   "outputs": [
    {
     "name": "stdout",
     "output_type": "stream",
     "text": [
      "[youtube] Extracting URL: https://www.youtube.com/watch?v=fR5ZlT95CiM\n",
      "[youtube] fR5ZlT95CiM: Downloading webpage\n",
      "[youtube] fR5ZlT95CiM: Downloading tv client config\n",
      "[youtube] fR5ZlT95CiM: Downloading player 6b3caec8\n",
      "[youtube] fR5ZlT95CiM: Downloading tv player API JSON\n",
      "[youtube] fR5ZlT95CiM: Downloading ios player API JSON\n",
      "[youtube] fR5ZlT95CiM: Downloading m3u8 information\n",
      "[info] fR5ZlT95CiM: Downloading 1 format(s): 299\n",
      "[download] Destination: full_video.mp4\n",
      "[download] 100% of  674.57MiB in 00:02:25 at 4.65MiB/s      \n",
      "Video clipped and saved as pickle\n",
      "[youtube] Extracting URL: https://www.youtube.com/watch?v=NJwnLdAfl3o\n",
      "[youtube] NJwnLdAfl3o: Downloading webpage\n",
      "[youtube] NJwnLdAfl3o: Downloading tv client config\n",
      "[youtube] NJwnLdAfl3o: Downloading player 6b3caec8\n",
      "[youtube] NJwnLdAfl3o: Downloading tv player API JSON\n",
      "[youtube] NJwnLdAfl3o: Downloading ios player API JSON\n",
      "[youtube] NJwnLdAfl3o: Downloading m3u8 information\n",
      "[info] NJwnLdAfl3o: Downloading 1 format(s): 137\n",
      "[download] Destination: full_video.mp4\n",
      "[download] 100% of   85.25MiB in 00:00:18 at 4.58MiB/s     \n",
      "Video clipped and saved as pickle\n",
      "[youtube] Extracting URL: https://www.youtube.com/watch?v=NJwnLdAfl3o\n",
      "[youtube] NJwnLdAfl3o: Downloading webpage\n",
      "[youtube] NJwnLdAfl3o: Downloading tv client config\n",
      "[youtube] NJwnLdAfl3o: Downloading player 6b3caec8\n",
      "[youtube] NJwnLdAfl3o: Downloading tv player API JSON\n",
      "[youtube] NJwnLdAfl3o: Downloading ios player API JSON\n",
      "[youtube] NJwnLdAfl3o: Downloading m3u8 information\n",
      "[info] NJwnLdAfl3o: Downloading 1 format(s): 137\n",
      "[download] Destination: full_video.mp4\n",
      "[download] 100% of   85.25MiB in 00:00:18 at 4.62MiB/s     \n",
      "Video clipped and saved as pickle\n",
      "[youtube] Extracting URL: https://www.youtube.com/watch?v=TIRzniTsh8Q\n",
      "[youtube] TIRzniTsh8Q: Downloading webpage\n",
      "[youtube] TIRzniTsh8Q: Downloading tv client config\n",
      "[youtube] TIRzniTsh8Q: Downloading player 6b3caec8\n",
      "[youtube] TIRzniTsh8Q: Downloading tv player API JSON\n",
      "[youtube] TIRzniTsh8Q: Downloading ios player API JSON\n",
      "[youtube] TIRzniTsh8Q: Downloading m3u8 information\n",
      "[info] TIRzniTsh8Q: Downloading 1 format(s): 137\n",
      "[download] Destination: full_video.mp4\n",
      "[download] 100% of  576.74MiB in 00:02:05 at 4.58MiB/s      \n",
      "Video clipped and saved as pickle\n"
     ]
    }
   ],
   "source": [
    "for i in range(1, 5):\n",
    "    dict_ = ds['train'][i]\n",
    "\n",
    "    # Define paths\n",
    "    video_url = f\"https://www.youtube.com/watch?v={dict_['vid']}\"\n",
    "    downloaded_video = \"full_video.mp4\"\n",
    "    clipped_video = \"clipped_video.mp4\"\n",
    "    pickle_output_vi = f\"./dataset/data_dir_{i}/video_input.pkl\"\n",
    "    pickle_output_ti = f\"./dataset/data_dir_{i}/text_input.pkl\"\n",
    "    pickle_output_size = f\"./dataset/data_dir_{i}/size.json\"\n",
    "\n",
    "    #text = {\"tokens\": tokenizer.tokenize(dict_['transcript clip'])}\n",
    "    encoded_data = tokenizer(dict_['transcript clip'], truncation=True, return_tensors=\"pt\", max_length=tokenizer.model_max_length,  padding=\"max_length\")\n",
    "    text = {\"tokens\": encoded_data[\"input_ids\"].squeeze(0)}\n",
    "    size = dict_['size']\n",
    "\n",
    "    # Ensure output directory exists\n",
    "    os.makedirs(os.path.dirname(pickle_output_vi), exist_ok=True)\n",
    "\n",
    "    # Step 1: Download video\n",
    "    download_video(video_url, downloaded_video)\n",
    "\n",
    "    # Step 2: Clip between 10s-30s\n",
    "    clip_video(downloaded_video, dict_['begin position'], dict_['end position'], clipped_video)\n",
    "\n",
    "    # Step 3: Save clipped video as pickle\n",
    "    save_as_pickle(clipped_video, text, size, pickle_output_vi, pickle_output_ti, pickle_output_size)\n",
    "\n",
    "    # Step 4: Delete videos.\n",
    "    os.remove(downloaded_video)\n",
    "    os.remove(clipped_video)\n",
    "\n",
    "    print(f\"Video clipped and saved as pickle\")"
   ]
  },
  {
   "cell_type": "code",
   "execution_count": 25,
   "metadata": {},
   "outputs": [],
   "source": [
    "tokens = tokenizer(\"Hi, How are you?\", return_tensors=\"pt\", max_length=77, truncation=True, padding=\"max_length\") "
   ]
  },
  {
   "cell_type": "code",
   "execution_count": 28,
   "metadata": {},
   "outputs": [
    {
     "data": {
      "text/plain": [
       "torch.Size([1, 77])"
      ]
     },
     "execution_count": 28,
     "metadata": {},
     "output_type": "execute_result"
    }
   ],
   "source": [
    "tokens[\"input_ids\"].shape"
   ]
  },
  {
   "cell_type": "code",
   "execution_count": 10,
   "metadata": {},
   "outputs": [
    {
     "name": "stdout",
     "output_type": "stream",
     "text": [
      "Processing: ./dataset\\data_dir_2\\text_input.pkl\n",
      "(336, 3, 160, 256)\n",
      "(336, 3, 160, 256)\n"
     ]
    },
    {
     "ename": "NameError",
     "evalue": "name 'ff' is not defined",
     "output_type": "error",
     "traceback": [
      "\u001b[1;31m---------------------------------------------------------------------------\u001b[0m",
      "\u001b[1;31mNameError\u001b[0m                                 Traceback (most recent call last)",
      "Cell \u001b[1;32mIn[10], line 60\u001b[0m\n\u001b[0;32m     58\u001b[0m \u001b[38;5;66;03m# Define dataset directory\u001b[39;00m\n\u001b[0;32m     59\u001b[0m dataset_path \u001b[38;5;241m=\u001b[39m \u001b[38;5;124m\"\u001b[39m\u001b[38;5;124m./dataset\u001b[39m\u001b[38;5;124m\"\u001b[39m\n\u001b[1;32m---> 60\u001b[0m \u001b[43mprocess_all_datasets\u001b[49m\u001b[43m(\u001b[49m\u001b[43mdataset_path\u001b[49m\u001b[43m)\u001b[49m\n",
      "Cell \u001b[1;32mIn[10], line 54\u001b[0m, in \u001b[0;36mprocess_all_datasets\u001b[1;34m(dataset_dir)\u001b[0m\n\u001b[0;32m     52\u001b[0m     \u001b[38;5;28mprint\u001b[39m(\u001b[38;5;124mf\u001b[39m\u001b[38;5;124m\"\u001b[39m\u001b[38;5;124mProcessing: \u001b[39m\u001b[38;5;132;01m{\u001b[39;00mtext_pkl_path\u001b[38;5;132;01m}\u001b[39;00m\u001b[38;5;124m\"\u001b[39m)\n\u001b[0;32m     53\u001b[0m     \u001b[38;5;66;03m#process_text_file(text_pkl_path, text)\u001b[39;00m\n\u001b[1;32m---> 54\u001b[0m     \u001b[43mprocess_video_file\u001b[49m\u001b[43m(\u001b[49m\u001b[43mvideo_pkl_path\u001b[49m\u001b[43m)\u001b[49m\n\u001b[0;32m     55\u001b[0m \u001b[38;5;28;01melse\u001b[39;00m:\n\u001b[0;32m     56\u001b[0m     \u001b[38;5;28mprint\u001b[39m(\u001b[38;5;124mf\u001b[39m\u001b[38;5;124m\"\u001b[39m\u001b[38;5;124mWarning: \u001b[39m\u001b[38;5;132;01m{\u001b[39;00mtext_pkl_path\u001b[38;5;132;01m}\u001b[39;00m\u001b[38;5;124m not found.\u001b[39m\u001b[38;5;124m\"\u001b[39m)\n",
      "Cell \u001b[1;32mIn[10], line 34\u001b[0m, in \u001b[0;36mprocess_video_file\u001b[1;34m(video_pkl_path)\u001b[0m\n\u001b[0;32m     32\u001b[0m     frames\u001b[38;5;241m.\u001b[39mappend(frame)\n\u001b[0;32m     33\u001b[0m \u001b[38;5;28mprint\u001b[39m(np\u001b[38;5;241m.\u001b[39marray(frames)\u001b[38;5;241m.\u001b[39mshape)\n\u001b[1;32m---> 34\u001b[0m \u001b[43mff\u001b[49m\n\u001b[0;32m     35\u001b[0m \u001b[38;5;28;01mwith\u001b[39;00m \u001b[38;5;28mopen\u001b[39m(video_pkl_path, \u001b[38;5;124m\"\u001b[39m\u001b[38;5;124mwb\u001b[39m\u001b[38;5;124m\"\u001b[39m) \u001b[38;5;28;01mas\u001b[39;00m f:\n\u001b[0;32m     36\u001b[0m     pickle\u001b[38;5;241m.\u001b[39mdump(np\u001b[38;5;241m.\u001b[39marray(frames), f)\n",
      "\u001b[1;31mNameError\u001b[0m: name 'ff' is not defined"
     ]
    }
   ],
   "source": [
    "import os\n",
    "import pickle\n",
    "\n",
    "def process_text_file(text_pkl_path, text_data):\n",
    "    \"\"\"Load text_input.pkl, tokenize text, and save it back.\"\"\"\n",
    "    # Load text_input.pkl\n",
    "    #with open(text_pkl_path, \"rb\") as f:\n",
    "        #text_data = pickle.load(f)['tokens']  # Expecting list of strings\n",
    "    \n",
    "    # Ensure data is a list of strings\n",
    "    #if not isinstance(text_data, list) or not all(isinstance(t, str) for t in text_data):\n",
    "    #    raise ValueError(f\"Unexpected data format in {text_pkl_path}\")\n",
    "    \n",
    "    # Tokenize text\n",
    "    encoded_data = tokenizer(text_data, truncation=True, return_tensors=\"pt\", max_length=tokenizer.model_max_length,  padding=\"max_length\")\n",
    "    \n",
    "    # Save back to pickle\n",
    "    with open(text_pkl_path, \"wb\") as f:\n",
    "        pickle.dump(encoded_data[\"input_ids\"].squeeze(0), f)\n",
    "\n",
    "def process_video_file(video_pkl_path):\n",
    "    with open(video_pkl_path, \"rb\") as f:\n",
    "        video_data = pickle.load(f)  # Expecting list of strings\n",
    "    print(video_data.shape)\n",
    "    frames = []\n",
    "    for frame in video_data:\n",
    "        # Resize frame to (160, 256)\n",
    "        #frame = cv2.resize(frame, (256, 160), interpolation=cv2.INTER_AREA)\n",
    "\n",
    "        # Convert frame to (C, H, W) -> (3, 160, 256)\n",
    "        #frame = np.transpose(frame, (2, 0, 1))\n",
    "        frames.append(frame)\n",
    "    print(np.array(frames).shape)\n",
    "    ff\n",
    "    with open(video_pkl_path, \"wb\") as f:\n",
    "        pickle.dump(np.array(frames), f)\n",
    "\n",
    "    \n",
    "\n",
    "def process_all_datasets(dataset_dir):\n",
    "    \"\"\"Iterate over data_dir_0 to data_dir_4 and process text_input.pkl.\"\"\"\n",
    "    for i in range(2,5):  # data_dir_0 to data_dir_4\n",
    "        dict_ = ds['train'][i]\n",
    "        text = dict_['transcript clip']\n",
    "        sub_dir_path = os.path.join(dataset_dir, f\"data_dir_{i}\")\n",
    "        \n",
    "        if os.path.isdir(sub_dir_path):\n",
    "            text_pkl_path = os.path.join(sub_dir_path, \"text_input.pkl\")\n",
    "            video_pkl_path = os.path.join(sub_dir_path, \"video_input.pkl\")\n",
    "            \n",
    "            if os.path.exists(text_pkl_path):\n",
    "                print(f\"Processing: {text_pkl_path}\")\n",
    "                #process_text_file(text_pkl_path, text)\n",
    "                process_video_file(video_pkl_path)\n",
    "            else:\n",
    "                print(f\"Warning: {text_pkl_path} not found.\")\n",
    "\n",
    "# Define dataset directory\n",
    "dataset_path = \"./dataset\"\n",
    "process_all_datasets(dataset_path)\n"
   ]
  },
  {
   "cell_type": "code",
   "execution_count": 13,
   "metadata": {},
   "outputs": [
    {
     "data": {
      "text/plain": [
       "5"
      ]
     },
     "execution_count": 13,
     "metadata": {},
     "output_type": "execute_result"
    }
   ],
   "source": [
    "len(ds['train'][:10])"
   ]
  },
  {
   "cell_type": "code",
   "execution_count": null,
   "metadata": {},
   "outputs": [
    {
     "name": "stdout",
     "output_type": "stream",
     "text": [
      "[youtube] Extracting URL: https://www.youtube.com/watch?v=sA3QVmwXLjk\n",
      "[youtube] sA3QVmwXLjk: Downloading webpage\n",
      "[youtube] sA3QVmwXLjk: Downloading tv client config\n",
      "[youtube] sA3QVmwXLjk: Downloading player 9a279502\n",
      "[youtube] sA3QVmwXLjk: Downloading tv player API JSON\n",
      "[youtube] sA3QVmwXLjk: Downloading ios player API JSON\n"
     ]
    },
    {
     "name": "stderr",
     "output_type": "stream",
     "text": [
      "WARNING: [youtube] sA3QVmwXLjk: nsig extraction failed: Some formats may be missing\n",
      "         Install PhantomJS to workaround the issue. Please download it from https://phantomjs.org/download.html\n",
      "         n = 0ekxM_k-FwWXDhTme ; player = https://www.youtube.com/s/player/9a279502/player_ias.vflset/en_US/base.js\n",
      "WARNING: [youtube] sA3QVmwXLjk: nsig extraction failed: Some formats may be missing\n",
      "         Install PhantomJS to workaround the issue. Please download it from https://phantomjs.org/download.html\n",
      "         n = aSkjZc1WAsTfRaGMc ; player = https://www.youtube.com/s/player/9a279502/player_ias.vflset/en_US/base.js\n",
      "WARNING: [youtube] sA3QVmwXLjk: nsig extraction failed: Some formats may be missing\n",
      "         Install PhantomJS to workaround the issue. Please download it from https://phantomjs.org/download.html\n",
      "         n = iJDGCAZH4_b45-ZOT ; player = https://www.youtube.com/s/player/9a279502/player_ias.vflset/en_US/base.js\n",
      "WARNING: [youtube] sA3QVmwXLjk: nsig extraction failed: Some formats may be missing\n",
      "         Install PhantomJS to workaround the issue. Please download it from https://phantomjs.org/download.html\n",
      "         n = j8ZWRCerMUDz7TXaE ; player = https://www.youtube.com/s/player/9a279502/player_ias.vflset/en_US/base.js\n"
     ]
    },
    {
     "name": "stdout",
     "output_type": "stream",
     "text": [
      "[youtube] sA3QVmwXLjk: Downloading m3u8 information\n",
      "[info] sA3QVmwXLjk: Downloading 1 format(s): 232\n",
      "[hlsnative] Downloading m3u8 manifest\n",
      "[hlsnative] Total fragments: 172\n",
      "[download] Destination: full_video.mp4\n",
      "[download]  99.8% of ~ 498.46MiB at  653.76KiB/s ETA 18:09 (frag 172/172)   [download] Unable to rename file: [WinError 32] The process cannot access the file because it is being used by another process: 'full_video.mp4.part' -> 'full_video.mp4'. Retrying (1/3)...\n",
      "[download] Unable to rename file: [WinError 32] The process cannot access the file because it is being used by another process: 'full_video.mp4.part' -> 'full_video.mp4'. Retrying (2/3)...\n",
      "[download] Unable to rename file: [WinError 32] The process cannot access the file because it is being used by another process: 'full_video.mp4.part' -> 'full_video.mp4'. Retrying (3/3)...\n"
     ]
    },
    {
     "name": "stderr",
     "output_type": "stream",
     "text": [
      "ERROR: Unable to rename file: [WinError 32] The process cannot access the file because it is being used by another process: 'full_video.mp4.part' -> 'full_video.mp4'. Giving up after 3 retries\n"
     ]
    },
    {
     "name": "stdout",
     "output_type": "stream",
     "text": [
      "Error processing data_dir_10: ERROR: Unable to rename file: [WinError 32] The process cannot access the file because it is being used by another process: 'full_video.mp4.part' -> 'full_video.mp4'. Giving up after 3 retries\n",
      "[youtube] Extracting URL: https://www.youtube.com/watch?v=C_uGAC8Sdnk\n",
      "[youtube] C_uGAC8Sdnk: Downloading webpage\n",
      "[youtube] C_uGAC8Sdnk: Downloading tv client config\n",
      "[youtube] C_uGAC8Sdnk: Downloading player 9a279502\n",
      "[youtube] C_uGAC8Sdnk: Downloading tv player API JSON\n",
      "[youtube] C_uGAC8Sdnk: Downloading ios player API JSON\n"
     ]
    },
    {
     "name": "stderr",
     "output_type": "stream",
     "text": [
      "WARNING: [youtube] C_uGAC8Sdnk: nsig extraction failed: Some formats may be missing\n",
      "         Install PhantomJS to workaround the issue. Please download it from https://phantomjs.org/download.html\n",
      "         n = tqNoJWngoKU41tQln ; player = https://www.youtube.com/s/player/9a279502/player_ias.vflset/en_US/base.js\n",
      "WARNING: [youtube] C_uGAC8Sdnk: nsig extraction failed: Some formats may be missing\n",
      "         Install PhantomJS to workaround the issue. Please download it from https://phantomjs.org/download.html\n",
      "         n = 4Q70f_OndnTnPHAHl ; player = https://www.youtube.com/s/player/9a279502/player_ias.vflset/en_US/base.js\n",
      "WARNING: [youtube] C_uGAC8Sdnk: nsig extraction failed: Some formats may be missing\n",
      "         Install PhantomJS to workaround the issue. Please download it from https://phantomjs.org/download.html\n",
      "         n = o8vSZSrPCUBfNAUM4 ; player = https://www.youtube.com/s/player/9a279502/player_ias.vflset/en_US/base.js\n",
      "WARNING: [youtube] C_uGAC8Sdnk: nsig extraction failed: Some formats may be missing\n",
      "         Install PhantomJS to workaround the issue. Please download it from https://phantomjs.org/download.html\n",
      "         n = c-wWu4lNdMWG1YA8Y ; player = https://www.youtube.com/s/player/9a279502/player_ias.vflset/en_US/base.js\n"
     ]
    },
    {
     "name": "stdout",
     "output_type": "stream",
     "text": [
      "[youtube] C_uGAC8Sdnk: Downloading m3u8 information\n",
      "[info] C_uGAC8Sdnk: Downloading 1 format(s): 628\n",
      "[hlsnative] Downloading m3u8 manifest\n",
      "[hlsnative] Total fragments: 157\n",
      "[download] Destination: full_video.mp4\n",
      "[download] 100.0% of ~   2.70GiB at    5.53MiB/s ETA 00:00 (frag 158/157)   [download] Unable to rename file: [WinError 32] The process cannot access the file because it is being used by another process: 'full_video.mp4.part' -> 'full_video.mp4'. Retrying (1/3)...\n",
      "[download] Unable to rename file: [WinError 32] The process cannot access the file because it is being used by another process: 'full_video.mp4.part' -> 'full_video.mp4'. Retrying (2/3)...\n",
      "[download] Unable to rename file: [WinError 32] The process cannot access the file because it is being used by another process: 'full_video.mp4.part' -> 'full_video.mp4'. Retrying (3/3)...\n"
     ]
    },
    {
     "name": "stderr",
     "output_type": "stream",
     "text": [
      "ERROR: Unable to rename file: [WinError 32] The process cannot access the file because it is being used by another process: 'full_video.mp4.part' -> 'full_video.mp4'. Giving up after 3 retries\n"
     ]
    },
    {
     "name": "stdout",
     "output_type": "stream",
     "text": [
      "Error processing data_dir_10: ERROR: Unable to rename file: [WinError 32] The process cannot access the file because it is being used by another process: 'full_video.mp4.part' -> 'full_video.mp4'. Giving up after 3 retries\n",
      "[youtube] Extracting URL: https://www.youtube.com/watch?v=n9facwnLc7s\n",
      "[youtube] n9facwnLc7s: Downloading webpage\n",
      "[youtube] n9facwnLc7s: Downloading tv client config\n",
      "[youtube] n9facwnLc7s: Downloading player 9a279502\n",
      "[youtube] n9facwnLc7s: Downloading tv player API JSON\n",
      "[youtube] n9facwnLc7s: Downloading ios player API JSON\n"
     ]
    },
    {
     "name": "stderr",
     "output_type": "stream",
     "text": [
      "WARNING: [youtube] n9facwnLc7s: nsig extraction failed: Some formats may be missing\n",
      "         Install PhantomJS to workaround the issue. Please download it from https://phantomjs.org/download.html\n",
      "         n = LpxStQExf3GjbRAxN ; player = https://www.youtube.com/s/player/9a279502/player_ias.vflset/en_US/base.js\n",
      "WARNING: [youtube] n9facwnLc7s: nsig extraction failed: Some formats may be missing\n",
      "         Install PhantomJS to workaround the issue. Please download it from https://phantomjs.org/download.html\n",
      "         n = a-luYTjqatf95Jk0m ; player = https://www.youtube.com/s/player/9a279502/player_ias.vflset/en_US/base.js\n",
      "WARNING: [youtube] n9facwnLc7s: nsig extraction failed: Some formats may be missing\n",
      "         Install PhantomJS to workaround the issue. Please download it from https://phantomjs.org/download.html\n",
      "         n = o9qa4k_RAiEbd18wC ; player = https://www.youtube.com/s/player/9a279502/player_ias.vflset/en_US/base.js\n",
      "WARNING: [youtube] n9facwnLc7s: nsig extraction failed: Some formats may be missing\n",
      "         Install PhantomJS to workaround the issue. Please download it from https://phantomjs.org/download.html\n",
      "         n = vGVsqb6Eq87DPbbH8 ; player = https://www.youtube.com/s/player/9a279502/player_ias.vflset/en_US/base.js\n"
     ]
    },
    {
     "name": "stdout",
     "output_type": "stream",
     "text": [
      "[youtube] n9facwnLc7s: Downloading m3u8 information\n",
      "[info] n9facwnLc7s: Downloading 1 format(s): 311\n",
      "[hlsnative] Downloading m3u8 manifest\n",
      "[hlsnative] Total fragments: 98\n",
      "[download] Destination: full_video.mp4\n",
      "[download]  21.4% of ~  12.72GiB at  977.97KiB/s ETA --:--:-- (frag 21/98)"
     ]
    },
    {
     "name": "stderr",
     "output_type": "stream",
     "text": [
      "[download] Got error: HTTPSConnectionPool(host='rr2---sn-npoe7nds.googlevideo.com', port=443): Read timed out. (read timeout=20.0)\n"
     ]
    },
    {
     "name": "stdout",
     "output_type": "stream",
     "text": [
      "[download] fragment not found; Skipping fragment 22 ...\n",
      "[download]  98.9% of ~   2.90GiB at    1.04MiB/s ETA 02:25 (frag 97/98)   [download] Unable to rename file: [WinError 32] The process cannot access the file because it is being used by another process: 'full_video.mp4.part' -> 'full_video.mp4'. Retrying (1/3)...\n",
      "[download] Unable to rename file: [WinError 32] The process cannot access the file because it is being used by another process: 'full_video.mp4.part' -> 'full_video.mp4'. Retrying (2/3)...\n",
      "[download] Unable to rename file: [WinError 32] The process cannot access the file because it is being used by another process: 'full_video.mp4.part' -> 'full_video.mp4'. Retrying (3/3)...\n"
     ]
    },
    {
     "name": "stderr",
     "output_type": "stream",
     "text": [
      "ERROR: Unable to rename file: [WinError 32] The process cannot access the file because it is being used by another process: 'full_video.mp4.part' -> 'full_video.mp4'. Giving up after 3 retries\n"
     ]
    },
    {
     "name": "stdout",
     "output_type": "stream",
     "text": [
      "Error processing data_dir_10: ERROR: Unable to rename file: [WinError 32] The process cannot access the file because it is being used by another process: 'full_video.mp4.part' -> 'full_video.mp4'. Giving up after 3 retries\n",
      "[youtube] Extracting URL: https://www.youtube.com/watch?v=HIug8gCfKqk\n",
      "[youtube] HIug8gCfKqk: Downloading webpage\n",
      "[youtube] HIug8gCfKqk: Downloading tv client config\n",
      "[youtube] HIug8gCfKqk: Downloading player 9a279502\n",
      "[youtube] HIug8gCfKqk: Downloading tv player API JSON\n",
      "[youtube] HIug8gCfKqk: Downloading ios player API JSON\n"
     ]
    },
    {
     "name": "stderr",
     "output_type": "stream",
     "text": [
      "WARNING: [youtube] HIug8gCfKqk: nsig extraction failed: Some formats may be missing\n",
      "         Install PhantomJS to workaround the issue. Please download it from https://phantomjs.org/download.html\n",
      "         n = b4RK7JuuWozL3Ic-T ; player = https://www.youtube.com/s/player/9a279502/player_ias.vflset/en_US/base.js\n",
      "WARNING: [youtube] HIug8gCfKqk: nsig extraction failed: Some formats may be missing\n",
      "         Install PhantomJS to workaround the issue. Please download it from https://phantomjs.org/download.html\n",
      "         n = 3WPW0DVOKKkH5jNm- ; player = https://www.youtube.com/s/player/9a279502/player_ias.vflset/en_US/base.js\n",
      "WARNING: [youtube] HIug8gCfKqk: nsig extraction failed: Some formats may be missing\n",
      "         Install PhantomJS to workaround the issue. Please download it from https://phantomjs.org/download.html\n",
      "         n = K0oIpC2COc-4rYWg5 ; player = https://www.youtube.com/s/player/9a279502/player_ias.vflset/en_US/base.js\n",
      "WARNING: [youtube] HIug8gCfKqk: nsig extraction failed: Some formats may be missing\n",
      "         Install PhantomJS to workaround the issue. Please download it from https://phantomjs.org/download.html\n",
      "         n = ka40J8rz99njZpcbl ; player = https://www.youtube.com/s/player/9a279502/player_ias.vflset/en_US/base.js\n"
     ]
    },
    {
     "name": "stdout",
     "output_type": "stream",
     "text": [
      "[youtube] HIug8gCfKqk: Downloading m3u8 information\n",
      "[info] HIug8gCfKqk: Downloading 1 format(s): 312\n",
      "[hlsnative] Downloading m3u8 manifest\n",
      "[hlsnative] Total fragments: 342\n",
      "[download] Destination: full_video.mp4\n",
      "[download] 100.0% of ~   3.41GiB at    1.55MiB/s ETA 00:23 (frag 342/342)   [download] Unable to rename file: [WinError 32] The process cannot access the file because it is being used by another process: 'full_video.mp4.part' -> 'full_video.mp4'. Retrying (1/3)...\n",
      "[download] Unable to rename file: [WinError 32] The process cannot access the file because it is being used by another process: 'full_video.mp4.part' -> 'full_video.mp4'. Retrying (2/3)...\n",
      "[download] Unable to rename file: [WinError 32] The process cannot access the file because it is being used by another process: 'full_video.mp4.part' -> 'full_video.mp4'. Retrying (3/3)...\n"
     ]
    },
    {
     "name": "stderr",
     "output_type": "stream",
     "text": [
      "ERROR: Unable to rename file: [WinError 32] The process cannot access the file because it is being used by another process: 'full_video.mp4.part' -> 'full_video.mp4'. Giving up after 3 retries\n"
     ]
    },
    {
     "name": "stdout",
     "output_type": "stream",
     "text": [
      "Error processing data_dir_10: ERROR: Unable to rename file: [WinError 32] The process cannot access the file because it is being used by another process: 'full_video.mp4.part' -> 'full_video.mp4'. Giving up after 3 retries\n",
      "[youtube] Extracting URL: https://www.youtube.com/watch?v=CR2KaqxMWdg\n",
      "[youtube] CR2KaqxMWdg: Downloading webpage\n",
      "[youtube] CR2KaqxMWdg: Downloading tv client config\n",
      "[youtube] CR2KaqxMWdg: Downloading player 9a279502\n",
      "[youtube] CR2KaqxMWdg: Downloading tv player API JSON\n",
      "[youtube] CR2KaqxMWdg: Downloading ios player API JSON\n"
     ]
    },
    {
     "name": "stderr",
     "output_type": "stream",
     "text": [
      "WARNING: [youtube] CR2KaqxMWdg: nsig extraction failed: Some formats may be missing\n",
      "         Install PhantomJS to workaround the issue. Please download it from https://phantomjs.org/download.html\n",
      "         n = ogJTZreSpN8gH1kd9 ; player = https://www.youtube.com/s/player/9a279502/player_ias.vflset/en_US/base.js\n",
      "WARNING: [youtube] CR2KaqxMWdg: nsig extraction failed: Some formats may be missing\n",
      "         Install PhantomJS to workaround the issue. Please download it from https://phantomjs.org/download.html\n",
      "         n = RLDE-iqsDNqh7BX4J ; player = https://www.youtube.com/s/player/9a279502/player_ias.vflset/en_US/base.js\n",
      "WARNING: [youtube] CR2KaqxMWdg: nsig extraction failed: Some formats may be missing\n",
      "         Install PhantomJS to workaround the issue. Please download it from https://phantomjs.org/download.html\n",
      "         n = xIJwlqPGbFUN55xb- ; player = https://www.youtube.com/s/player/9a279502/player_ias.vflset/en_US/base.js\n",
      "WARNING: [youtube] CR2KaqxMWdg: nsig extraction failed: Some formats may be missing\n",
      "         Install PhantomJS to workaround the issue. Please download it from https://phantomjs.org/download.html\n",
      "         n = XGSBbOmxxU3JHgnnZ ; player = https://www.youtube.com/s/player/9a279502/player_ias.vflset/en_US/base.js\n"
     ]
    },
    {
     "name": "stdout",
     "output_type": "stream",
     "text": [
      "[youtube] CR2KaqxMWdg: Downloading m3u8 information\n",
      "[info] CR2KaqxMWdg: Downloading 1 format(s): 312\n",
      "[hlsnative] Downloading m3u8 manifest\n",
      "[hlsnative] Total fragments: 187\n",
      "[download] Destination: full_video.mp4\n",
      "[download] 100.0% of ~   3.89GiB at  822.39KiB/s ETA 00:23 (frag 187/187)  [download] Unable to rename file: [WinError 32] The process cannot access the file because it is being used by another process: 'full_video.mp4.part' -> 'full_video.mp4'. Retrying (1/3)...\n",
      "[download] Unable to rename file: [WinError 32] The process cannot access the file because it is being used by another process: 'full_video.mp4.part' -> 'full_video.mp4'. Retrying (2/3)...\n",
      "[download] Unable to rename file: [WinError 32] The process cannot access the file because it is being used by another process: 'full_video.mp4.part' -> 'full_video.mp4'. Retrying (3/3)...\n"
     ]
    },
    {
     "name": "stderr",
     "output_type": "stream",
     "text": [
      "ERROR: Unable to rename file: [WinError 32] The process cannot access the file because it is being used by another process: 'full_video.mp4.part' -> 'full_video.mp4'. Giving up after 3 retries\n"
     ]
    },
    {
     "name": "stdout",
     "output_type": "stream",
     "text": [
      "Error processing data_dir_10: ERROR: Unable to rename file: [WinError 32] The process cannot access the file because it is being used by another process: 'full_video.mp4.part' -> 'full_video.mp4'. Giving up after 3 retries\n",
      "[youtube] Extracting URL: https://www.youtube.com/watch?v=qQGEo-V3Ltc\n",
      "[youtube] qQGEo-V3Ltc: Downloading webpage\n",
      "[youtube] qQGEo-V3Ltc: Downloading tv client config\n",
      "[youtube] qQGEo-V3Ltc: Downloading player 9a279502\n",
      "[youtube] qQGEo-V3Ltc: Downloading tv player API JSON\n",
      "[youtube] qQGEo-V3Ltc: Downloading ios player API JSON\n"
     ]
    },
    {
     "name": "stderr",
     "output_type": "stream",
     "text": [
      "WARNING: [youtube] qQGEo-V3Ltc: nsig extraction failed: Some formats may be missing\n",
      "         Install PhantomJS to workaround the issue. Please download it from https://phantomjs.org/download.html\n",
      "         n = aoacDhej8bnoPv22R ; player = https://www.youtube.com/s/player/9a279502/player_ias.vflset/en_US/base.js\n",
      "WARNING: [youtube] qQGEo-V3Ltc: nsig extraction failed: Some formats may be missing\n",
      "         Install PhantomJS to workaround the issue. Please download it from https://phantomjs.org/download.html\n",
      "         n = EA4IYoZtedlzZ-HND ; player = https://www.youtube.com/s/player/9a279502/player_ias.vflset/en_US/base.js\n",
      "WARNING: [youtube] qQGEo-V3Ltc: nsig extraction failed: Some formats may be missing\n",
      "         Install PhantomJS to workaround the issue. Please download it from https://phantomjs.org/download.html\n",
      "         n = UgZg1RPFeanbttpdv ; player = https://www.youtube.com/s/player/9a279502/player_ias.vflset/en_US/base.js\n",
      "WARNING: [youtube] qQGEo-V3Ltc: nsig extraction failed: Some formats may be missing\n",
      "         Install PhantomJS to workaround the issue. Please download it from https://phantomjs.org/download.html\n",
      "         n = vdje9VW0_85vr1WtC ; player = https://www.youtube.com/s/player/9a279502/player_ias.vflset/en_US/base.js\n"
     ]
    },
    {
     "name": "stdout",
     "output_type": "stream",
     "text": [
      "[youtube] qQGEo-V3Ltc: Downloading m3u8 information\n",
      "[info] qQGEo-V3Ltc: Downloading 1 format(s): 312\n",
      "[hlsnative] Downloading m3u8 manifest\n",
      "[hlsnative] Total fragments: 168\n",
      "[download] Destination: full_video.mp4\n",
      "[download]  99.9% of ~   4.30GiB at    3.25MiB/s ETA 00:18 (frag 168/168)  [download] Unable to rename file: [WinError 32] The process cannot access the file because it is being used by another process: 'full_video.mp4.part' -> 'full_video.mp4'. Retrying (1/3)...\n",
      "[download] Unable to rename file: [WinError 32] The process cannot access the file because it is being used by another process: 'full_video.mp4.part' -> 'full_video.mp4'. Retrying (2/3)...\n",
      "[download] Unable to rename file: [WinError 32] The process cannot access the file because it is being used by another process: 'full_video.mp4.part' -> 'full_video.mp4'. Retrying (3/3)...\n"
     ]
    },
    {
     "name": "stderr",
     "output_type": "stream",
     "text": [
      "ERROR: Unable to rename file: [WinError 32] The process cannot access the file because it is being used by another process: 'full_video.mp4.part' -> 'full_video.mp4'. Giving up after 3 retries\n"
     ]
    },
    {
     "name": "stdout",
     "output_type": "stream",
     "text": [
      "Error processing data_dir_10: ERROR: Unable to rename file: [WinError 32] The process cannot access the file because it is being used by another process: 'full_video.mp4.part' -> 'full_video.mp4'. Giving up after 3 retries\n",
      "[youtube] Extracting URL: https://www.youtube.com/watch?v=ZhVi_L6xrxE\n",
      "[youtube] ZhVi_L6xrxE: Downloading webpage\n",
      "[youtube] ZhVi_L6xrxE: Downloading tv client config\n",
      "[youtube] ZhVi_L6xrxE: Downloading player 9a279502\n",
      "[youtube] ZhVi_L6xrxE: Downloading tv player API JSON\n",
      "[youtube] ZhVi_L6xrxE: Downloading ios player API JSON\n"
     ]
    },
    {
     "name": "stderr",
     "output_type": "stream",
     "text": [
      "WARNING: [youtube] ZhVi_L6xrxE: nsig extraction failed: Some formats may be missing\n",
      "         Install PhantomJS to workaround the issue. Please download it from https://phantomjs.org/download.html\n",
      "         n = H-6mjXHQ8ys45zv28 ; player = https://www.youtube.com/s/player/9a279502/player_ias.vflset/en_US/base.js\n",
      "WARNING: [youtube] ZhVi_L6xrxE: nsig extraction failed: Some formats may be missing\n",
      "         Install PhantomJS to workaround the issue. Please download it from https://phantomjs.org/download.html\n",
      "         n = BjLInaAqaVU5LqK7k ; player = https://www.youtube.com/s/player/9a279502/player_ias.vflset/en_US/base.js\n",
      "WARNING: [youtube] ZhVi_L6xrxE: nsig extraction failed: Some formats may be missing\n",
      "         Install PhantomJS to workaround the issue. Please download it from https://phantomjs.org/download.html\n",
      "         n = u2i_gLgqNU9gf89ly ; player = https://www.youtube.com/s/player/9a279502/player_ias.vflset/en_US/base.js\n",
      "WARNING: [youtube] ZhVi_L6xrxE: nsig extraction failed: Some formats may be missing\n",
      "         Install PhantomJS to workaround the issue. Please download it from https://phantomjs.org/download.html\n",
      "         n = AINVcKHus2BgZnmKV ; player = https://www.youtube.com/s/player/9a279502/player_ias.vflset/en_US/base.js\n"
     ]
    },
    {
     "name": "stdout",
     "output_type": "stream",
     "text": [
      "[youtube] ZhVi_L6xrxE: Downloading m3u8 information\n",
      "[info] ZhVi_L6xrxE: Downloading 1 format(s): 312\n",
      "[hlsnative] Downloading m3u8 manifest\n",
      "[hlsnative] Total fragments: 185\n",
      "[download] Destination: full_video.mp4\n",
      "[download]  22.1% of ~  20.07GiB at    1.43MiB/s ETA 02:13:35 (frag 41/185)"
     ]
    },
    {
     "name": "stderr",
     "output_type": "stream",
     "text": [
      "[download] Got error: HTTPSConnectionPool(host='rr2---sn-npoe7nds.googlevideo.com', port=443): Read timed out. (read timeout=20.0)\n"
     ]
    },
    {
     "name": "stdout",
     "output_type": "stream",
     "text": [
      "[download] fragment not found; Skipping fragment 42 ...\n",
      "[download]  27.0% of ~  16.58GiB at    1.20MiB/s ETA 12:53:26 (frag 50/185)"
     ]
    },
    {
     "name": "stderr",
     "output_type": "stream",
     "text": [
      "[download] Got error: HTTPSConnectionPool(host='rr2---sn-npoe7nds.googlevideo.com', port=443): Read timed out. (read timeout=20.0)\n"
     ]
    },
    {
     "name": "stdout",
     "output_type": "stream",
     "text": [
      "[download] fragment not found; Skipping fragment 52 ...\n",
      "[download]  37.8% of ~  12.00GiB at  829.65KiB/s ETA 01:55:54 (frag 70/185)"
     ]
    },
    {
     "name": "stderr",
     "output_type": "stream",
     "text": [
      "[download] Got error: HTTPSConnectionPool(host='rr2---sn-npoe7nds.googlevideo.com', port=443): Read timed out. (read timeout=20.0)\n"
     ]
    },
    {
     "name": "stdout",
     "output_type": "stream",
     "text": [
      "[download] fragment not found; Skipping fragment 73 ...\n",
      "[download]  38.4% of ~  11.84GiB at    2.02MiB/s ETA 03:11:24 (frag 71/185)"
     ]
    },
    {
     "name": "stderr",
     "output_type": "stream",
     "text": [
      "[download] Got error: HTTPSConnectionPool(host='rr2---sn-npoe7nds.googlevideo.com', port=443): Read timed out. (read timeout=20.0)\n"
     ]
    },
    {
     "name": "stdout",
     "output_type": "stream",
     "text": [
      "[download] fragment not found; Skipping fragment 75 ...\n"
     ]
    },
    {
     "name": "stderr",
     "output_type": "stream",
     "text": [
      "[download] Got error: HTTPSConnectionPool(host='rr2---sn-npoe7nds.googlevideo.com', port=443): Read timed out. (read timeout=20.0)\n"
     ]
    },
    {
     "name": "stdout",
     "output_type": "stream",
     "text": [
      "[download] fragment not found; Skipping fragment 76 ...\n"
     ]
    },
    {
     "name": "stderr",
     "output_type": "stream",
     "text": [
      "[download] Got error: HTTPSConnectionPool(host='rr2---sn-npoe7nds.googlevideo.com', port=443): Read timed out. (read timeout=20.0)\n"
     ]
    },
    {
     "name": "stdout",
     "output_type": "stream",
     "text": [
      "[download] fragment not found; Skipping fragment 77 ...\n",
      "[download]  40.0% of ~  11.38GiB at    3.97MiB/s ETA 08:48 (frag 74/185)   "
     ]
    },
    {
     "name": "stderr",
     "output_type": "stream",
     "text": [
      "[download] Got error: HTTPSConnectionPool(host='rr2---sn-npoe7nds.googlevideo.com', port=443): Read timed out. (read timeout=20.0)\n"
     ]
    },
    {
     "name": "stdout",
     "output_type": "stream",
     "text": [
      "[download] fragment not found; Skipping fragment 81 ...\n",
      "[download]  42.1% of ~  10.81GiB at    1.24MiB/s ETA 01:42:33 (frag 78/185)"
     ]
    },
    {
     "name": "stderr",
     "output_type": "stream",
     "text": [
      "[download] Got error: HTTPSConnectionPool(host='rr2---sn-npoe7nds.googlevideo.com', port=443): Read timed out. (read timeout=20.0)\n"
     ]
    },
    {
     "name": "stdout",
     "output_type": "stream",
     "text": [
      "[download] fragment not found; Skipping fragment 86 ...\n",
      "[download]  43.8% of ~  10.43GiB at    1.39MiB/s ETA 04:21:42 (frag 81/185)"
     ]
    },
    {
     "name": "stderr",
     "output_type": "stream",
     "text": [
      "[download] Got error: HTTPSConnectionPool(host='rr2---sn-npoe7nds.googlevideo.com', port=443): Read timed out. (read timeout=20.0)\n"
     ]
    },
    {
     "name": "stdout",
     "output_type": "stream",
     "text": [
      "[download] fragment not found; Skipping fragment 90 ...\n",
      "[download]  95.1% of ~   5.16GiB at    1.13MiB/s ETA 60:40:38 (frag 176/185)[download] Unable to rename file: [WinError 32] The process cannot access the file because it is being used by another process: 'full_video.mp4.part' -> 'full_video.mp4'. Retrying (1/3)...\n",
      "[download] Unable to rename file: [WinError 32] The process cannot access the file because it is being used by another process: 'full_video.mp4.part' -> 'full_video.mp4'. Retrying (2/3)...\n",
      "[download] Unable to rename file: [WinError 32] The process cannot access the file because it is being used by another process: 'full_video.mp4.part' -> 'full_video.mp4'. Retrying (3/3)...\n"
     ]
    },
    {
     "name": "stderr",
     "output_type": "stream",
     "text": [
      "ERROR: Unable to rename file: [WinError 32] The process cannot access the file because it is being used by another process: 'full_video.mp4.part' -> 'full_video.mp4'. Giving up after 3 retries\n"
     ]
    },
    {
     "name": "stdout",
     "output_type": "stream",
     "text": [
      "Error processing data_dir_10: ERROR: Unable to rename file: [WinError 32] The process cannot access the file because it is being used by another process: 'full_video.mp4.part' -> 'full_video.mp4'. Giving up after 3 retries\n",
      "[youtube] Extracting URL: https://www.youtube.com/watch?v=awE9f_rWwzY\n",
      "[youtube] awE9f_rWwzY: Downloading webpage\n",
      "[youtube] awE9f_rWwzY: Downloading tv client config\n",
      "[youtube] awE9f_rWwzY: Downloading player 9a279502\n",
      "[youtube] awE9f_rWwzY: Downloading tv player API JSON\n",
      "[youtube] awE9f_rWwzY: Downloading ios player API JSON\n"
     ]
    },
    {
     "name": "stderr",
     "output_type": "stream",
     "text": [
      "WARNING: [youtube] awE9f_rWwzY: nsig extraction failed: Some formats may be missing\n",
      "         Install PhantomJS to workaround the issue. Please download it from https://phantomjs.org/download.html\n",
      "         n = 9C_BUjOJvQnV_Kbg2 ; player = https://www.youtube.com/s/player/9a279502/player_ias.vflset/en_US/base.js\n",
      "WARNING: [youtube] awE9f_rWwzY: nsig extraction failed: Some formats may be missing\n",
      "         Install PhantomJS to workaround the issue. Please download it from https://phantomjs.org/download.html\n",
      "         n = 7OlvL5IY1qPAPdv4L ; player = https://www.youtube.com/s/player/9a279502/player_ias.vflset/en_US/base.js\n",
      "WARNING: [youtube] awE9f_rWwzY: nsig extraction failed: Some formats may be missing\n",
      "         Install PhantomJS to workaround the issue. Please download it from https://phantomjs.org/download.html\n",
      "         n = d1EyqB6Nj3fkzQlE5 ; player = https://www.youtube.com/s/player/9a279502/player_ias.vflset/en_US/base.js\n",
      "WARNING: [youtube] awE9f_rWwzY: nsig extraction failed: Some formats may be missing\n",
      "         Install PhantomJS to workaround the issue. Please download it from https://phantomjs.org/download.html\n",
      "         n = 5atwS6TcgjSIhH3ZW ; player = https://www.youtube.com/s/player/9a279502/player_ias.vflset/en_US/base.js\n"
     ]
    },
    {
     "name": "stdout",
     "output_type": "stream",
     "text": [
      "[youtube] awE9f_rWwzY: Downloading m3u8 information\n",
      "[info] awE9f_rWwzY: Downloading 1 format(s): 609\n",
      "[hlsnative] Downloading m3u8 manifest\n",
      "[hlsnative] Total fragments: 227\n",
      "[download] Destination: full_video.mp4\n",
      "[download] 100.0% of ~   5.02GiB at  424.11KiB/s ETA 04:40 (frag 228/227)   [download] Unable to rename file: [WinError 32] The process cannot access the file because it is being used by another process: 'full_video.mp4.part' -> 'full_video.mp4'. Retrying (1/3)...\n",
      "[download] Unable to rename file: [WinError 32] The process cannot access the file because it is being used by another process: 'full_video.mp4.part' -> 'full_video.mp4'. Retrying (2/3)...\n",
      "[download] Unable to rename file: [WinError 32] The process cannot access the file because it is being used by another process: 'full_video.mp4.part' -> 'full_video.mp4'. Retrying (3/3)...\n"
     ]
    },
    {
     "name": "stderr",
     "output_type": "stream",
     "text": [
      "ERROR: Unable to rename file: [WinError 32] The process cannot access the file because it is being used by another process: 'full_video.mp4.part' -> 'full_video.mp4'. Giving up after 3 retries\n"
     ]
    },
    {
     "name": "stdout",
     "output_type": "stream",
     "text": [
      "Error processing data_dir_10: ERROR: Unable to rename file: [WinError 32] The process cannot access the file because it is being used by another process: 'full_video.mp4.part' -> 'full_video.mp4'. Giving up after 3 retries\n",
      "[youtube] Extracting URL: https://www.youtube.com/watch?v=mKv_qd3MgAc\n",
      "[youtube] mKv_qd3MgAc: Downloading webpage\n",
      "[youtube] mKv_qd3MgAc: Downloading tv client config\n",
      "[youtube] mKv_qd3MgAc: Downloading player 9a279502\n",
      "[youtube] mKv_qd3MgAc: Downloading tv player API JSON\n",
      "[youtube] mKv_qd3MgAc: Downloading ios player API JSON\n"
     ]
    },
    {
     "name": "stderr",
     "output_type": "stream",
     "text": [
      "WARNING: [youtube] mKv_qd3MgAc: nsig extraction failed: Some formats may be missing\n",
      "         Install PhantomJS to workaround the issue. Please download it from https://phantomjs.org/download.html\n",
      "         n = pKxmFEQn4_DQXTgyI ; player = https://www.youtube.com/s/player/9a279502/player_ias.vflset/en_US/base.js\n",
      "WARNING: [youtube] mKv_qd3MgAc: nsig extraction failed: Some formats may be missing\n",
      "         Install PhantomJS to workaround the issue. Please download it from https://phantomjs.org/download.html\n",
      "         n = bepVZbKeHK-hLssHG ; player = https://www.youtube.com/s/player/9a279502/player_ias.vflset/en_US/base.js\n",
      "WARNING: [youtube] mKv_qd3MgAc: nsig extraction failed: Some formats may be missing\n",
      "         Install PhantomJS to workaround the issue. Please download it from https://phantomjs.org/download.html\n",
      "         n = uI_VHBs_frZ-7O0h8 ; player = https://www.youtube.com/s/player/9a279502/player_ias.vflset/en_US/base.js\n",
      "WARNING: [youtube] mKv_qd3MgAc: nsig extraction failed: Some formats may be missing\n",
      "         Install PhantomJS to workaround the issue. Please download it from https://phantomjs.org/download.html\n",
      "         n = CGSIRYqfS-KkHYiBH ; player = https://www.youtube.com/s/player/9a279502/player_ias.vflset/en_US/base.js\n"
     ]
    },
    {
     "name": "stdout",
     "output_type": "stream",
     "text": [
      "[youtube] mKv_qd3MgAc: Downloading m3u8 information\n",
      "[info] mKv_qd3MgAc: Downloading 1 format(s): 232\n",
      "[hlsnative] Downloading m3u8 manifest\n",
      "[hlsnative] Total fragments: 176\n",
      "[download] Destination: full_video.mp4\n",
      "[download]  10.2% of ~  49.29GiB at  376.53KiB/s ETA 46:07:02 (frag 18/176)"
     ]
    },
    {
     "name": "stderr",
     "output_type": "stream",
     "text": [
      "[download] Got error: (<urllib3.connection.HTTPSConnection object at 0x00000197F6C31370>, 'Connection to rr4---sn-ci5gup-h55l.googlevideo.com timed out. (connect timeout=20.0)')\n"
     ]
    },
    {
     "name": "stdout",
     "output_type": "stream",
     "text": [
      "[download] fragment not found; Skipping fragment 19 ...\n",
      "[download]  11.9% of ~  42.27GiB at  778.27KiB/s ETA 10:39:47 (frag 21/176)"
     ]
    },
    {
     "name": "stderr",
     "output_type": "stream",
     "text": [
      "[download] Got error: (<urllib3.connection.HTTPSConnection object at 0x00000197F69FC280>, 'Connection to rr4---sn-ci5gup-h55l.googlevideo.com timed out. (connect timeout=20.0)')\n"
     ]
    },
    {
     "name": "stdout",
     "output_type": "stream",
     "text": [
      "[download] fragment not found; Skipping fragment 23 ...\n",
      "[download]  24.4% of ~  20.77GiB at      0.00B/s ETA Unknown (frag 43/176) "
     ]
    },
    {
     "name": "stderr",
     "output_type": "stream",
     "text": [
      "[download] Got error: (<urllib3.connection.HTTPSConnection object at 0x00000197F69FCEE0>, 'Connection to rr4---sn-ci5gup-h55l.googlevideo.com timed out. (connect timeout=20.0)')\n"
     ]
    },
    {
     "name": "stdout",
     "output_type": "stream",
     "text": [
      "[download] fragment not found; Skipping fragment 46 ...\n",
      "[download]  35.2% of ~  14.48GiB at  775.36KiB/s ETA 04:44:21 (frag 62/176)"
     ]
    },
    {
     "name": "stderr",
     "output_type": "stream",
     "text": [
      "[download] Got error: (<urllib3.connection.HTTPSConnection object at 0x00000197F69F88B0>, 'Connection to rr4---sn-ci5gup-h55l.googlevideo.com timed out. (connect timeout=20.0)')\n"
     ]
    },
    {
     "name": "stdout",
     "output_type": "stream",
     "text": [
      "[download] fragment not found; Skipping fragment 66 ...\n",
      "[download]  36.4% of ~  14.04GiB at  503.20KiB/s ETA 10:08:06 (frag 64/176)"
     ]
    },
    {
     "name": "stderr",
     "output_type": "stream",
     "text": [
      "[download] Got error: (<urllib3.connection.HTTPSConnection object at 0x00000197F6D323A0>, 'Connection to rr4---sn-ci5gup-h55l.googlevideo.com timed out. (connect timeout=20.0)')\n"
     ]
    },
    {
     "name": "stdout",
     "output_type": "stream",
     "text": [
      "[download] fragment not found; Skipping fragment 69 ...\n",
      "[download]  36.9% of ~  13.82GiB at      0.00B/s ETA Unknown (frag 65/176) "
     ]
    },
    {
     "name": "stderr",
     "output_type": "stream",
     "text": [
      "[download] Got error: (<urllib3.connection.HTTPSConnection object at 0x00000197F6C251F0>, 'Connection to rr4---sn-ci5gup-h55l.googlevideo.com timed out. (connect timeout=20.0)')\n"
     ]
    },
    {
     "name": "stdout",
     "output_type": "stream",
     "text": [
      "[download] fragment not found; Skipping fragment 71 ...\n",
      "[download]  77.3% of ~   6.74GiB at  687.69KiB/s ETA 43:47 (frag 136/176)   "
     ]
    },
    {
     "name": "stderr",
     "output_type": "stream",
     "text": [
      "[download] Got error: (<urllib3.connection.HTTPSConnection object at 0x00000197F6B7EEB0>, 'Connection to rr4---sn-ci5gup-h55l.googlevideo.com timed out. (connect timeout=20.0)')\n"
     ]
    },
    {
     "name": "stdout",
     "output_type": "stream",
     "text": [
      "[download] fragment not found; Skipping fragment 143 ...\n",
      "[download]  96.0% of ~   5.47GiB at  918.01KiB/s ETA 10:15 (frag 169/176)  [download] Unable to rename file: [WinError 32] The process cannot access the file because it is being used by another process: 'full_video.mp4.part' -> 'full_video.mp4'. Retrying (1/3)...\n",
      "[download] Unable to rename file: [WinError 32] The process cannot access the file because it is being used by another process: 'full_video.mp4.part' -> 'full_video.mp4'. Retrying (2/3)...\n",
      "[download] Unable to rename file: [WinError 32] The process cannot access the file because it is being used by another process: 'full_video.mp4.part' -> 'full_video.mp4'. Retrying (3/3)...\n"
     ]
    },
    {
     "name": "stderr",
     "output_type": "stream",
     "text": [
      "ERROR: Unable to rename file: [WinError 32] The process cannot access the file because it is being used by another process: 'full_video.mp4.part' -> 'full_video.mp4'. Giving up after 3 retries\n"
     ]
    },
    {
     "name": "stdout",
     "output_type": "stream",
     "text": [
      "Error processing data_dir_10: ERROR: Unable to rename file: [WinError 32] The process cannot access the file because it is being used by another process: 'full_video.mp4.part' -> 'full_video.mp4'. Giving up after 3 retries\n",
      "[youtube] Extracting URL: https://www.youtube.com/watch?v=juKraINZ3XU\n",
      "[youtube] juKraINZ3XU: Downloading webpage\n",
      "[youtube] juKraINZ3XU: Downloading tv client config\n",
      "[youtube] juKraINZ3XU: Downloading player 6450230e\n",
      "[youtube] juKraINZ3XU: Downloading tv player API JSON\n",
      "[youtube] juKraINZ3XU: Downloading ios player API JSON\n"
     ]
    },
    {
     "name": "stderr",
     "output_type": "stream",
     "text": [
      "WARNING: [youtube] Falling back to generic n function search\n",
      "         player = https://www.youtube.com/s/player/6450230e/player_ias.vflset/en_US/base.js\n",
      "WARNING: [youtube] juKraINZ3XU: nsig extraction failed: Some formats may be missing\n",
      "         n = JxVhhxNdAyIWoVyp ; player = https://www.youtube.com/s/player/6450230e/player_ias.vflset/en_US/base.js\n",
      "WARNING: [youtube] Falling back to generic n function search\n",
      "         player = https://www.youtube.com/s/player/6450230e/player_ias.vflset/en_US/base.js\n",
      "WARNING: [youtube] juKraINZ3XU: nsig extraction failed: Some formats may be missing\n",
      "         n = m8FXFZ0GYQKkEJ66 ; player = https://www.youtube.com/s/player/6450230e/player_ias.vflset/en_US/base.js\n",
      "WARNING: [youtube] Falling back to generic n function search\n",
      "         player = https://www.youtube.com/s/player/6450230e/player_ias.vflset/en_US/base.js\n",
      "WARNING: [youtube] juKraINZ3XU: nsig extraction failed: Some formats may be missing\n",
      "         n = 8RgCmej8_-G-9-68 ; player = https://www.youtube.com/s/player/6450230e/player_ias.vflset/en_US/base.js\n",
      "WARNING: [youtube] Falling back to generic n function search\n",
      "         player = https://www.youtube.com/s/player/6450230e/player_ias.vflset/en_US/base.js\n",
      "WARNING: [youtube] juKraINZ3XU: nsig extraction failed: Some formats may be missing\n",
      "         n = Lwq-08lrfLHpYi4B ; player = https://www.youtube.com/s/player/6450230e/player_ias.vflset/en_US/base.js\n"
     ]
    },
    {
     "name": "stdout",
     "output_type": "stream",
     "text": [
      "[youtube] juKraINZ3XU: Downloading m3u8 information\n",
      "[info] juKraINZ3XU: Downloading 1 format(s): 312\n",
      "[hlsnative] Downloading m3u8 manifest\n",
      "[hlsnative] Total fragments: 118\n",
      "[download] Destination: full_video.mp4\n",
      "[download] 100.0% of ~   5.56GiB at 1006.37KiB/s ETA 01:39 (frag 118/118)  [download] Unable to rename file: [WinError 32] The process cannot access the file because it is being used by another process: 'full_video.mp4.part' -> 'full_video.mp4'. Retrying (1/3)...\n",
      "[download] Unable to rename file: [WinError 32] The process cannot access the file because it is being used by another process: 'full_video.mp4.part' -> 'full_video.mp4'. Retrying (2/3)...\n",
      "[download] Unable to rename file: [WinError 32] The process cannot access the file because it is being used by another process: 'full_video.mp4.part' -> 'full_video.mp4'. Retrying (3/3)...\n"
     ]
    },
    {
     "name": "stderr",
     "output_type": "stream",
     "text": [
      "ERROR: Unable to rename file: [WinError 32] The process cannot access the file because it is being used by another process: 'full_video.mp4.part' -> 'full_video.mp4'. Giving up after 3 retries\n"
     ]
    },
    {
     "name": "stdout",
     "output_type": "stream",
     "text": [
      "Error processing data_dir_10: ERROR: Unable to rename file: [WinError 32] The process cannot access the file because it is being used by another process: 'full_video.mp4.part' -> 'full_video.mp4'. Giving up after 3 retries\n",
      "[youtube] Extracting URL: https://www.youtube.com/watch?v=auGCjmLlyrE\n",
      "[youtube] auGCjmLlyrE: Downloading webpage\n",
      "[youtube] auGCjmLlyrE: Downloading tv client config\n",
      "[youtube] auGCjmLlyrE: Downloading player 9a279502\n",
      "[youtube] auGCjmLlyrE: Downloading tv player API JSON\n",
      "[youtube] auGCjmLlyrE: Downloading ios player API JSON\n"
     ]
    },
    {
     "name": "stderr",
     "output_type": "stream",
     "text": [
      "WARNING: [youtube] auGCjmLlyrE: nsig extraction failed: Some formats may be missing\n",
      "         Install PhantomJS to workaround the issue. Please download it from https://phantomjs.org/download.html\n",
      "         n = th8SeCBdyzZFV40xQ ; player = https://www.youtube.com/s/player/9a279502/player_ias.vflset/en_US/base.js\n",
      "WARNING: [youtube] auGCjmLlyrE: nsig extraction failed: Some formats may be missing\n",
      "         Install PhantomJS to workaround the issue. Please download it from https://phantomjs.org/download.html\n",
      "         n = WHOWiNg-PiPSHjWXW ; player = https://www.youtube.com/s/player/9a279502/player_ias.vflset/en_US/base.js\n",
      "WARNING: [youtube] auGCjmLlyrE: nsig extraction failed: Some formats may be missing\n",
      "         Install PhantomJS to workaround the issue. Please download it from https://phantomjs.org/download.html\n",
      "         n = s4BbrJbvdtdxhhHB4 ; player = https://www.youtube.com/s/player/9a279502/player_ias.vflset/en_US/base.js\n",
      "WARNING: [youtube] auGCjmLlyrE: nsig extraction failed: Some formats may be missing\n",
      "         Install PhantomJS to workaround the issue. Please download it from https://phantomjs.org/download.html\n",
      "         n = 8f53q8V5rpppBOXfa ; player = https://www.youtube.com/s/player/9a279502/player_ias.vflset/en_US/base.js\n"
     ]
    },
    {
     "name": "stdout",
     "output_type": "stream",
     "text": [
      "[youtube] auGCjmLlyrE: Downloading m3u8 information\n",
      "[info] auGCjmLlyrE: Downloading 1 format(s): 270\n",
      "[hlsnative] Downloading m3u8 manifest\n",
      "[hlsnative] Total fragments: 313\n",
      "[download] Destination: full_video.mp4\n",
      "[download] 100.0% of ~   6.19GiB at    1.20MiB/s ETA 01:39 (frag 313/313)   [download] Unable to rename file: [WinError 32] The process cannot access the file because it is being used by another process: 'full_video.mp4.part' -> 'full_video.mp4'. Retrying (1/3)...\n",
      "[download] Unable to rename file: [WinError 32] The process cannot access the file because it is being used by another process: 'full_video.mp4.part' -> 'full_video.mp4'. Retrying (2/3)...\n",
      "[download] Unable to rename file: [WinError 32] The process cannot access the file because it is being used by another process: 'full_video.mp4.part' -> 'full_video.mp4'. Retrying (3/3)...\n"
     ]
    },
    {
     "name": "stderr",
     "output_type": "stream",
     "text": [
      "ERROR: Unable to rename file: [WinError 32] The process cannot access the file because it is being used by another process: 'full_video.mp4.part' -> 'full_video.mp4'. Giving up after 3 retries\n"
     ]
    },
    {
     "name": "stdout",
     "output_type": "stream",
     "text": [
      "Error processing data_dir_10: ERROR: Unable to rename file: [WinError 32] The process cannot access the file because it is being used by another process: 'full_video.mp4.part' -> 'full_video.mp4'. Giving up after 3 retries\n",
      "[youtube] Extracting URL: https://www.youtube.com/watch?v=IUZLTa4Uhnw\n",
      "[youtube] IUZLTa4Uhnw: Downloading webpage\n",
      "[youtube] IUZLTa4Uhnw: Downloading tv client config\n",
      "[youtube] IUZLTa4Uhnw: Downloading player 9a279502\n",
      "[youtube] IUZLTa4Uhnw: Downloading tv player API JSON\n",
      "[youtube] IUZLTa4Uhnw: Downloading ios player API JSON\n"
     ]
    },
    {
     "name": "stderr",
     "output_type": "stream",
     "text": [
      "WARNING: [youtube] IUZLTa4Uhnw: nsig extraction failed: Some formats may be missing\n",
      "         Install PhantomJS to workaround the issue. Please download it from https://phantomjs.org/download.html\n",
      "         n = FS7TSp3pr1jc9li8- ; player = https://www.youtube.com/s/player/9a279502/player_ias.vflset/en_US/base.js\n",
      "WARNING: [youtube] IUZLTa4Uhnw: nsig extraction failed: Some formats may be missing\n",
      "         Install PhantomJS to workaround the issue. Please download it from https://phantomjs.org/download.html\n",
      "         n = qUAmdjmCXiDJfmsCh ; player = https://www.youtube.com/s/player/9a279502/player_ias.vflset/en_US/base.js\n",
      "WARNING: [youtube] IUZLTa4Uhnw: nsig extraction failed: Some formats may be missing\n",
      "         Install PhantomJS to workaround the issue. Please download it from https://phantomjs.org/download.html\n",
      "         n = ZYfJ5f5lRCHJBJVTL ; player = https://www.youtube.com/s/player/9a279502/player_ias.vflset/en_US/base.js\n",
      "WARNING: [youtube] IUZLTa4Uhnw: nsig extraction failed: Some formats may be missing\n",
      "         Install PhantomJS to workaround the issue. Please download it from https://phantomjs.org/download.html\n",
      "         n = 2amjTF42QEYR_N3Kh ; player = https://www.youtube.com/s/player/9a279502/player_ias.vflset/en_US/base.js\n"
     ]
    },
    {
     "name": "stdout",
     "output_type": "stream",
     "text": [
      "[youtube] IUZLTa4Uhnw: Downloading m3u8 information\n",
      "[info] IUZLTa4Uhnw: Downloading 1 format(s): 232\n",
      "[hlsnative] Downloading m3u8 manifest\n",
      "[hlsnative] Total fragments: 295\n",
      "[download] Destination: full_video.mp4\n",
      "[download]  38.0% of ~  16.51GiB at  712.34KiB/s ETA 05:39:53 (frag 112/295)"
     ]
    },
    {
     "name": "stderr",
     "output_type": "stream",
     "text": [
      "[download] Got error: (<urllib3.connection.HTTPSConnection object at 0x00000197F81381C0>, 'Connection to rr2---sn-ci5gup-cvhee.googlevideo.com timed out. (connect timeout=20.0)')\n"
     ]
    },
    {
     "name": "stdout",
     "output_type": "stream",
     "text": [
      "[download] fragment not found; Skipping fragment 113 ...\n",
      "[download]  99.6% of ~   6.48GiB at  434.40KiB/s ETA 04:42 (frag 294/295)   [download] Unable to rename file: [WinError 32] The process cannot access the file because it is being used by another process: 'full_video.mp4.part' -> 'full_video.mp4'. Retrying (1/3)...\n",
      "[download] Unable to rename file: [WinError 32] The process cannot access the file because it is being used by another process: 'full_video.mp4.part' -> 'full_video.mp4'. Retrying (2/3)...\n",
      "[download] Unable to rename file: [WinError 32] The process cannot access the file because it is being used by another process: 'full_video.mp4.part' -> 'full_video.mp4'. Retrying (3/3)...\n"
     ]
    },
    {
     "name": "stderr",
     "output_type": "stream",
     "text": [
      "ERROR: Unable to rename file: [WinError 32] The process cannot access the file because it is being used by another process: 'full_video.mp4.part' -> 'full_video.mp4'. Giving up after 3 retries\n"
     ]
    },
    {
     "name": "stdout",
     "output_type": "stream",
     "text": [
      "Error processing data_dir_10: ERROR: Unable to rename file: [WinError 32] The process cannot access the file because it is being used by another process: 'full_video.mp4.part' -> 'full_video.mp4'. Giving up after 3 retries\n",
      "[youtube] Extracting URL: https://www.youtube.com/watch?v=G2xFFH4HM28\n",
      "[youtube] G2xFFH4HM28: Downloading webpage\n",
      "[youtube] G2xFFH4HM28: Downloading tv client config\n",
      "[youtube] G2xFFH4HM28: Downloading player 9a279502\n",
      "[youtube] G2xFFH4HM28: Downloading tv player API JSON\n",
      "[youtube] G2xFFH4HM28: Downloading ios player API JSON\n"
     ]
    },
    {
     "name": "stderr",
     "output_type": "stream",
     "text": [
      "WARNING: [youtube] G2xFFH4HM28: nsig extraction failed: Some formats may be missing\n",
      "         Install PhantomJS to workaround the issue. Please download it from https://phantomjs.org/download.html\n",
      "         n = zB4dvApKNDrCFWN7O ; player = https://www.youtube.com/s/player/9a279502/player_ias.vflset/en_US/base.js\n",
      "WARNING: [youtube] G2xFFH4HM28: nsig extraction failed: Some formats may be missing\n",
      "         Install PhantomJS to workaround the issue. Please download it from https://phantomjs.org/download.html\n",
      "         n = ITREzFp61D43Z1Q0b ; player = https://www.youtube.com/s/player/9a279502/player_ias.vflset/en_US/base.js\n",
      "WARNING: [youtube] G2xFFH4HM28: nsig extraction failed: Some formats may be missing\n",
      "         Install PhantomJS to workaround the issue. Please download it from https://phantomjs.org/download.html\n",
      "         n = bvQ3PzSbQh94LhrqJ ; player = https://www.youtube.com/s/player/9a279502/player_ias.vflset/en_US/base.js\n",
      "WARNING: [youtube] G2xFFH4HM28: nsig extraction failed: Some formats may be missing\n",
      "         Install PhantomJS to workaround the issue. Please download it from https://phantomjs.org/download.html\n",
      "         n = qZajHwBnDjH8lhd9v ; player = https://www.youtube.com/s/player/9a279502/player_ias.vflset/en_US/base.js\n"
     ]
    },
    {
     "name": "stdout",
     "output_type": "stream",
     "text": [
      "[youtube] G2xFFH4HM28: Downloading m3u8 information\n",
      "[info] G2xFFH4HM28: Downloading 1 format(s): 270\n",
      "[hlsnative] Downloading m3u8 manifest\n",
      "[hlsnative] Total fragments: 184\n",
      "[download] Destination: full_video.mp4\n",
      "[download]  88.0% of ~   7.72GiB at    1.32MiB/s ETA 22:29 (frag 162/184)   "
     ]
    },
    {
     "name": "stderr",
     "output_type": "stream",
     "text": [
      "[download] Got error: (<urllib3.connection.HTTPSConnection object at 0x00000197F7092BB0>, 'Connection to rr3---sn-a5mekn6r.googlevideo.com timed out. (connect timeout=20.0)')\n"
     ]
    },
    {
     "name": "stdout",
     "output_type": "stream",
     "text": [
      "[download] fragment not found; Skipping fragment 163 ...\n",
      "[download]  99.4% of ~   6.87GiB at  761.91KiB/s ETA 06:51 (frag 183/184)  [download] Unable to rename file: [WinError 32] The process cannot access the file because it is being used by another process: 'full_video.mp4.part' -> 'full_video.mp4'. Retrying (1/3)...\n",
      "[download] Unable to rename file: [WinError 32] The process cannot access the file because it is being used by another process: 'full_video.mp4.part' -> 'full_video.mp4'. Retrying (2/3)...\n",
      "[download] Unable to rename file: [WinError 32] The process cannot access the file because it is being used by another process: 'full_video.mp4.part' -> 'full_video.mp4'. Retrying (3/3)...\n"
     ]
    },
    {
     "name": "stderr",
     "output_type": "stream",
     "text": [
      "ERROR: Unable to rename file: [WinError 32] The process cannot access the file because it is being used by another process: 'full_video.mp4.part' -> 'full_video.mp4'. Giving up after 3 retries\n"
     ]
    },
    {
     "name": "stdout",
     "output_type": "stream",
     "text": [
      "Error processing data_dir_10: ERROR: Unable to rename file: [WinError 32] The process cannot access the file because it is being used by another process: 'full_video.mp4.part' -> 'full_video.mp4'. Giving up after 3 retries\n",
      "[youtube] Extracting URL: https://www.youtube.com/watch?v=h8duHlbC93c\n",
      "[youtube] h8duHlbC93c: Downloading webpage\n",
      "[youtube] h8duHlbC93c: Downloading tv client config\n",
      "[youtube] h8duHlbC93c: Downloading player 6450230e\n",
      "[youtube] h8duHlbC93c: Downloading tv player API JSON\n",
      "[youtube] h8duHlbC93c: Downloading ios player API JSON\n"
     ]
    },
    {
     "name": "stderr",
     "output_type": "stream",
     "text": [
      "WARNING: [youtube] Falling back to generic n function search\n",
      "         player = https://www.youtube.com/s/player/6450230e/player_ias.vflset/en_US/base.js\n",
      "WARNING: [youtube] h8duHlbC93c: nsig extraction failed: Some formats may be missing\n",
      "         n = -yRcKyHGmmjT1AUk ; player = https://www.youtube.com/s/player/6450230e/player_ias.vflset/en_US/base.js\n",
      "WARNING: [youtube] Falling back to generic n function search\n",
      "         player = https://www.youtube.com/s/player/6450230e/player_ias.vflset/en_US/base.js\n",
      "WARNING: [youtube] h8duHlbC93c: nsig extraction failed: Some formats may be missing\n",
      "         n = yESfwM6lh6LQeES2 ; player = https://www.youtube.com/s/player/6450230e/player_ias.vflset/en_US/base.js\n",
      "WARNING: [youtube] Falling back to generic n function search\n",
      "         player = https://www.youtube.com/s/player/6450230e/player_ias.vflset/en_US/base.js\n",
      "WARNING: [youtube] h8duHlbC93c: nsig extraction failed: Some formats may be missing\n",
      "         n = 4Z8SvE06Wp9RaK4c ; player = https://www.youtube.com/s/player/6450230e/player_ias.vflset/en_US/base.js\n",
      "WARNING: [youtube] Falling back to generic n function search\n",
      "         player = https://www.youtube.com/s/player/6450230e/player_ias.vflset/en_US/base.js\n",
      "WARNING: [youtube] h8duHlbC93c: nsig extraction failed: Some formats may be missing\n",
      "         n = EeNijhD4W_mci4yI ; player = https://www.youtube.com/s/player/6450230e/player_ias.vflset/en_US/base.js\n"
     ]
    },
    {
     "name": "stdout",
     "output_type": "stream",
     "text": [
      "[youtube] h8duHlbC93c: Downloading m3u8 information\n",
      "[info] h8duHlbC93c: Downloading 1 format(s): 312\n",
      "[hlsnative] Downloading m3u8 manifest\n",
      "[hlsnative] Total fragments: 135\n",
      "[download] Destination: full_video.mp4\n",
      "[download] 100.0% of ~   7.23GiB at 1006.56KiB/s ETA 01:47 (frag 135/135)  [download] Unable to rename file: [WinError 32] The process cannot access the file because it is being used by another process: 'full_video.mp4.part' -> 'full_video.mp4'. Retrying (1/3)...\n",
      "[download] Unable to rename file: [WinError 32] The process cannot access the file because it is being used by another process: 'full_video.mp4.part' -> 'full_video.mp4'. Retrying (2/3)...\n",
      "[download] Unable to rename file: [WinError 32] The process cannot access the file because it is being used by another process: 'full_video.mp4.part' -> 'full_video.mp4'. Retrying (3/3)...\n"
     ]
    },
    {
     "name": "stderr",
     "output_type": "stream",
     "text": [
      "ERROR: Unable to rename file: [WinError 32] The process cannot access the file because it is being used by another process: 'full_video.mp4.part' -> 'full_video.mp4'. Giving up after 3 retries\n"
     ]
    },
    {
     "name": "stdout",
     "output_type": "stream",
     "text": [
      "Error processing data_dir_10: ERROR: Unable to rename file: [WinError 32] The process cannot access the file because it is being used by another process: 'full_video.mp4.part' -> 'full_video.mp4'. Giving up after 3 retries\n",
      "[youtube] Extracting URL: https://www.youtube.com/watch?v=lxVyzkFOD_U\n",
      "[youtube] lxVyzkFOD_U: Downloading webpage\n",
      "[youtube] lxVyzkFOD_U: Downloading tv client config\n",
      "[youtube] lxVyzkFOD_U: Downloading player 6450230e\n",
      "[youtube] lxVyzkFOD_U: Downloading tv player API JSON\n",
      "[youtube] lxVyzkFOD_U: Downloading ios player API JSON\n"
     ]
    },
    {
     "name": "stderr",
     "output_type": "stream",
     "text": [
      "WARNING: [youtube] Falling back to generic n function search\n",
      "         player = https://www.youtube.com/s/player/6450230e/player_ias.vflset/en_US/base.js\n",
      "WARNING: [youtube] lxVyzkFOD_U: nsig extraction failed: Some formats may be missing\n",
      "         n = Kwn51LM0JiACFVdv ; player = https://www.youtube.com/s/player/6450230e/player_ias.vflset/en_US/base.js\n",
      "WARNING: [youtube] Falling back to generic n function search\n",
      "         player = https://www.youtube.com/s/player/6450230e/player_ias.vflset/en_US/base.js\n",
      "WARNING: [youtube] lxVyzkFOD_U: nsig extraction failed: Some formats may be missing\n",
      "         n = TdGYbx933ovdbpsr ; player = https://www.youtube.com/s/player/6450230e/player_ias.vflset/en_US/base.js\n",
      "WARNING: [youtube] Falling back to generic n function search\n",
      "         player = https://www.youtube.com/s/player/6450230e/player_ias.vflset/en_US/base.js\n",
      "WARNING: [youtube] lxVyzkFOD_U: nsig extraction failed: Some formats may be missing\n",
      "         n = 7Rbe6aw-C2-SSJJ4 ; player = https://www.youtube.com/s/player/6450230e/player_ias.vflset/en_US/base.js\n",
      "WARNING: [youtube] Falling back to generic n function search\n",
      "         player = https://www.youtube.com/s/player/6450230e/player_ias.vflset/en_US/base.js\n",
      "WARNING: [youtube] lxVyzkFOD_U: nsig extraction failed: Some formats may be missing\n",
      "         n = qV7tiJgXVLxcn6Ir ; player = https://www.youtube.com/s/player/6450230e/player_ias.vflset/en_US/base.js\n"
     ]
    },
    {
     "name": "stdout",
     "output_type": "stream",
     "text": [
      "[youtube] lxVyzkFOD_U: Downloading m3u8 information\n",
      "[info] lxVyzkFOD_U: Downloading 1 format(s): 232\n",
      "[hlsnative] Downloading m3u8 manifest\n",
      "[hlsnative] Total fragments: 115\n",
      "[download] Destination: full_video.mp4\n",
      "[download] 100.0% of ~   7.37GiB at  495.55KiB/s ETA 07:34:37 (frag 115/115)[download] Unable to rename file: [WinError 32] The process cannot access the file because it is being used by another process: 'full_video.mp4.part' -> 'full_video.mp4'. Retrying (1/3)...\n",
      "[download] Unable to rename file: [WinError 32] The process cannot access the file because it is being used by another process: 'full_video.mp4.part' -> 'full_video.mp4'. Retrying (2/3)...\n",
      "[download] Unable to rename file: [WinError 32] The process cannot access the file because it is being used by another process: 'full_video.mp4.part' -> 'full_video.mp4'. Retrying (3/3)...\n"
     ]
    },
    {
     "name": "stderr",
     "output_type": "stream",
     "text": [
      "ERROR: Unable to rename file: [WinError 32] The process cannot access the file because it is being used by another process: 'full_video.mp4.part' -> 'full_video.mp4'. Giving up after 3 retries\n"
     ]
    },
    {
     "name": "stdout",
     "output_type": "stream",
     "text": [
      "Error processing data_dir_10: ERROR: Unable to rename file: [WinError 32] The process cannot access the file because it is being used by another process: 'full_video.mp4.part' -> 'full_video.mp4'. Giving up after 3 retries\n",
      "[youtube] Extracting URL: https://www.youtube.com/watch?v=MrLRnL4SbIo\n",
      "[youtube] MrLRnL4SbIo: Downloading webpage\n",
      "[youtube] MrLRnL4SbIo: Downloading tv client config\n",
      "[youtube] MrLRnL4SbIo: Downloading player 9a279502\n",
      "[youtube] MrLRnL4SbIo: Downloading tv player API JSON\n",
      "[youtube] MrLRnL4SbIo: Downloading ios player API JSON\n"
     ]
    },
    {
     "name": "stderr",
     "output_type": "stream",
     "text": [
      "WARNING: [youtube] MrLRnL4SbIo: nsig extraction failed: Some formats may be missing\n",
      "         Install PhantomJS to workaround the issue. Please download it from https://phantomjs.org/download.html\n",
      "         n = x4zBBRgyRdNcPo1iK ; player = https://www.youtube.com/s/player/9a279502/player_ias.vflset/en_US/base.js\n",
      "WARNING: [youtube] MrLRnL4SbIo: nsig extraction failed: Some formats may be missing\n",
      "         Install PhantomJS to workaround the issue. Please download it from https://phantomjs.org/download.html\n",
      "         n = 65NTglvP4z5idt9cZ ; player = https://www.youtube.com/s/player/9a279502/player_ias.vflset/en_US/base.js\n",
      "WARNING: [youtube] MrLRnL4SbIo: nsig extraction failed: Some formats may be missing\n",
      "         Install PhantomJS to workaround the issue. Please download it from https://phantomjs.org/download.html\n",
      "         n = 2u6tFR328_vOpE7Fz ; player = https://www.youtube.com/s/player/9a279502/player_ias.vflset/en_US/base.js\n",
      "WARNING: [youtube] MrLRnL4SbIo: nsig extraction failed: Some formats may be missing\n",
      "         Install PhantomJS to workaround the issue. Please download it from https://phantomjs.org/download.html\n",
      "         n = DalG7DbfpvUS5cPPH ; player = https://www.youtube.com/s/player/9a279502/player_ias.vflset/en_US/base.js\n"
     ]
    },
    {
     "name": "stdout",
     "output_type": "stream",
     "text": [
      "[youtube] MrLRnL4SbIo: Downloading m3u8 information\n",
      "[info] MrLRnL4SbIo: Downloading 1 format(s): 232\n",
      "[hlsnative] Downloading m3u8 manifest\n",
      "[hlsnative] Total fragments: 191\n",
      "[download] Destination: full_video.mp4\n",
      "[download]  19.9% of ~  37.31GiB at  994.70KiB/s ETA 15:21:34 (frag 38/191)"
     ]
    },
    {
     "name": "stderr",
     "output_type": "stream",
     "text": [
      "[download] Got error: (<urllib3.connection.HTTPSConnection object at 0x00000197F6F069D0>, 'Connection to rr4---sn-cvhelnll.googlevideo.com timed out. (connect timeout=20.0)')\n"
     ]
    },
    {
     "name": "stdout",
     "output_type": "stream",
     "text": [
      "[download] fragment not found; Skipping fragment 39 ...\n",
      "[download]  36.6% of ~  20.35GiB at  736.55KiB/s ETA 05:24:18 (frag 70/191)"
     ]
    },
    {
     "name": "stderr",
     "output_type": "stream",
     "text": [
      "[download] Got error: (<urllib3.connection.HTTPSConnection object at 0x00000197F705EEE0>, 'Connection to rr4---sn-cvhelnll.googlevideo.com timed out. (connect timeout=20.0)')\n"
     ]
    },
    {
     "name": "stdout",
     "output_type": "stream",
     "text": [
      "[download] fragment not found; Skipping fragment 72 ...\n",
      "[download]  98.9% of ~   7.69GiB at 1017.00KiB/s ETA 05:19 (frag 189/191)   [download] Unable to rename file: [WinError 32] The process cannot access the file because it is being used by another process: 'full_video.mp4.part' -> 'full_video.mp4'. Retrying (1/3)...\n",
      "[download] Unable to rename file: [WinError 32] The process cannot access the file because it is being used by another process: 'full_video.mp4.part' -> 'full_video.mp4'. Retrying (2/3)...\n",
      "[download] Unable to rename file: [WinError 32] The process cannot access the file because it is being used by another process: 'full_video.mp4.part' -> 'full_video.mp4'. Retrying (3/3)...\n"
     ]
    },
    {
     "name": "stderr",
     "output_type": "stream",
     "text": [
      "ERROR: Unable to rename file: [WinError 32] The process cannot access the file because it is being used by another process: 'full_video.mp4.part' -> 'full_video.mp4'. Giving up after 3 retries\n"
     ]
    },
    {
     "name": "stdout",
     "output_type": "stream",
     "text": [
      "Error processing data_dir_10: ERROR: Unable to rename file: [WinError 32] The process cannot access the file because it is being used by another process: 'full_video.mp4.part' -> 'full_video.mp4'. Giving up after 3 retries\n",
      "[youtube] Extracting URL: https://www.youtube.com/watch?v=MpMSomm_mJ8\n",
      "[youtube] MpMSomm_mJ8: Downloading webpage\n",
      "[youtube] MpMSomm_mJ8: Downloading tv client config\n",
      "[youtube] MpMSomm_mJ8: Downloading player 6450230e\n",
      "[youtube] MpMSomm_mJ8: Downloading tv player API JSON\n",
      "[youtube] MpMSomm_mJ8: Downloading ios player API JSON\n"
     ]
    },
    {
     "name": "stderr",
     "output_type": "stream",
     "text": [
      "WARNING: [youtube] Falling back to generic n function search\n",
      "         player = https://www.youtube.com/s/player/6450230e/player_ias.vflset/en_US/base.js\n",
      "WARNING: [youtube] MpMSomm_mJ8: nsig extraction failed: Some formats may be missing\n",
      "         n = kaOtdG4bQqsiVXJ0 ; player = https://www.youtube.com/s/player/6450230e/player_ias.vflset/en_US/base.js\n",
      "WARNING: [youtube] Falling back to generic n function search\n",
      "         player = https://www.youtube.com/s/player/6450230e/player_ias.vflset/en_US/base.js\n",
      "WARNING: [youtube] MpMSomm_mJ8: nsig extraction failed: Some formats may be missing\n",
      "         n = _QokBz6qg3RACSQ9 ; player = https://www.youtube.com/s/player/6450230e/player_ias.vflset/en_US/base.js\n",
      "WARNING: [youtube] Falling back to generic n function search\n",
      "         player = https://www.youtube.com/s/player/6450230e/player_ias.vflset/en_US/base.js\n",
      "WARNING: [youtube] MpMSomm_mJ8: nsig extraction failed: Some formats may be missing\n",
      "         n = fMIfhVjxkvdc0dJ1 ; player = https://www.youtube.com/s/player/6450230e/player_ias.vflset/en_US/base.js\n",
      "WARNING: [youtube] Falling back to generic n function search\n",
      "         player = https://www.youtube.com/s/player/6450230e/player_ias.vflset/en_US/base.js\n",
      "WARNING: [youtube] MpMSomm_mJ8: nsig extraction failed: Some formats may be missing\n",
      "         n = HQ1FK6orIdQxiL39 ; player = https://www.youtube.com/s/player/6450230e/player_ias.vflset/en_US/base.js\n"
     ]
    },
    {
     "name": "stdout",
     "output_type": "stream",
     "text": [
      "[youtube] MpMSomm_mJ8: Downloading m3u8 information\n",
      "[info] MpMSomm_mJ8: Downloading 1 format(s): 231\n",
      "[hlsnative] Downloading m3u8 manifest\n",
      "[hlsnative] Total fragments: 192\n",
      "[download] Destination: full_video.mp4\n",
      "[download] 100.0% of ~   7.69GiB at  262.07KiB/s ETA 17:42 (frag 192/192)   [download] Unable to rename file: [WinError 32] The process cannot access the file because it is being used by another process: 'full_video.mp4.part' -> 'full_video.mp4'. Retrying (1/3)...\n",
      "[download] Unable to rename file: [WinError 32] The process cannot access the file because it is being used by another process: 'full_video.mp4.part' -> 'full_video.mp4'. Retrying (2/3)...\n",
      "[download] Unable to rename file: [WinError 32] The process cannot access the file because it is being used by another process: 'full_video.mp4.part' -> 'full_video.mp4'. Retrying (3/3)...\n"
     ]
    },
    {
     "name": "stderr",
     "output_type": "stream",
     "text": [
      "ERROR: Unable to rename file: [WinError 32] The process cannot access the file because it is being used by another process: 'full_video.mp4.part' -> 'full_video.mp4'. Giving up after 3 retries\n"
     ]
    },
    {
     "name": "stdout",
     "output_type": "stream",
     "text": [
      "Error processing data_dir_10: ERROR: Unable to rename file: [WinError 32] The process cannot access the file because it is being used by another process: 'full_video.mp4.part' -> 'full_video.mp4'. Giving up after 3 retries\n",
      "[youtube] Extracting URL: https://www.youtube.com/watch?v=Ivlsbq-cE9o\n",
      "[youtube] Ivlsbq-cE9o: Downloading webpage\n",
      "[youtube] Ivlsbq-cE9o: Downloading tv client config\n",
      "[youtube] Ivlsbq-cE9o: Downloading player 9a279502\n",
      "[youtube] Ivlsbq-cE9o: Downloading tv player API JSON\n",
      "[youtube] Ivlsbq-cE9o: Downloading ios player API JSON\n"
     ]
    },
    {
     "name": "stderr",
     "output_type": "stream",
     "text": [
      "WARNING: [youtube] Ivlsbq-cE9o: nsig extraction failed: Some formats may be missing\n",
      "         Install PhantomJS to workaround the issue. Please download it from https://phantomjs.org/download.html\n",
      "         n = YneQI1VeOeeYB0zEJ ; player = https://www.youtube.com/s/player/9a279502/player_ias.vflset/en_US/base.js\n",
      "WARNING: [youtube] Ivlsbq-cE9o: nsig extraction failed: Some formats may be missing\n",
      "         Install PhantomJS to workaround the issue. Please download it from https://phantomjs.org/download.html\n",
      "         n = 7Ix5x74CwlP1H5NOV ; player = https://www.youtube.com/s/player/9a279502/player_ias.vflset/en_US/base.js\n",
      "WARNING: [youtube] Ivlsbq-cE9o: nsig extraction failed: Some formats may be missing\n",
      "         Install PhantomJS to workaround the issue. Please download it from https://phantomjs.org/download.html\n",
      "         n = r9XFL4mqNTeqTZMhy ; player = https://www.youtube.com/s/player/9a279502/player_ias.vflset/en_US/base.js\n",
      "WARNING: [youtube] Ivlsbq-cE9o: nsig extraction failed: Some formats may be missing\n",
      "         Install PhantomJS to workaround the issue. Please download it from https://phantomjs.org/download.html\n",
      "         n = hQB3TEsI3mcBHTVX7 ; player = https://www.youtube.com/s/player/9a279502/player_ias.vflset/en_US/base.js\n"
     ]
    },
    {
     "name": "stdout",
     "output_type": "stream",
     "text": [
      "[youtube] Ivlsbq-cE9o: Downloading m3u8 information\n",
      "[info] Ivlsbq-cE9o: Downloading 1 format(s): 270\n",
      "[hlsnative] Downloading m3u8 manifest\n",
      "[hlsnative] Total fragments: 164\n",
      "[download] Destination: full_video.mp4\n",
      "[download]  15.8% of ~  48.93GiB at    1.14MiB/s ETA 46:14:49 (frag 26/164)"
     ]
    },
    {
     "name": "stderr",
     "output_type": "stream",
     "text": [
      "[download] Got error: (<urllib3.connection.HTTPSConnection object at 0x00000197F8515190>, 'Connection to rr11---sn-ci5gup-h55l.googlevideo.com timed out. (connect timeout=20.0)')\n"
     ]
    },
    {
     "name": "stdout",
     "output_type": "stream",
     "text": [
      "[download] fragment not found; Skipping fragment 27 ...\n",
      "[download]  31.7% of ~  24.62GiB at    1.26MiB/s ETA 09:45:12 (frag 52/164)"
     ]
    },
    {
     "name": "stderr",
     "output_type": "stream",
     "text": [
      "[download] Got error: (<urllib3.connection.HTTPSConnection object at 0x00000197F85667C0>, 'Connection to rr11---sn-ci5gup-h55l.googlevideo.com timed out. (connect timeout=20.0)')\n"
     ]
    },
    {
     "name": "stdout",
     "output_type": "stream",
     "text": [
      "[download] fragment not found; Skipping fragment 54 ...\n",
      "[download]  49.4% of ~  15.95GiB at    1.16MiB/s ETA 03:36:35 (frag 81/164)"
     ]
    },
    {
     "name": "stderr",
     "output_type": "stream",
     "text": [
      "[download] Got error: (<urllib3.connection.HTTPSConnection object at 0x00000197F67BCBE0>, 'Connection to rr11---sn-ci5gup-h55l.googlevideo.com timed out. (connect timeout=20.0)')\n"
     ]
    },
    {
     "name": "stdout",
     "output_type": "stream",
     "text": [
      "[download] fragment not found; Skipping fragment 84 ...\n",
      "[download]  65.8% of ~  12.08GiB at  992.44KiB/s ETA 01:22:30 (frag 108/164)"
     ]
    },
    {
     "name": "stderr",
     "output_type": "stream",
     "text": [
      "[download] Got error: (<urllib3.connection.HTTPSConnection object at 0x00000197F81CBBB0>, 'Connection to rr11---sn-ci5gup-h55l.googlevideo.com timed out. (connect timeout=20.0)')\n"
     ]
    },
    {
     "name": "stdout",
     "output_type": "stream",
     "text": [
      "[download] fragment not found; Skipping fragment 112 ...\n"
     ]
    },
    {
     "name": "stderr",
     "output_type": "stream",
     "text": [
      "[download] Got error: (<urllib3.connection.HTTPSConnection object at 0x00000197F6FFEB50>, 'Connection to rr11---sn-ci5gup-h55l.googlevideo.com timed out. (connect timeout=20.0)')\n"
     ]
    },
    {
     "name": "stdout",
     "output_type": "stream",
     "text": [
      "[download] fragment not found; Skipping fragment 113 ...\n"
     ]
    }
   ],
   "source": [
    "from data.prepare_data import prepare_data\n",
    "\n",
    "# Prepare data\n",
    "prepare_data(ds, \"./dataset\", offset_no=10)"
   ]
  }
 ],
 "metadata": {
  "kernelspec": {
   "display_name": "clip4mc",
   "language": "python",
   "name": "python3"
  },
  "language_info": {
   "codemirror_mode": {
    "name": "ipython",
    "version": 3
   },
   "file_extension": ".py",
   "mimetype": "text/x-python",
   "name": "python",
   "nbconvert_exporter": "python",
   "pygments_lexer": "ipython3",
   "version": "3.9.21"
  }
 },
 "nbformat": 4,
 "nbformat_minor": 2
}
