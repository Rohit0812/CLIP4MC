{
 "cells": [
  {
   "cell_type": "code",
   "execution_count": 2,
   "metadata": {},
   "outputs": [
    {
     "name": "stderr",
     "output_type": "stream",
     "text": [
      "c:\\D\\miniconda\\envs\\clip4mc\\lib\\site-packages\\tqdm\\auto.py:21: TqdmWarning: IProgress not found. Please update jupyter and ipywidgets. See https://ipywidgets.readthedocs.io/en/stable/user_install.html\n",
      "  from .autonotebook import tqdm as notebook_tqdm\n"
     ]
    }
   ],
   "source": [
    "from datasets import load_dataset, load_from_disk\n",
    "\n",
    "ds = load_from_disk(\"./dataset/\")\n",
    "#ds = load_dataset(\"AnonymousUserCLIP4MC/CLIP4MC\")"
   ]
  },
  {
   "cell_type": "code",
   "execution_count": null,
   "metadata": {},
   "outputs": [],
   "source": [
    "ds.save_to_disk(\"./dataset/\")"
   ]
  },
  {
   "cell_type": "code",
   "execution_count": 7,
   "metadata": {},
   "outputs": [
    {
     "data": {
      "text/plain": [
       "{'vid': '-1ZE5GOu9_Y',\n",
       " 'size': [0.41875,\n",
       "  0.4375,\n",
       "  0.43125,\n",
       "  0.4625,\n",
       "  0.45,\n",
       "  0.45625000000000004,\n",
       "  0.45625000000000004,\n",
       "  0.4625,\n",
       "  0.4625,\n",
       "  0.4625,\n",
       "  0.4625,\n",
       "  0.4625,\n",
       "  0.4625,\n",
       "  0.4625,\n",
       "  0.4625,\n",
       "  0.4625],\n",
       " 'transcript clip': 'i do not even know if the people who baked the cake leant to the minecraft cake or if this minecraft cake maybe came out of this picture .',\n",
       " 'begin position': 64.8,\n",
       " 'end position': 68.0}"
      ]
     },
     "execution_count": 7,
     "metadata": {},
     "output_type": "execute_result"
    }
   ],
   "source": [
    "ds['train'][0]"
   ]
  },
  {
   "cell_type": "code",
   "execution_count": null,
   "metadata": {},
   "outputs": [],
   "source": []
  },
  {
   "cell_type": "code",
   "execution_count": null,
   "metadata": {},
   "outputs": [
    {
     "name": "stderr",
     "output_type": "stream",
     "text": [
      "Saving the dataset (1/1 shards): 100%|██████████| 1280000/1280000 [00:00<00:00, 1386223.13 examples/s]\n",
      "Saving the dataset (1/1 shards): 100%|██████████| 2202/2202 [00:00<00:00, 249146.41 examples/s]\n"
     ]
    }
   ],
   "source": []
  },
  {
   "cell_type": "code",
   "execution_count": 5,
   "metadata": {},
   "outputs": [
    {
     "name": "stdout",
     "output_type": "stream",
     "text": [
      "[youtube] Extracting URL: https://www.youtube.com/watch?v=TIRzniTsh8Q\n",
      "[youtube] TIRzniTsh8Q: Downloading webpage\n",
      "[youtube] TIRzniTsh8Q: Downloading tv client config\n",
      "[youtube] TIRzniTsh8Q: Downloading player 7795af42\n",
      "[youtube] TIRzniTsh8Q: Downloading tv player API JSON\n",
      "[youtube] TIRzniTsh8Q: Downloading ios player API JSON\n",
      "[youtube] TIRzniTsh8Q: Downloading m3u8 information\n"
     ]
    },
    {
     "name": "stderr",
     "output_type": "stream",
     "text": [
      "WARNING: ffmpeg not found. The downloaded format may not be the best available. Installing ffmpeg is strongly recommended: https://github.com/yt-dlp/yt-dlp#dependencies\n"
     ]
    },
    {
     "name": "stdout",
     "output_type": "stream",
     "text": [
      "[info] TIRzniTsh8Q: Downloading 1 format(s): 18\n",
      "[download] Destination: temp_video.mp4\n",
      "[download] 100% of  102.70MiB in 00:00:32 at 3.15MiB/s     \n"
     ]
    },
    {
     "data": {
      "text/plain": [
       "'\\n# Read video and extract frames\\nframes = []\\ncap = cv2.VideoCapture(\"temp_video.mp4\")\\nwhile cap.isOpened():\\n    ret, frame = cap.read()\\n    if not ret:\\n        break\\n    frames.append(frame)\\ncap.release()\\n\\n# Save frames as pickle\\nwith open(output_path, \"wb\") as f:\\n    pickle.dump(frames, f)\\n\\n# Cleanup temporary video\\nos.remove(\"temp_video.mp4\")\\n\\nprint(f\"Extracted {len(frames)} frames and saved in \\'video_frames.pkl\\'\")\\n'"
      ]
     },
     "execution_count": 5,
     "metadata": {},
     "output_type": "execute_result"
    }
   ],
   "source": [
    "import pickle\n",
    "import yt_dlp\n",
    "import cv2\n",
    "import os\n",
    "\n",
    "video_url = \"https://www.youtube.com/watch?v=TIRzniTsh8Q\"\n",
    "output_path = \"./dataset/data_dir_0/video_input.pkl\" \n",
    "\n",
    "\n",
    "# Download video file\n",
    "ydl_opts = {\n",
    "    #'format': 'bestvideo',\n",
    "    \"download_sections\": { \"*\": [(10, 30)] },\n",
    "    'outtmpl': 'temp_video.mp4',  # Save video temporarily\n",
    "}\n",
    "\n",
    "with yt_dlp.YoutubeDL(ydl_opts) as ydl:\n",
    "    ydl.download([video_url])\n",
    "\"\"\"\n",
    "# Read video and extract frames\n",
    "frames = []\n",
    "cap = cv2.VideoCapture(\"temp_video.mp4\")\n",
    "while cap.isOpened():\n",
    "    ret, frame = cap.read()\n",
    "    if not ret:\n",
    "        break\n",
    "    frames.append(frame)\n",
    "cap.release()\n",
    "\n",
    "# Save frames as pickle\n",
    "with open(output_path, \"wb\") as f:\n",
    "    pickle.dump(frames, f)\n",
    "\n",
    "# Cleanup temporary video\n",
    "os.remove(\"temp_video.mp4\")\n",
    "\n",
    "print(f\"Extracted {len(frames)} frames and saved in 'video_frames.pkl'\")\n",
    "\"\"\"\n"
   ]
  },
  {
   "cell_type": "code",
   "execution_count": 19,
   "metadata": {},
   "outputs": [
    {
     "data": {
      "text/plain": [
       "'\\n# Define paths\\nvideo_url = \"https://www.youtube.com/watch?v=TIRzniTsh8Q\"\\ndownloaded_video = \"full_video.mp4\"\\nclipped_video = \"clipped_video.mp4\"\\npickle_output = \"./dataset/data_dir_0/video_input.pkl\"\\n\\n# Ensure output directory exists\\nos.makedirs(os.path.dirname(pickle_output), exist_ok=True)\\n\\n# Step 1: Download video\\ndownload_video(video_url, downloaded_video)\\n\\n# Step 2: Clip between 10s-30s\\nclip_video(downloaded_video, 10, 30, clipped_video)\\n\\n# Step 3: Save clipped video as pickle\\nsave_as_pickle(clipped_video, pickle_output)\\n\\n# Step 4: Delete videos.\\nos.remove(downloaded_video)\\nos.remove(clipped_video)\\n\\nprint(f\"Video clipped and saved as pickle: {pickle_output}\")\\n'"
      ]
     },
     "execution_count": 19,
     "metadata": {},
     "output_type": "execute_result"
    }
   ],
   "source": [
    "import yt_dlp\n",
    "import ffmpeg\n",
    "import pickle\n",
    "import os\n",
    "from transformers import AutoTokenizer\n",
    "\n",
    "tokenizer = AutoTokenizer.from_pretrained(\"openai/clip-vit-base-patch32\")\n",
    "\n",
    "def download_video(video_url: str, output_file: str):\n",
    "    \"\"\"Downloads the best video and audio and merges them into a single file.\"\"\"\n",
    "    ydl_opts = {\n",
    "        \"format\": \"bestvideo\",\n",
    "        \"outtmpl\": output_file,\n",
    "        \"merge_output_format\": \"mp4\",  # Ensure merged MP4 output\n",
    "    }\n",
    "\n",
    "    with yt_dlp.YoutubeDL(ydl_opts) as ydl:\n",
    "        ydl.download([video_url])\n",
    "\n",
    "def clip_video(input_file: str, start_time: int, end_time: int, output_file: str):\n",
    "    \"\"\"Clips the video using FFmpeg.\"\"\"\n",
    "    ffmpeg.input(input_file, ss=start_time, to=end_time).output(output_file, vcodec=\"libx264\", acodec=\"aac\").run()\n",
    "\n",
    "def save_as_pickle(video_path: str, ti_data: list, size: list, pickle_path: str, pickle_output_ti: str, pickle_output_size: str):\n",
    "    \"\"\"Reads video data and saves it as a pickle file.\"\"\"\n",
    "    with open(video_path, \"rb\") as f:\n",
    "        video_data = f.read()\n",
    "    \n",
    "    with open(pickle_path, \"wb\") as f:\n",
    "        pickle.dump(video_data, f)\n",
    "\n",
    "    with open(pickle_output_ti, \"wb\") as f:\n",
    "        pickle.dump(ti_data, f)\n",
    "\n",
    "    with open(pickle_output_size, \"wb\") as f:\n",
    "        pickle.dump(size, f)\n",
    "\n",
    "\"\"\"\n",
    "# Define paths\n",
    "video_url = \"https://www.youtube.com/watch?v=TIRzniTsh8Q\"\n",
    "downloaded_video = \"full_video.mp4\"\n",
    "clipped_video = \"clipped_video.mp4\"\n",
    "pickle_output = \"./dataset/data_dir_0/video_input.pkl\"\n",
    "\n",
    "# Ensure output directory exists\n",
    "os.makedirs(os.path.dirname(pickle_output), exist_ok=True)\n",
    "\n",
    "# Step 1: Download video\n",
    "download_video(video_url, downloaded_video)\n",
    "\n",
    "# Step 2: Clip between 10s-30s\n",
    "clip_video(downloaded_video, 10, 30, clipped_video)\n",
    "\n",
    "# Step 3: Save clipped video as pickle\n",
    "save_as_pickle(clipped_video, pickle_output)\n",
    "\n",
    "# Step 4: Delete videos.\n",
    "os.remove(downloaded_video)\n",
    "os.remove(clipped_video)\n",
    "\n",
    "print(f\"Video clipped and saved as pickle: {pickle_output}\")\n",
    "\"\"\"\n"
   ]
  },
  {
   "cell_type": "code",
   "execution_count": 21,
   "metadata": {},
   "outputs": [
    {
     "name": "stdout",
     "output_type": "stream",
     "text": [
      "[youtube] Extracting URL: https://www.youtube.com/watch?v=fR5ZlT95CiM\n",
      "[youtube] fR5ZlT95CiM: Downloading webpage\n",
      "[youtube] fR5ZlT95CiM: Downloading tv client config\n",
      "[youtube] fR5ZlT95CiM: Downloading player 7795af42\n",
      "[youtube] fR5ZlT95CiM: Downloading tv player API JSON\n",
      "[youtube] fR5ZlT95CiM: Downloading ios player API JSON\n",
      "[youtube] fR5ZlT95CiM: Downloading MPD manifest\n",
      "[youtube] fR5ZlT95CiM: Downloading m3u8 information\n",
      "[youtube] fR5ZlT95CiM: Downloading MPD manifest\n",
      "[info] fR5ZlT95CiM: Downloading 1 format(s): 299\n",
      "[download] Destination: full_video.mp4\n",
      "[download] 100% of  674.57MiB in 00:05:22 at 2.09MiB/s      \n",
      "[youtube] Extracting URL: https://www.youtube.com/watch?v=NJwnLdAfl3o\n",
      "[youtube] NJwnLdAfl3o: Downloading webpage\n",
      "[youtube] NJwnLdAfl3o: Downloading tv client config\n",
      "[youtube] NJwnLdAfl3o: Downloading player 7795af42\n",
      "[youtube] NJwnLdAfl3o: Downloading tv player API JSON\n",
      "[youtube] NJwnLdAfl3o: Downloading ios player API JSON\n",
      "[youtube] NJwnLdAfl3o: Downloading m3u8 information\n",
      "[info] NJwnLdAfl3o: Downloading 1 format(s): 137\n",
      "[download] Destination: full_video.mp4\n",
      "[download] 100% of   85.25MiB in 00:00:46 at 1.83MiB/s     \n",
      "[youtube] Extracting URL: https://www.youtube.com/watch?v=NJwnLdAfl3o\n",
      "[youtube] NJwnLdAfl3o: Downloading webpage\n",
      "[youtube] NJwnLdAfl3o: Downloading tv client config\n",
      "[youtube] NJwnLdAfl3o: Downloading player 7795af42\n",
      "[youtube] NJwnLdAfl3o: Downloading tv player API JSON\n",
      "[youtube] NJwnLdAfl3o: Downloading ios player API JSON\n",
      "[youtube] NJwnLdAfl3o: Downloading m3u8 information\n",
      "[info] NJwnLdAfl3o: Downloading 1 format(s): 137\n",
      "[download] Destination: full_video.mp4\n",
      "[download] 100% of   85.25MiB in 00:00:20 at 4.16MiB/s     \n",
      "[youtube] Extracting URL: https://www.youtube.com/watch?v=TIRzniTsh8Q\n",
      "[youtube] TIRzniTsh8Q: Downloading webpage\n",
      "[youtube] TIRzniTsh8Q: Downloading tv client config\n",
      "[youtube] TIRzniTsh8Q: Downloading player 7795af42\n",
      "[youtube] TIRzniTsh8Q: Downloading tv player API JSON\n",
      "[youtube] TIRzniTsh8Q: Downloading ios player API JSON\n",
      "[youtube] TIRzniTsh8Q: Downloading m3u8 information\n",
      "[info] TIRzniTsh8Q: Downloading 1 format(s): 137\n",
      "[download] Destination: full_video.mp4\n",
      "[download] 100% of  576.74MiB in 00:02:39 at 3.62MiB/s      \n"
     ]
    }
   ],
   "source": [
    "for i in range(1, 5):\n",
    "    dict_ = ds['train'][i]\n",
    "\n",
    "    # Define paths\n",
    "    video_url = f\"https://www.youtube.com/watch?v={dict_['vid']}\"\n",
    "    downloaded_video = \"full_video.mp4\"\n",
    "    clipped_video = \"clipped_video.mp4\"\n",
    "    pickle_output_vi = f\"./dataset/data_dir_{i}/video_input.pkl\"\n",
    "    pickle_output_ti = f\"./dataset/data_dir_{i}/text_input.pkl\"\n",
    "    pickle_output_size = f\"./dataset/data_dir_{i}/size.json\"\n",
    "\n",
    "    text = tokenizer.tokenize(dict_['transcript clip'])\n",
    "    size = dict_['size']\n",
    "\n",
    "    # Ensure output directory exists\n",
    "    os.makedirs(os.path.dirname(pickle_output_vi), exist_ok=True)\n",
    "\n",
    "    # Step 1: Download video\n",
    "    download_video(video_url, downloaded_video)\n",
    "\n",
    "    # Step 2: Clip between 10s-30s\n",
    "    clip_video(downloaded_video, dict_['begin position'], dict_['end position'], clipped_video)\n",
    "\n",
    "    # Step 3: Save clipped video as pickle\n",
    "    save_as_pickle(clipped_video, text, size, pickle_output_vi, pickle_output_ti, pickle_output_size)\n",
    "\n",
    "    # Step 4: Delete videos.\n",
    "    os.remove(downloaded_video)\n",
    "    os.remove(clipped_video)\n",
    "\n",
    "    #print(f\"Video clipped and saved as pickle: {pickle_output}\")"
   ]
  }
 ],
 "metadata": {
  "kernelspec": {
   "display_name": "base",
   "language": "python",
   "name": "python3"
  },
  "language_info": {
   "codemirror_mode": {
    "name": "ipython",
    "version": 3
   },
   "file_extension": ".py",
   "mimetype": "text/x-python",
   "name": "python",
   "nbconvert_exporter": "python",
   "pygments_lexer": "ipython3",
   "version": "3.12.3"
  }
 },
 "nbformat": 4,
 "nbformat_minor": 2
}
